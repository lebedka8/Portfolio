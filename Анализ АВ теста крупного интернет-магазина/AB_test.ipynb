{
 "cells": [
  {
   "cell_type": "markdown",
   "metadata": {},
   "source": [
    "# Анализ А/В теста крупного интернет-магазина"
   ]
  },
  {
   "cell_type": "markdown",
   "metadata": {},
   "source": [
    "***\n",
    "*В нашем распоряжении данные крупного интернет-магазина. А также список гипотез для увеличения выручки, подготовленных совместно с отделом маркетинга.*\n",
    "\n",
    "***Цель исследования*** *- приоритизировать гипотезы, запустить A/B-тест и проанализировать результаты.*\n",
    "\n",
    "***Ход исследования:***\n",
    "\n",
    "***1.*** *Приоритизация гипотез методами ICE и RICE, сравнение результатов показателей*\n",
    "\n",
    "***2.*** *Подготовка данных*\n",
    "\n",
    "***3.*** *Анализ А/Б теста*\n",
    "\n",
    "***3.*** *Вывод*\n",
    "\n",
    "***"
   ]
  },
  {
   "cell_type": "markdown",
   "metadata": {},
   "source": [
    "## Приоритизация гипотез"
   ]
  },
  {
   "cell_type": "code",
   "execution_count": 1,
   "metadata": {},
   "outputs": [],
   "source": [
    "import pandas as pd                                                                         # импортируем библиотеку pandas\n",
    "import matplotlib.pyplot as plt                                                         # импортируем библиотеку matplotlib\n",
    "import datetime as dt                                                              # импортируем модуль для работы с датами\n",
    "import numpy as np                                                                           # импортируем библиотеку numpy\n",
    "from scipy import stats as st                                                                # импортируем библиотеку scipy\n",
    "import scipy.stats as stats"
   ]
  },
  {
   "cell_type": "code",
   "execution_count": 2,
   "metadata": {},
   "outputs": [
    {
     "data": {
      "text/html": [
       "<div>\n",
       "<style scoped>\n",
       "    .dataframe tbody tr th:only-of-type {\n",
       "        vertical-align: middle;\n",
       "    }\n",
       "\n",
       "    .dataframe tbody tr th {\n",
       "        vertical-align: top;\n",
       "    }\n",
       "\n",
       "    .dataframe thead th {\n",
       "        text-align: right;\n",
       "    }\n",
       "</style>\n",
       "<table border=\"1\" class=\"dataframe\">\n",
       "  <thead>\n",
       "    <tr style=\"text-align: right;\">\n",
       "      <th></th>\n",
       "      <th>hypothesis</th>\n",
       "      <th>reach</th>\n",
       "      <th>impact</th>\n",
       "      <th>confidence</th>\n",
       "      <th>efforts</th>\n",
       "    </tr>\n",
       "  </thead>\n",
       "  <tbody>\n",
       "    <tr>\n",
       "      <th>0</th>\n",
       "      <td>Добавить два новых канала привлечения трафика, что позволит привлекать на 30% больше пользователей</td>\n",
       "      <td>3</td>\n",
       "      <td>10</td>\n",
       "      <td>8</td>\n",
       "      <td>6</td>\n",
       "    </tr>\n",
       "    <tr>\n",
       "      <th>1</th>\n",
       "      <td>Запустить собственную службу доставки, что сократит срок доставки заказов</td>\n",
       "      <td>2</td>\n",
       "      <td>5</td>\n",
       "      <td>4</td>\n",
       "      <td>10</td>\n",
       "    </tr>\n",
       "    <tr>\n",
       "      <th>2</th>\n",
       "      <td>Добавить блоки рекомендаций товаров на сайт интернет магазина, чтобы повысить конверсию и средний чек заказа</td>\n",
       "      <td>8</td>\n",
       "      <td>3</td>\n",
       "      <td>7</td>\n",
       "      <td>3</td>\n",
       "    </tr>\n",
       "    <tr>\n",
       "      <th>3</th>\n",
       "      <td>Изменить структура категорий, что увеличит конверсию, т.к. пользователи быстрее найдут нужный товар</td>\n",
       "      <td>8</td>\n",
       "      <td>3</td>\n",
       "      <td>3</td>\n",
       "      <td>8</td>\n",
       "    </tr>\n",
       "    <tr>\n",
       "      <th>4</th>\n",
       "      <td>Изменить цвет фона главной страницы, чтобы увеличить вовлеченность пользователей</td>\n",
       "      <td>3</td>\n",
       "      <td>1</td>\n",
       "      <td>1</td>\n",
       "      <td>1</td>\n",
       "    </tr>\n",
       "  </tbody>\n",
       "</table>\n",
       "</div>"
      ],
      "text/plain": [
       "                                                                                                     hypothesis  \\\n",
       "0            Добавить два новых канала привлечения трафика, что позволит привлекать на 30% больше пользователей   \n",
       "1                                     Запустить собственную службу доставки, что сократит срок доставки заказов   \n",
       "2  Добавить блоки рекомендаций товаров на сайт интернет магазина, чтобы повысить конверсию и средний чек заказа   \n",
       "3           Изменить структура категорий, что увеличит конверсию, т.к. пользователи быстрее найдут нужный товар   \n",
       "4                              Изменить цвет фона главной страницы, чтобы увеличить вовлеченность пользователей   \n",
       "\n",
       "   reach  impact  confidence  efforts  \n",
       "0      3      10           8        6  \n",
       "1      2       5           4       10  \n",
       "2      8       3           7        3  \n",
       "3      8       3           3        8  \n",
       "4      3       1           1        1  "
      ]
     },
     "execution_count": 2,
     "metadata": {},
     "output_type": "execute_result"
    }
   ],
   "source": [
    "try:                                                                                                  # открываем датафрейм\n",
    "    hypotheses = pd.read_csv('')                                    \n",
    "except: \n",
    "    hypotheses = pd.read_csv('')\n",
    "pd.set_option('display.max_colwidth',None)                            #приведем к виду отображения всех столбцоф датафрейма\n",
    "hypotheses.columns = map(str.lower, hypotheses.columns)\n",
    "hypotheses.head()                                                                       # выведем первые пять строк таблицы"
   ]
  },
  {
   "cell_type": "code",
   "execution_count": 3,
   "metadata": {},
   "outputs": [
    {
     "data": {
      "text/html": [
       "<div>\n",
       "<style scoped>\n",
       "    .dataframe tbody tr th:only-of-type {\n",
       "        vertical-align: middle;\n",
       "    }\n",
       "\n",
       "    .dataframe tbody tr th {\n",
       "        vertical-align: top;\n",
       "    }\n",
       "\n",
       "    .dataframe thead th {\n",
       "        text-align: right;\n",
       "    }\n",
       "</style>\n",
       "<table border=\"1\" class=\"dataframe\">\n",
       "  <thead>\n",
       "    <tr style=\"text-align: right;\">\n",
       "      <th></th>\n",
       "      <th>hypothesis</th>\n",
       "      <th>ICE</th>\n",
       "    </tr>\n",
       "  </thead>\n",
       "  <tbody>\n",
       "    <tr>\n",
       "      <th>8</th>\n",
       "      <td>Запустить акцию, дающую скидку на товар в день рождения</td>\n",
       "      <td>16.2</td>\n",
       "    </tr>\n",
       "    <tr>\n",
       "      <th>0</th>\n",
       "      <td>Добавить два новых канала привлечения трафика, что позволит привлекать на 30% больше пользователей</td>\n",
       "      <td>13.3</td>\n",
       "    </tr>\n",
       "    <tr>\n",
       "      <th>7</th>\n",
       "      <td>Добавить форму подписки на все основные страницы, чтобы собрать базу клиентов для email-рассылок</td>\n",
       "      <td>11.2</td>\n",
       "    </tr>\n",
       "    <tr>\n",
       "      <th>6</th>\n",
       "      <td>Показать на главной странице баннеры с актуальными акциями и распродажами, чтобы увеличить конверсию</td>\n",
       "      <td>8.0</td>\n",
       "    </tr>\n",
       "    <tr>\n",
       "      <th>2</th>\n",
       "      <td>Добавить блоки рекомендаций товаров на сайт интернет магазина, чтобы повысить конверсию и средний чек заказа</td>\n",
       "      <td>7.0</td>\n",
       "    </tr>\n",
       "    <tr>\n",
       "      <th>1</th>\n",
       "      <td>Запустить собственную службу доставки, что сократит срок доставки заказов</td>\n",
       "      <td>2.0</td>\n",
       "    </tr>\n",
       "    <tr>\n",
       "      <th>5</th>\n",
       "      <td>Добавить страницу отзывов клиентов о магазине, что позволит увеличить количество заказов</td>\n",
       "      <td>1.3</td>\n",
       "    </tr>\n",
       "    <tr>\n",
       "      <th>3</th>\n",
       "      <td>Изменить структура категорий, что увеличит конверсию, т.к. пользователи быстрее найдут нужный товар</td>\n",
       "      <td>1.1</td>\n",
       "    </tr>\n",
       "    <tr>\n",
       "      <th>4</th>\n",
       "      <td>Изменить цвет фона главной страницы, чтобы увеличить вовлеченность пользователей</td>\n",
       "      <td>1.0</td>\n",
       "    </tr>\n",
       "  </tbody>\n",
       "</table>\n",
       "</div>"
      ],
      "text/plain": [
       "                                                                                                     hypothesis  \\\n",
       "8                                                       Запустить акцию, дающую скидку на товар в день рождения   \n",
       "0            Добавить два новых канала привлечения трафика, что позволит привлекать на 30% больше пользователей   \n",
       "7              Добавить форму подписки на все основные страницы, чтобы собрать базу клиентов для email-рассылок   \n",
       "6          Показать на главной странице баннеры с актуальными акциями и распродажами, чтобы увеличить конверсию   \n",
       "2  Добавить блоки рекомендаций товаров на сайт интернет магазина, чтобы повысить конверсию и средний чек заказа   \n",
       "1                                     Запустить собственную службу доставки, что сократит срок доставки заказов   \n",
       "5                      Добавить страницу отзывов клиентов о магазине, что позволит увеличить количество заказов   \n",
       "3           Изменить структура категорий, что увеличит конверсию, т.к. пользователи быстрее найдут нужный товар   \n",
       "4                              Изменить цвет фона главной страницы, чтобы увеличить вовлеченность пользователей   \n",
       "\n",
       "    ICE  \n",
       "8  16.2  \n",
       "0  13.3  \n",
       "7  11.2  \n",
       "6   8.0  \n",
       "2   7.0  \n",
       "1   2.0  \n",
       "5   1.3  \n",
       "3   1.1  \n",
       "4   1.0  "
      ]
     },
     "execution_count": 3,
     "metadata": {},
     "output_type": "execute_result"
    }
   ],
   "source": [
    "hypotheses['ICE'] = round(((hypotheses['impact']*hypotheses['confidence'])/ hypotheses['efforts']),1)#рассчитываем ICE \n",
    "hypotheses[['hypothesis', 'ICE']].sort_values(by='ICE', ascending = False)             # отсортируем параметр по убыванию"
   ]
  },
  {
   "cell_type": "code",
   "execution_count": 4,
   "metadata": {},
   "outputs": [
    {
     "data": {
      "text/html": [
       "<div>\n",
       "<style scoped>\n",
       "    .dataframe tbody tr th:only-of-type {\n",
       "        vertical-align: middle;\n",
       "    }\n",
       "\n",
       "    .dataframe tbody tr th {\n",
       "        vertical-align: top;\n",
       "    }\n",
       "\n",
       "    .dataframe thead th {\n",
       "        text-align: right;\n",
       "    }\n",
       "</style>\n",
       "<table border=\"1\" class=\"dataframe\">\n",
       "  <thead>\n",
       "    <tr style=\"text-align: right;\">\n",
       "      <th></th>\n",
       "      <th>hypothesis</th>\n",
       "      <th>RICE</th>\n",
       "    </tr>\n",
       "  </thead>\n",
       "  <tbody>\n",
       "    <tr>\n",
       "      <th>7</th>\n",
       "      <td>Добавить форму подписки на все основные страницы, чтобы собрать базу клиентов для email-рассылок</td>\n",
       "      <td>112.0</td>\n",
       "    </tr>\n",
       "    <tr>\n",
       "      <th>2</th>\n",
       "      <td>Добавить блоки рекомендаций товаров на сайт интернет магазина, чтобы повысить конверсию и средний чек заказа</td>\n",
       "      <td>56.0</td>\n",
       "    </tr>\n",
       "    <tr>\n",
       "      <th>0</th>\n",
       "      <td>Добавить два новых канала привлечения трафика, что позволит привлекать на 30% больше пользователей</td>\n",
       "      <td>40.0</td>\n",
       "    </tr>\n",
       "    <tr>\n",
       "      <th>6</th>\n",
       "      <td>Показать на главной странице баннеры с актуальными акциями и распродажами, чтобы увеличить конверсию</td>\n",
       "      <td>40.0</td>\n",
       "    </tr>\n",
       "    <tr>\n",
       "      <th>8</th>\n",
       "      <td>Запустить акцию, дающую скидку на товар в день рождения</td>\n",
       "      <td>16.2</td>\n",
       "    </tr>\n",
       "    <tr>\n",
       "      <th>3</th>\n",
       "      <td>Изменить структура категорий, что увеличит конверсию, т.к. пользователи быстрее найдут нужный товар</td>\n",
       "      <td>9.0</td>\n",
       "    </tr>\n",
       "    <tr>\n",
       "      <th>1</th>\n",
       "      <td>Запустить собственную службу доставки, что сократит срок доставки заказов</td>\n",
       "      <td>4.0</td>\n",
       "    </tr>\n",
       "    <tr>\n",
       "      <th>5</th>\n",
       "      <td>Добавить страницу отзывов клиентов о магазине, что позволит увеличить количество заказов</td>\n",
       "      <td>4.0</td>\n",
       "    </tr>\n",
       "    <tr>\n",
       "      <th>4</th>\n",
       "      <td>Изменить цвет фона главной страницы, чтобы увеличить вовлеченность пользователей</td>\n",
       "      <td>3.0</td>\n",
       "    </tr>\n",
       "  </tbody>\n",
       "</table>\n",
       "</div>"
      ],
      "text/plain": [
       "                                                                                                     hypothesis  \\\n",
       "7              Добавить форму подписки на все основные страницы, чтобы собрать базу клиентов для email-рассылок   \n",
       "2  Добавить блоки рекомендаций товаров на сайт интернет магазина, чтобы повысить конверсию и средний чек заказа   \n",
       "0            Добавить два новых канала привлечения трафика, что позволит привлекать на 30% больше пользователей   \n",
       "6          Показать на главной странице баннеры с актуальными акциями и распродажами, чтобы увеличить конверсию   \n",
       "8                                                       Запустить акцию, дающую скидку на товар в день рождения   \n",
       "3           Изменить структура категорий, что увеличит конверсию, т.к. пользователи быстрее найдут нужный товар   \n",
       "1                                     Запустить собственную службу доставки, что сократит срок доставки заказов   \n",
       "5                      Добавить страницу отзывов клиентов о магазине, что позволит увеличить количество заказов   \n",
       "4                              Изменить цвет фона главной страницы, чтобы увеличить вовлеченность пользователей   \n",
       "\n",
       "    RICE  \n",
       "7  112.0  \n",
       "2   56.0  \n",
       "0   40.0  \n",
       "6   40.0  \n",
       "8   16.2  \n",
       "3    9.0  \n",
       "1    4.0  \n",
       "5    4.0  \n",
       "4    3.0  "
      ]
     },
     "execution_count": 4,
     "metadata": {},
     "output_type": "execute_result"
    }
   ],
   "source": [
    "#рассчитываем парамерт RICE для определения приоритетности гипотез\n",
    "hypotheses['RICE'] = (hypotheses['impact']*hypotheses['confidence']*hypotheses['reach'])/ hypotheses['efforts']\n",
    "hypotheses[['hypothesis', 'RICE']].sort_values(by='RICE', ascending = False)         # отсортируем параметр по убыванию"
   ]
  },
  {
   "cell_type": "code",
   "execution_count": 5,
   "metadata": {},
   "outputs": [
    {
     "data": {
      "text/html": [
       "<div>\n",
       "<style scoped>\n",
       "    .dataframe tbody tr th:only-of-type {\n",
       "        vertical-align: middle;\n",
       "    }\n",
       "\n",
       "    .dataframe tbody tr th {\n",
       "        vertical-align: top;\n",
       "    }\n",
       "\n",
       "    .dataframe thead th {\n",
       "        text-align: right;\n",
       "    }\n",
       "</style>\n",
       "<table border=\"1\" class=\"dataframe\">\n",
       "  <thead>\n",
       "    <tr style=\"text-align: right;\">\n",
       "      <th></th>\n",
       "      <th>hypothesis</th>\n",
       "      <th>RICE</th>\n",
       "      <th>ICE</th>\n",
       "    </tr>\n",
       "  </thead>\n",
       "  <tbody>\n",
       "    <tr>\n",
       "      <th>7</th>\n",
       "      <td>Добавить форму подписки на все основные страницы, чтобы собрать базу клиентов для email-рассылок</td>\n",
       "      <td>112.0</td>\n",
       "      <td>11.2</td>\n",
       "    </tr>\n",
       "    <tr>\n",
       "      <th>2</th>\n",
       "      <td>Добавить блоки рекомендаций товаров на сайт интернет магазина, чтобы повысить конверсию и средний чек заказа</td>\n",
       "      <td>56.0</td>\n",
       "      <td>7.0</td>\n",
       "    </tr>\n",
       "    <tr>\n",
       "      <th>0</th>\n",
       "      <td>Добавить два новых канала привлечения трафика, что позволит привлекать на 30% больше пользователей</td>\n",
       "      <td>40.0</td>\n",
       "      <td>13.3</td>\n",
       "    </tr>\n",
       "    <tr>\n",
       "      <th>6</th>\n",
       "      <td>Показать на главной странице баннеры с актуальными акциями и распродажами, чтобы увеличить конверсию</td>\n",
       "      <td>40.0</td>\n",
       "      <td>8.0</td>\n",
       "    </tr>\n",
       "    <tr>\n",
       "      <th>8</th>\n",
       "      <td>Запустить акцию, дающую скидку на товар в день рождения</td>\n",
       "      <td>16.2</td>\n",
       "      <td>16.2</td>\n",
       "    </tr>\n",
       "    <tr>\n",
       "      <th>3</th>\n",
       "      <td>Изменить структура категорий, что увеличит конверсию, т.к. пользователи быстрее найдут нужный товар</td>\n",
       "      <td>9.0</td>\n",
       "      <td>1.1</td>\n",
       "    </tr>\n",
       "    <tr>\n",
       "      <th>1</th>\n",
       "      <td>Запустить собственную службу доставки, что сократит срок доставки заказов</td>\n",
       "      <td>4.0</td>\n",
       "      <td>2.0</td>\n",
       "    </tr>\n",
       "    <tr>\n",
       "      <th>5</th>\n",
       "      <td>Добавить страницу отзывов клиентов о магазине, что позволит увеличить количество заказов</td>\n",
       "      <td>4.0</td>\n",
       "      <td>1.3</td>\n",
       "    </tr>\n",
       "    <tr>\n",
       "      <th>4</th>\n",
       "      <td>Изменить цвет фона главной страницы, чтобы увеличить вовлеченность пользователей</td>\n",
       "      <td>3.0</td>\n",
       "      <td>1.0</td>\n",
       "    </tr>\n",
       "  </tbody>\n",
       "</table>\n",
       "</div>"
      ],
      "text/plain": [
       "                                                                                                     hypothesis  \\\n",
       "7              Добавить форму подписки на все основные страницы, чтобы собрать базу клиентов для email-рассылок   \n",
       "2  Добавить блоки рекомендаций товаров на сайт интернет магазина, чтобы повысить конверсию и средний чек заказа   \n",
       "0            Добавить два новых канала привлечения трафика, что позволит привлекать на 30% больше пользователей   \n",
       "6          Показать на главной странице баннеры с актуальными акциями и распродажами, чтобы увеличить конверсию   \n",
       "8                                                       Запустить акцию, дающую скидку на товар в день рождения   \n",
       "3           Изменить структура категорий, что увеличит конверсию, т.к. пользователи быстрее найдут нужный товар   \n",
       "1                                     Запустить собственную службу доставки, что сократит срок доставки заказов   \n",
       "5                      Добавить страницу отзывов клиентов о магазине, что позволит увеличить количество заказов   \n",
       "4                              Изменить цвет фона главной страницы, чтобы увеличить вовлеченность пользователей   \n",
       "\n",
       "    RICE   ICE  \n",
       "7  112.0  11.2  \n",
       "2   56.0   7.0  \n",
       "0   40.0  13.3  \n",
       "6   40.0   8.0  \n",
       "8   16.2  16.2  \n",
       "3    9.0   1.1  \n",
       "1    4.0   2.0  \n",
       "5    4.0   1.3  \n",
       "4    3.0   1.0  "
      ]
     },
     "execution_count": 5,
     "metadata": {},
     "output_type": "execute_result"
    }
   ],
   "source": [
    "#выведем одновременно результаты и RICE и ICE для удобства сравнения\n",
    "hypotheses[['hypothesis', 'RICE', 'ICE']].sort_values(by='RICE', ascending = False)      "
   ]
  },
  {
   "cell_type": "markdown",
   "metadata": {},
   "source": [
    "***\n",
    "***Вывод:*** *При применении метода ICE на первых трех местах оказались гипотезы с индексами 8, 0 и 7 соответственно. После применения метода приоретизации RICE на первых трех местах оказались гипотезы с индексами 7, 2 и 0. Мы наблюдаем смену приоритетных гипотез, так как во втором методе дополнительно учитывается параметр reach — охват пользователей, на которых повлияет изменение.*\n",
    "***"
   ]
  },
  {
   "cell_type": "markdown",
   "metadata": {},
   "source": [
    "## Получение  и предобработка данных"
   ]
  },
  {
   "cell_type": "code",
   "execution_count": 6,
   "metadata": {},
   "outputs": [
    {
     "data": {
      "text/html": [
       "<div>\n",
       "<style scoped>\n",
       "    .dataframe tbody tr th:only-of-type {\n",
       "        vertical-align: middle;\n",
       "    }\n",
       "\n",
       "    .dataframe tbody tr th {\n",
       "        vertical-align: top;\n",
       "    }\n",
       "\n",
       "    .dataframe thead th {\n",
       "        text-align: right;\n",
       "    }\n",
       "</style>\n",
       "<table border=\"1\" class=\"dataframe\">\n",
       "  <thead>\n",
       "    <tr style=\"text-align: right;\">\n",
       "      <th></th>\n",
       "      <th>transactionId</th>\n",
       "      <th>visitorId</th>\n",
       "      <th>date</th>\n",
       "      <th>revenue</th>\n",
       "      <th>group</th>\n",
       "    </tr>\n",
       "  </thead>\n",
       "  <tbody>\n",
       "    <tr>\n",
       "      <th>0</th>\n",
       "      <td>3667963787</td>\n",
       "      <td>3312258926</td>\n",
       "      <td>2019-08-15</td>\n",
       "      <td>1650</td>\n",
       "      <td>B</td>\n",
       "    </tr>\n",
       "    <tr>\n",
       "      <th>1</th>\n",
       "      <td>2804400009</td>\n",
       "      <td>3642806036</td>\n",
       "      <td>2019-08-15</td>\n",
       "      <td>730</td>\n",
       "      <td>B</td>\n",
       "    </tr>\n",
       "    <tr>\n",
       "      <th>2</th>\n",
       "      <td>2961555356</td>\n",
       "      <td>4069496402</td>\n",
       "      <td>2019-08-15</td>\n",
       "      <td>400</td>\n",
       "      <td>A</td>\n",
       "    </tr>\n",
       "    <tr>\n",
       "      <th>3</th>\n",
       "      <td>3797467345</td>\n",
       "      <td>1196621759</td>\n",
       "      <td>2019-08-15</td>\n",
       "      <td>9759</td>\n",
       "      <td>B</td>\n",
       "    </tr>\n",
       "    <tr>\n",
       "      <th>4</th>\n",
       "      <td>2282983706</td>\n",
       "      <td>2322279887</td>\n",
       "      <td>2019-08-15</td>\n",
       "      <td>2308</td>\n",
       "      <td>B</td>\n",
       "    </tr>\n",
       "  </tbody>\n",
       "</table>\n",
       "</div>"
      ],
      "text/plain": [
       "   transactionId   visitorId        date  revenue group\n",
       "0     3667963787  3312258926  2019-08-15     1650     B\n",
       "1     2804400009  3642806036  2019-08-15      730     B\n",
       "2     2961555356  4069496402  2019-08-15      400     A\n",
       "3     3797467345  1196621759  2019-08-15     9759     B\n",
       "4     2282983706  2322279887  2019-08-15     2308     B"
      ]
     },
     "execution_count": 6,
     "metadata": {},
     "output_type": "execute_result"
    }
   ],
   "source": [
    "# импортируем данные \n",
    "try:\n",
    "    orders = pd.read_csv('/datasets/orders.csv')\n",
    "except:\n",
    "    orders = pd.read_csv('https://code.s3.yandex.net/datasets/orders.csv')\n",
    "\n",
    "orders.head()"
   ]
  },
  {
   "cell_type": "code",
   "execution_count": 7,
   "metadata": {},
   "outputs": [
    {
     "data": {
      "text/html": [
       "<div>\n",
       "<style scoped>\n",
       "    .dataframe tbody tr th:only-of-type {\n",
       "        vertical-align: middle;\n",
       "    }\n",
       "\n",
       "    .dataframe tbody tr th {\n",
       "        vertical-align: top;\n",
       "    }\n",
       "\n",
       "    .dataframe thead th {\n",
       "        text-align: right;\n",
       "    }\n",
       "</style>\n",
       "<table border=\"1\" class=\"dataframe\">\n",
       "  <thead>\n",
       "    <tr style=\"text-align: right;\">\n",
       "      <th></th>\n",
       "      <th>date</th>\n",
       "      <th>group</th>\n",
       "      <th>visitors</th>\n",
       "    </tr>\n",
       "  </thead>\n",
       "  <tbody>\n",
       "    <tr>\n",
       "      <th>0</th>\n",
       "      <td>2019-08-01</td>\n",
       "      <td>A</td>\n",
       "      <td>719</td>\n",
       "    </tr>\n",
       "    <tr>\n",
       "      <th>1</th>\n",
       "      <td>2019-08-02</td>\n",
       "      <td>A</td>\n",
       "      <td>619</td>\n",
       "    </tr>\n",
       "    <tr>\n",
       "      <th>2</th>\n",
       "      <td>2019-08-03</td>\n",
       "      <td>A</td>\n",
       "      <td>507</td>\n",
       "    </tr>\n",
       "    <tr>\n",
       "      <th>3</th>\n",
       "      <td>2019-08-04</td>\n",
       "      <td>A</td>\n",
       "      <td>717</td>\n",
       "    </tr>\n",
       "    <tr>\n",
       "      <th>4</th>\n",
       "      <td>2019-08-05</td>\n",
       "      <td>A</td>\n",
       "      <td>756</td>\n",
       "    </tr>\n",
       "  </tbody>\n",
       "</table>\n",
       "</div>"
      ],
      "text/plain": [
       "         date group  visitors\n",
       "0  2019-08-01     A       719\n",
       "1  2019-08-02     A       619\n",
       "2  2019-08-03     A       507\n",
       "3  2019-08-04     A       717\n",
       "4  2019-08-05     A       756"
      ]
     },
     "execution_count": 7,
     "metadata": {},
     "output_type": "execute_result"
    }
   ],
   "source": [
    "try:\n",
    "    visitors = pd.read_csv('')\n",
    "except:\n",
    "    visitors = pd.read_csv('')\n",
    "\n",
    "visitors.head()"
   ]
  },
  {
   "cell_type": "code",
   "execution_count": 8,
   "metadata": {},
   "outputs": [
    {
     "name": "stdout",
     "output_type": "stream",
     "text": [
      "<class 'pandas.core.frame.DataFrame'>\n",
      "RangeIndex: 1197 entries, 0 to 1196\n",
      "Data columns (total 5 columns):\n",
      " #   Column         Non-Null Count  Dtype \n",
      "---  ------         --------------  ----- \n",
      " 0   transactionId  1197 non-null   int64 \n",
      " 1   visitorId      1197 non-null   int64 \n",
      " 2   date           1197 non-null   object\n",
      " 3   revenue        1197 non-null   int64 \n",
      " 4   group          1197 non-null   object\n",
      "dtypes: int64(3), object(2)\n",
      "memory usage: 46.9+ KB\n",
      "None\n",
      "<class 'pandas.core.frame.DataFrame'>\n",
      "RangeIndex: 62 entries, 0 to 61\n",
      "Data columns (total 3 columns):\n",
      " #   Column    Non-Null Count  Dtype \n",
      "---  ------    --------------  ----- \n",
      " 0   date      62 non-null     object\n",
      " 1   group     62 non-null     object\n",
      " 2   visitors  62 non-null     int64 \n",
      "dtypes: int64(1), object(2)\n",
      "memory usage: 1.6+ KB\n",
      "None\n"
     ]
    }
   ],
   "source": [
    "# проверим типы данных в колонках\n",
    "df = [orders,visitors]\n",
    "for i in df:\n",
    "    print(i.info())"
   ]
  },
  {
   "cell_type": "code",
   "execution_count": 9,
   "metadata": {},
   "outputs": [],
   "source": [
    "# приведем данные с датой к нужному типу\n",
    "orders['date'] = orders['date'].map(lambda x: dt.datetime.strptime(x, '%Y-%m-%d'))\n",
    "visitors['date'] = visitors['date'].map(lambda x: dt.datetime.strptime(x, '%Y-%m-%d'))"
   ]
  },
  {
   "cell_type": "code",
   "execution_count": 10,
   "metadata": {},
   "outputs": [],
   "source": [
    "#приведем назания столбцов к нижнему регистру\n",
    "orders.columns = orders.columns.str.lower()"
   ]
  },
  {
   "cell_type": "code",
   "execution_count": 11,
   "metadata": {},
   "outputs": [],
   "source": [
    "# приведем названия колонок к формату snake_case\n",
    "orders = orders.rename(columns={'transactionid':'transaction_id','visitorid':'visitor_id'})"
   ]
  },
  {
   "cell_type": "code",
   "execution_count": 12,
   "metadata": {},
   "outputs": [
    {
     "name": "stdout",
     "output_type": "stream",
     "text": [
      "transactionid    0\n",
      "visitorid        0\n",
      "date             0\n",
      "revenue          0\n",
      "group            0\n",
      "dtype: int64\n",
      "date        0\n",
      "group       0\n",
      "visitors    0\n",
      "dtype: int64\n"
     ]
    }
   ],
   "source": [
    "# проверим пропуски в таблицах\n",
    "for i in df:\n",
    "    print(i.isna().sum())   "
   ]
  },
  {
   "cell_type": "code",
   "execution_count": 13,
   "metadata": {},
   "outputs": [
    {
     "name": "stdout",
     "output_type": "stream",
     "text": [
      "0\n",
      "0\n"
     ]
    }
   ],
   "source": [
    "# проверим полные дубликаты в таблицах\n",
    "for i in df:\n",
    "    print (i.duplicated().sum())"
   ]
  },
  {
   "cell_type": "code",
   "execution_count": 14,
   "metadata": {},
   "outputs": [
    {
     "data": {
      "text/plain": [
       "0.4780622543291173"
      ]
     },
     "execution_count": 14,
     "metadata": {},
     "output_type": "execute_result"
    }
   ],
   "source": [
    "# проверим количество посетителей в каждой группе \n",
    "group_a = visitors.query('group == \"A\"')['visitors'].sum() \n",
    "group_b = visitors.query('group == \"B\"')['visitors'].sum() \n",
    " \n",
    "(group_b/(group_a+group_b))*100 - (group_a/(group_a+group_b))*100"
   ]
  },
  {
   "cell_type": "markdown",
   "metadata": {},
   "source": [
    "Отличие между группами в пользователях менее 1%. Группы можно считать равноценными. Убедимся, что в каждую группу попали уникальные пользователи."
   ]
  },
  {
   "cell_type": "code",
   "execution_count": 15,
   "metadata": {},
   "outputs": [
    {
     "name": "stdout",
     "output_type": "stream",
     "text": [
      "Количество пользователей, которые попали в обе группы 58\n"
     ]
    }
   ],
   "source": [
    "# найдем уникальные id пользователей в каждой группе\n",
    "unique_id_list_A = orders.query('group == \"A\"')['visitor_id'].unique().tolist()\n",
    "unique_id_list_B = orders.query('group == \"B\"')['visitor_id'].unique().tolist()\n",
    "unique_id_dublicated = []\n",
    "\n",
    "# проверим совпадения пользователей в группах\n",
    "for x in unique_id_list_A:\n",
    "    if x in unique_id_list_B:\n",
    "        unique_id_dublicated.append(x)\n",
    "print('Количество пользователей, которые попали в обе группы', len(unique_id_dublicated))"
   ]
  },
  {
   "cell_type": "code",
   "execution_count": 16,
   "metadata": {},
   "outputs": [
    {
     "data": {
      "text/plain": [
       "5.625606207565471"
      ]
     },
     "execution_count": 16,
     "metadata": {},
     "output_type": "execute_result"
    }
   ],
   "source": [
    "# Посчитаем долю этих пользователей от общего числа тестируемых\n",
    "len(unique_id_dublicated)/len(orders['visitor_id'].unique())*100"
   ]
  },
  {
   "cell_type": "markdown",
   "metadata": {},
   "source": [
    "Некоторые покупатели попали сразу в обе группы. Их количество незначительно (5,6%), можно оставить этих покупателей в тесте, так как если мы удалим их, это скажется на дальнейших расчетах. Тем более, что удалить этих пользоватей из второй таблицы мы не сможем, нет возможности найти их id."
   ]
  },
  {
   "cell_type": "code",
   "execution_count": 17,
   "metadata": {},
   "outputs": [
    {
     "data": {
      "text/plain": [
       "Timestamp('2019-08-01 00:00:00')"
      ]
     },
     "execution_count": 17,
     "metadata": {},
     "output_type": "execute_result"
    }
   ],
   "source": [
    "# выясним дату начала теста\n",
    "visitors['date'].min()"
   ]
  },
  {
   "cell_type": "code",
   "execution_count": 18,
   "metadata": {},
   "outputs": [
    {
     "data": {
      "text/plain": [
       "Timestamp('2019-08-31 00:00:00')"
      ]
     },
     "execution_count": 18,
     "metadata": {},
     "output_type": "execute_result"
    }
   ],
   "source": [
    "# выясним дату конца теста\n",
    "visitors['date'].max()"
   ]
  },
  {
   "cell_type": "code",
   "execution_count": 19,
   "metadata": {},
   "outputs": [
    {
     "name": "stdout",
     "output_type": "stream",
     "text": [
      "30 days 00:00:00\n"
     ]
    }
   ],
   "source": [
    "# посчитаем сколько дней длился тест\n",
    "print(visitors['date'].max() - visitors['date'].min())"
   ]
  },
  {
   "cell_type": "code",
   "execution_count": 20,
   "metadata": {
    "scrolled": true
   },
   "outputs": [
    {
     "data": {
      "text/html": [
       "<div>\n",
       "<style scoped>\n",
       "    .dataframe tbody tr th:only-of-type {\n",
       "        vertical-align: middle;\n",
       "    }\n",
       "\n",
       "    .dataframe tbody tr th {\n",
       "        vertical-align: top;\n",
       "    }\n",
       "\n",
       "    .dataframe thead th {\n",
       "        text-align: right;\n",
       "    }\n",
       "</style>\n",
       "<table border=\"1\" class=\"dataframe\">\n",
       "  <thead>\n",
       "    <tr style=\"text-align: right;\">\n",
       "      <th></th>\n",
       "      <th>transaction_id</th>\n",
       "      <th>visitor_id</th>\n",
       "      <th>date</th>\n",
       "      <th>revenue</th>\n",
       "      <th>group</th>\n",
       "    </tr>\n",
       "  </thead>\n",
       "  <tbody>\n",
       "    <tr>\n",
       "      <th>0</th>\n",
       "      <td>3667963787</td>\n",
       "      <td>3312258926</td>\n",
       "      <td>2019-08-15</td>\n",
       "      <td>1650</td>\n",
       "      <td>B</td>\n",
       "    </tr>\n",
       "    <tr>\n",
       "      <th>1</th>\n",
       "      <td>2804400009</td>\n",
       "      <td>3642806036</td>\n",
       "      <td>2019-08-15</td>\n",
       "      <td>730</td>\n",
       "      <td>B</td>\n",
       "    </tr>\n",
       "    <tr>\n",
       "      <th>2</th>\n",
       "      <td>2961555356</td>\n",
       "      <td>4069496402</td>\n",
       "      <td>2019-08-15</td>\n",
       "      <td>400</td>\n",
       "      <td>A</td>\n",
       "    </tr>\n",
       "    <tr>\n",
       "      <th>3</th>\n",
       "      <td>3797467345</td>\n",
       "      <td>1196621759</td>\n",
       "      <td>2019-08-15</td>\n",
       "      <td>9759</td>\n",
       "      <td>B</td>\n",
       "    </tr>\n",
       "    <tr>\n",
       "      <th>4</th>\n",
       "      <td>2282983706</td>\n",
       "      <td>2322279887</td>\n",
       "      <td>2019-08-15</td>\n",
       "      <td>2308</td>\n",
       "      <td>B</td>\n",
       "    </tr>\n",
       "  </tbody>\n",
       "</table>\n",
       "</div>"
      ],
      "text/plain": [
       "   transaction_id  visitor_id       date  revenue group\n",
       "0      3667963787  3312258926 2019-08-15     1650     B\n",
       "1      2804400009  3642806036 2019-08-15      730     B\n",
       "2      2961555356  4069496402 2019-08-15      400     A\n",
       "3      3797467345  1196621759 2019-08-15     9759     B\n",
       "4      2282983706  2322279887 2019-08-15     2308     B"
      ]
     },
     "execution_count": 20,
     "metadata": {},
     "output_type": "execute_result"
    }
   ],
   "source": [
    "# выведем на экран первые пять строк таблиц\n",
    "orders.head()"
   ]
  },
  {
   "cell_type": "code",
   "execution_count": 21,
   "metadata": {},
   "outputs": [
    {
     "data": {
      "text/html": [
       "<div>\n",
       "<style scoped>\n",
       "    .dataframe tbody tr th:only-of-type {\n",
       "        vertical-align: middle;\n",
       "    }\n",
       "\n",
       "    .dataframe tbody tr th {\n",
       "        vertical-align: top;\n",
       "    }\n",
       "\n",
       "    .dataframe thead th {\n",
       "        text-align: right;\n",
       "    }\n",
       "</style>\n",
       "<table border=\"1\" class=\"dataframe\">\n",
       "  <thead>\n",
       "    <tr style=\"text-align: right;\">\n",
       "      <th></th>\n",
       "      <th>date</th>\n",
       "      <th>group</th>\n",
       "      <th>visitors</th>\n",
       "    </tr>\n",
       "  </thead>\n",
       "  <tbody>\n",
       "    <tr>\n",
       "      <th>0</th>\n",
       "      <td>2019-08-01</td>\n",
       "      <td>A</td>\n",
       "      <td>719</td>\n",
       "    </tr>\n",
       "    <tr>\n",
       "      <th>1</th>\n",
       "      <td>2019-08-02</td>\n",
       "      <td>A</td>\n",
       "      <td>619</td>\n",
       "    </tr>\n",
       "    <tr>\n",
       "      <th>2</th>\n",
       "      <td>2019-08-03</td>\n",
       "      <td>A</td>\n",
       "      <td>507</td>\n",
       "    </tr>\n",
       "    <tr>\n",
       "      <th>3</th>\n",
       "      <td>2019-08-04</td>\n",
       "      <td>A</td>\n",
       "      <td>717</td>\n",
       "    </tr>\n",
       "    <tr>\n",
       "      <th>4</th>\n",
       "      <td>2019-08-05</td>\n",
       "      <td>A</td>\n",
       "      <td>756</td>\n",
       "    </tr>\n",
       "  </tbody>\n",
       "</table>\n",
       "</div>"
      ],
      "text/plain": [
       "        date group  visitors\n",
       "0 2019-08-01     A       719\n",
       "1 2019-08-02     A       619\n",
       "2 2019-08-03     A       507\n",
       "3 2019-08-04     A       717\n",
       "4 2019-08-05     A       756"
      ]
     },
     "execution_count": 21,
     "metadata": {},
     "output_type": "execute_result"
    }
   ],
   "source": [
    "visitors.head()"
   ]
  },
  {
   "cell_type": "markdown",
   "metadata": {},
   "source": [
    " ***\n",
    "***Вывод:*** *В нашем распоряжении данные с результатами проведенных А/В тестов крупного интернет - магазина.* \n",
    "\n",
    "***Таблица orders:***\n",
    "* transaction_id — идентификатор заказа;\n",
    "* visitor_id — идентификатор пользователя, совершившего заказ;\n",
    "* date — дата, когда был совершён заказ;\n",
    "* revenue — выручка заказа;\n",
    "* group — группа A/B-теста, в которую попал заказ.\n",
    "\n",
    "***Таблица visitors:***\n",
    "\n",
    "* date — дата;\n",
    "* group — группа A/B-теста;\n",
    "* visitors — количество пользователей в указанную дату в указанной группе A/B-теста\n",
    "\n",
    "***По итогу предобработки данных:***\n",
    "* Привели названия столбцов к нужному виду.\n",
    "* Преобразовали данных о датах.\n",
    "* Проверили данные на дубликаты и пропуски.\n",
    "* Выснили, что тест проходил 30 дней. С 1 по 31 августа 2019 года.\n",
    "* Посчитали количество пользователей в группах. Различия составляют не более, чем 1%.\n",
    "* Обнаружили пользователей, которые попали в обе группы, их количество составляет 5,6% от общего числа уникальных пользователей. Решили оставить исходные данные, так как не сможем удалить этих пользователей из двух датафреймов. \n",
    "***"
   ]
  },
  {
   "cell_type": "markdown",
   "metadata": {},
   "source": [
    "##  Анализ A/B-теста"
   ]
  },
  {
   "cell_type": "markdown",
   "metadata": {},
   "source": [
    "### График кумулятивной выручки по группам"
   ]
  },
  {
   "cell_type": "markdown",
   "metadata": {},
   "source": [
    "Чтобы отслеживать изменения результатов эксперимента на каждый день тестирования, составим датафрейм с кумулятивными данными. "
   ]
  },
  {
   "cell_type": "code",
   "execution_count": 22,
   "metadata": {},
   "outputs": [
    {
     "data": {
      "text/html": [
       "<div>\n",
       "<style scoped>\n",
       "    .dataframe tbody tr th:only-of-type {\n",
       "        vertical-align: middle;\n",
       "    }\n",
       "\n",
       "    .dataframe tbody tr th {\n",
       "        vertical-align: top;\n",
       "    }\n",
       "\n",
       "    .dataframe thead th {\n",
       "        text-align: right;\n",
       "    }\n",
       "</style>\n",
       "<table border=\"1\" class=\"dataframe\">\n",
       "  <thead>\n",
       "    <tr style=\"text-align: right;\">\n",
       "      <th></th>\n",
       "      <th>date</th>\n",
       "      <th>group</th>\n",
       "      <th>orders</th>\n",
       "      <th>buyers</th>\n",
       "      <th>revenue</th>\n",
       "      <th>visitors</th>\n",
       "    </tr>\n",
       "  </thead>\n",
       "  <tbody>\n",
       "    <tr>\n",
       "      <th>0</th>\n",
       "      <td>2019-08-01</td>\n",
       "      <td>A</td>\n",
       "      <td>24</td>\n",
       "      <td>20</td>\n",
       "      <td>148579</td>\n",
       "      <td>719</td>\n",
       "    </tr>\n",
       "    <tr>\n",
       "      <th>1</th>\n",
       "      <td>2019-08-01</td>\n",
       "      <td>B</td>\n",
       "      <td>21</td>\n",
       "      <td>20</td>\n",
       "      <td>101217</td>\n",
       "      <td>713</td>\n",
       "    </tr>\n",
       "    <tr>\n",
       "      <th>2</th>\n",
       "      <td>2019-08-02</td>\n",
       "      <td>A</td>\n",
       "      <td>44</td>\n",
       "      <td>38</td>\n",
       "      <td>242401</td>\n",
       "      <td>1338</td>\n",
       "    </tr>\n",
       "    <tr>\n",
       "      <th>3</th>\n",
       "      <td>2019-08-02</td>\n",
       "      <td>B</td>\n",
       "      <td>45</td>\n",
       "      <td>43</td>\n",
       "      <td>266748</td>\n",
       "      <td>1294</td>\n",
       "    </tr>\n",
       "    <tr>\n",
       "      <th>4</th>\n",
       "      <td>2019-08-03</td>\n",
       "      <td>A</td>\n",
       "      <td>68</td>\n",
       "      <td>62</td>\n",
       "      <td>354874</td>\n",
       "      <td>1845</td>\n",
       "    </tr>\n",
       "  </tbody>\n",
       "</table>\n",
       "</div>"
      ],
      "text/plain": [
       "        date group  orders  buyers  revenue  visitors\n",
       "0 2019-08-01     A      24      20   148579       719\n",
       "1 2019-08-01     B      21      20   101217       713\n",
       "2 2019-08-02     A      44      38   242401      1338\n",
       "3 2019-08-02     B      45      43   266748      1294\n",
       "4 2019-08-03     A      68      62   354874      1845"
      ]
     },
     "execution_count": 22,
     "metadata": {},
     "output_type": "execute_result"
    }
   ],
   "source": [
    "# создаем массив уникальных пар значений дат и групп теста\n",
    "datesGroups  = orders[['date', 'group']].drop_duplicates()\n",
    "\n",
    "# получаем агрегированные кумулятивные по дням данные о заказах\n",
    "ordersAggregated = datesGroups.apply(lambda x: orders[np.logical_and(orders['date'] <= x['date'],\\\n",
    "                                                                     orders['group'] == x['group'])]\\\n",
    "                                     .agg({'date' : 'max', 'group' : 'max', 'transaction_id' : 'nunique', \\\n",
    "                                           'visitor_id' : 'nunique', 'revenue' : 'sum'}), axis=1)\\\n",
    "                                     .sort_values(by=['date','group'])\n",
    "\n",
    "#получим агрегированные кумулятивные по дням данные о посетителях интернет-магазина:\n",
    "visitorsAggregated = datesGroups.apply(lambda x: visitors[np.logical_and(visitors['date'] <= x['date'],\\\n",
    "                                                                         visitors['group'] == x['group'])]\\\n",
    "                                       .agg({'date' : 'max', 'group' : 'max', 'visitors' : 'sum'}), axis=1)\\\n",
    "                                       .sort_values(by=['date','group'])\n",
    "\n",
    "# объединяем кумулятивные данные в одной таблице и присваиваем ее столбцам понятные названия\n",
    "cumulativeData = ordersAggregated.merge(visitorsAggregated, left_on=['date', 'group'], right_on=['date', 'group'])\n",
    "cumulativeData.columns = ['date', 'group', 'orders', 'buyers', 'revenue', 'visitors']\n",
    "\n",
    "cumulativeData.head()"
   ]
  },
  {
   "cell_type": "markdown",
   "metadata": {},
   "source": [
    "Перед нами таблица со столбцами:\n",
    "* date — дата;\n",
    "* group — группа A/B-теста (A или B);\n",
    "* orders — кумулятивное количество заказов на указанную дату в указанной группе;\n",
    "* buyers — кумулятивное количество пользователей, совершивших хотя бы один заказ, на указанную дату в указанной группе;\n",
    "* revenue — кумулятивная выручка на указанную дату в указанной группе (средний чек);\n",
    "* visitors — кумулятивное количество посетителей интернет-магазина на указанную дату в определённой группе."
   ]
  },
  {
   "cell_type": "code",
   "execution_count": 23,
   "metadata": {},
   "outputs": [
    {
     "data": {
      "text/html": [
       "<div>\n",
       "<style scoped>\n",
       "    .dataframe tbody tr th:only-of-type {\n",
       "        vertical-align: middle;\n",
       "    }\n",
       "\n",
       "    .dataframe tbody tr th {\n",
       "        vertical-align: top;\n",
       "    }\n",
       "\n",
       "    .dataframe thead th {\n",
       "        text-align: right;\n",
       "    }\n",
       "</style>\n",
       "<table border=\"1\" class=\"dataframe\">\n",
       "  <thead>\n",
       "    <tr style=\"text-align: right;\">\n",
       "      <th></th>\n",
       "      <th>date</th>\n",
       "      <th>revenue</th>\n",
       "      <th>orders</th>\n",
       "    </tr>\n",
       "  </thead>\n",
       "  <tbody>\n",
       "    <tr>\n",
       "      <th>0</th>\n",
       "      <td>2019-08-01</td>\n",
       "      <td>148579</td>\n",
       "      <td>24</td>\n",
       "    </tr>\n",
       "    <tr>\n",
       "      <th>2</th>\n",
       "      <td>2019-08-02</td>\n",
       "      <td>242401</td>\n",
       "      <td>44</td>\n",
       "    </tr>\n",
       "    <tr>\n",
       "      <th>4</th>\n",
       "      <td>2019-08-03</td>\n",
       "      <td>354874</td>\n",
       "      <td>68</td>\n",
       "    </tr>\n",
       "    <tr>\n",
       "      <th>6</th>\n",
       "      <td>2019-08-04</td>\n",
       "      <td>425699</td>\n",
       "      <td>84</td>\n",
       "    </tr>\n",
       "    <tr>\n",
       "      <th>8</th>\n",
       "      <td>2019-08-05</td>\n",
       "      <td>549917</td>\n",
       "      <td>109</td>\n",
       "    </tr>\n",
       "  </tbody>\n",
       "</table>\n",
       "</div>"
      ],
      "text/plain": [
       "        date  revenue  orders\n",
       "0 2019-08-01   148579      24\n",
       "2 2019-08-02   242401      44\n",
       "4 2019-08-03   354874      68\n",
       "6 2019-08-04   425699      84\n",
       "8 2019-08-05   549917     109"
      ]
     },
     "execution_count": 23,
     "metadata": {},
     "output_type": "execute_result"
    }
   ],
   "source": [
    "# датафрейм с кумулятивным количеством заказов и кумулятивной выручкой по дням в группе А\n",
    "cumulativeRevenueA = cumulativeData[cumulativeData['group']=='A'][['date','revenue', 'orders']]\n",
    "cumulativeRevenueA.head()"
   ]
  },
  {
   "cell_type": "code",
   "execution_count": 24,
   "metadata": {},
   "outputs": [
    {
     "data": {
      "text/html": [
       "<div>\n",
       "<style scoped>\n",
       "    .dataframe tbody tr th:only-of-type {\n",
       "        vertical-align: middle;\n",
       "    }\n",
       "\n",
       "    .dataframe tbody tr th {\n",
       "        vertical-align: top;\n",
       "    }\n",
       "\n",
       "    .dataframe thead th {\n",
       "        text-align: right;\n",
       "    }\n",
       "</style>\n",
       "<table border=\"1\" class=\"dataframe\">\n",
       "  <thead>\n",
       "    <tr style=\"text-align: right;\">\n",
       "      <th></th>\n",
       "      <th>date</th>\n",
       "      <th>revenue</th>\n",
       "      <th>orders</th>\n",
       "    </tr>\n",
       "  </thead>\n",
       "  <tbody>\n",
       "    <tr>\n",
       "      <th>1</th>\n",
       "      <td>2019-08-01</td>\n",
       "      <td>101217</td>\n",
       "      <td>21</td>\n",
       "    </tr>\n",
       "    <tr>\n",
       "      <th>3</th>\n",
       "      <td>2019-08-02</td>\n",
       "      <td>266748</td>\n",
       "      <td>45</td>\n",
       "    </tr>\n",
       "    <tr>\n",
       "      <th>5</th>\n",
       "      <td>2019-08-03</td>\n",
       "      <td>380996</td>\n",
       "      <td>61</td>\n",
       "    </tr>\n",
       "    <tr>\n",
       "      <th>7</th>\n",
       "      <td>2019-08-04</td>\n",
       "      <td>489567</td>\n",
       "      <td>78</td>\n",
       "    </tr>\n",
       "    <tr>\n",
       "      <th>9</th>\n",
       "      <td>2019-08-05</td>\n",
       "      <td>581995</td>\n",
       "      <td>101</td>\n",
       "    </tr>\n",
       "  </tbody>\n",
       "</table>\n",
       "</div>"
      ],
      "text/plain": [
       "        date  revenue  orders\n",
       "1 2019-08-01   101217      21\n",
       "3 2019-08-02   266748      45\n",
       "5 2019-08-03   380996      61\n",
       "7 2019-08-04   489567      78\n",
       "9 2019-08-05   581995     101"
      ]
     },
     "execution_count": 24,
     "metadata": {},
     "output_type": "execute_result"
    }
   ],
   "source": [
    "# датафрейм с кумулятивным количеством заказов и кумулятивной выручкой по дням в группе B\n",
    "cumulativeRevenueB = cumulativeData[cumulativeData['group']=='B'][['date','revenue', 'orders']]\n",
    "cumulativeRevenueB.head()"
   ]
  },
  {
   "cell_type": "code",
   "execution_count": 25,
   "metadata": {
    "scrolled": false
   },
   "outputs": [
    {
     "data": {
      "image/png": "[encoded data removed]",
      "text/plain": [
       "<Figure size 864x432 with 1 Axes>"
      ]
     },
     "metadata": {
      "needs_background": "light"
     },
     "output_type": "display_data"
    }
   ],
   "source": [
    "plt.rcParams ['figure.figsize'] = [12, 6]\n",
    "\n",
    "# Строим график выручки группы А\n",
    "plt.plot(cumulativeRevenueA['date'], cumulativeRevenueA['revenue'], label='A',color = '#ff8d1a', linewidth= 3)\n",
    "\n",
    "# Строим график выручки группы B\n",
    "plt.plot(cumulativeRevenueB['date'], cumulativeRevenueB['revenue'], label='B', linewidth= 3, color='#1a8cff')\n",
    "\n",
    "\n",
    "plt.legend()\n",
    "plt.ticklabel_format(style='plain', axis='y')\n",
    "plt.title('График кумулятивной выручки по группам')\n",
    "plt.xlabel('Дата')\n",
    "plt.ylabel('Выручка')\n",
    "plt.grid()\n",
    "plt.show()"
   ]
  },
  {
   "cell_type": "markdown",
   "metadata": {},
   "source": [
    "***\n",
    "***Вывод:*** *Выручка почти равномерно увеличивается в течение всего теста. Однако график группы В в одной точке резко начинает расти, и все остальное время значительно превышае группу А. Это может сигнализировать о всплесках числа заказов, либо о появлении очень дорогих заказов в выборке.*\n",
    "***"
   ]
  },
  {
   "cell_type": "markdown",
   "metadata": {},
   "source": [
    "### График кумулятивного среднего чека по группам"
   ]
  },
  {
   "cell_type": "code",
   "execution_count": 26,
   "metadata": {},
   "outputs": [
    {
     "data": {
      "image/png": "[encoded data removed]",
      "text/plain": [
       "<Figure size 864x432 with 1 Axes>"
      ]
     },
     "metadata": {
      "needs_background": "light"
     },
     "output_type": "display_data"
    }
   ],
   "source": [
    "# Построим график среднего чека по группам\n",
    "\n",
    "plt.plot(cumulativeRevenueA['date'], cumulativeRevenueA['revenue']/cumulativeRevenueA['orders'],\n",
    "         label='A',color = '#ff8d1a', linewidth= 3)\n",
    "\n",
    "plt.plot(cumulativeRevenueB['date'], cumulativeRevenueB['revenue']/cumulativeRevenueB['orders'],\n",
    "         label='B', linewidth= 3, color='#1a8cff')\n",
    "\n",
    "plt.legend()\n",
    "plt.title('График кумулятивного среднего чека по группам')\n",
    "plt.xlabel('Дата')\n",
    "plt.ylabel('Средний чек')\n",
    "plt.grid()\n",
    "plt.show()"
   ]
  },
  {
   "cell_type": "markdown",
   "metadata": {},
   "source": [
    "***\n",
    "***Вывод:*** *Средний чек в группе В и здесь имеет резкий скачок и в дальнейшим показатели намного превышают цифры группы А. Возможно попали крупные заказы, что существенно искажает выводы. Требуется дополнительный анализ выбросов.*\n",
    "***"
   ]
  },
  {
   "cell_type": "markdown",
   "metadata": {},
   "source": [
    "### График относительного изменения кумулятивного среднего чека группы B к группе A"
   ]
  },
  {
   "cell_type": "code",
   "execution_count": 27,
   "metadata": {},
   "outputs": [
    {
     "data": {
      "text/html": [
       "<div>\n",
       "<style scoped>\n",
       "    .dataframe tbody tr th:only-of-type {\n",
       "        vertical-align: middle;\n",
       "    }\n",
       "\n",
       "    .dataframe tbody tr th {\n",
       "        vertical-align: top;\n",
       "    }\n",
       "\n",
       "    .dataframe thead th {\n",
       "        text-align: right;\n",
       "    }\n",
       "</style>\n",
       "<table border=\"1\" class=\"dataframe\">\n",
       "  <thead>\n",
       "    <tr style=\"text-align: right;\">\n",
       "      <th></th>\n",
       "      <th>date</th>\n",
       "      <th>revenueA</th>\n",
       "      <th>ordersA</th>\n",
       "      <th>revenueB</th>\n",
       "      <th>ordersB</th>\n",
       "    </tr>\n",
       "  </thead>\n",
       "  <tbody>\n",
       "    <tr>\n",
       "      <th>0</th>\n",
       "      <td>2019-08-01</td>\n",
       "      <td>148579</td>\n",
       "      <td>24</td>\n",
       "      <td>101217</td>\n",
       "      <td>21</td>\n",
       "    </tr>\n",
       "    <tr>\n",
       "      <th>1</th>\n",
       "      <td>2019-08-02</td>\n",
       "      <td>242401</td>\n",
       "      <td>44</td>\n",
       "      <td>266748</td>\n",
       "      <td>45</td>\n",
       "    </tr>\n",
       "    <tr>\n",
       "      <th>2</th>\n",
       "      <td>2019-08-03</td>\n",
       "      <td>354874</td>\n",
       "      <td>68</td>\n",
       "      <td>380996</td>\n",
       "      <td>61</td>\n",
       "    </tr>\n",
       "    <tr>\n",
       "      <th>3</th>\n",
       "      <td>2019-08-04</td>\n",
       "      <td>425699</td>\n",
       "      <td>84</td>\n",
       "      <td>489567</td>\n",
       "      <td>78</td>\n",
       "    </tr>\n",
       "    <tr>\n",
       "      <th>4</th>\n",
       "      <td>2019-08-05</td>\n",
       "      <td>549917</td>\n",
       "      <td>109</td>\n",
       "      <td>581995</td>\n",
       "      <td>101</td>\n",
       "    </tr>\n",
       "  </tbody>\n",
       "</table>\n",
       "</div>"
      ],
      "text/plain": [
       "        date  revenueA  ordersA  revenueB  ordersB\n",
       "0 2019-08-01    148579       24    101217       21\n",
       "1 2019-08-02    242401       44    266748       45\n",
       "2 2019-08-03    354874       68    380996       61\n",
       "3 2019-08-04    425699       84    489567       78\n",
       "4 2019-08-05    549917      109    581995      101"
      ]
     },
     "execution_count": 27,
     "metadata": {},
     "output_type": "execute_result"
    }
   ],
   "source": [
    "# собираем данные в одном датафрейме\n",
    "mergedCumulativeRevenue = cumulativeRevenueA.merge(cumulativeRevenueB, \n",
    "                                                   left_on='date', right_on='date', how='left', suffixes=['A', 'B'])\n",
    "mergedCumulativeRevenue.head()"
   ]
  },
  {
   "cell_type": "code",
   "execution_count": 28,
   "metadata": {},
   "outputs": [
    {
     "data": {
      "image/png": "[encoded data removed]",
      "text/plain": [
       "<Figure size 864x432 with 1 Axes>"
      ]
     },
     "metadata": {
      "needs_background": "light"
     },
     "output_type": "display_data"
    }
   ],
   "source": [
    "# cтроим отношение средних чеков\n",
    "plt.plot(mergedCumulativeRevenue['date'],(mergedCumulativeRevenue['revenueB']/mergedCumulativeRevenue['ordersB'])\\\n",
    "         /(mergedCumulativeRevenue['revenueA']/mergedCumulativeRevenue['ordersA'])-1,\\\n",
    "        color = '#1a8cff', linewidth= 3)\n",
    "\n",
    "# добавляем ось X\n",
    "plt.axhline(y=0, color='black', linestyle='--')\n",
    "plt.axhline(y=0.26, color='grey', linestyle='--')\n",
    "plt.title('График относительного изменения кумулятивного среднего чека группы B к группе A')\n",
    "plt.xlabel('Дата')\n",
    "plt.ylabel('Средний чек')\n",
    "\n",
    "plt.show()"
   ]
  },
  {
   "cell_type": "markdown",
   "metadata": {},
   "source": [
    "***\n",
    "***Вывод:*** *На графики ярко видно, что показатели отношений среднего чека  групп резко менялись несколько раз. Видимо как раз в эти даты и были сделаны аномально крупные покупки в группе В. Необходимо найти выбросы в данных.*\n",
    "****"
   ]
  },
  {
   "cell_type": "markdown",
   "metadata": {},
   "source": [
    "### График график кумулятивного среднего количества заказов на посетителя по группам"
   ]
  },
  {
   "cell_type": "code",
   "execution_count": 29,
   "metadata": {},
   "outputs": [
    {
     "data": {
      "text/html": [
       "<div>\n",
       "<style scoped>\n",
       "    .dataframe tbody tr th:only-of-type {\n",
       "        vertical-align: middle;\n",
       "    }\n",
       "\n",
       "    .dataframe tbody tr th {\n",
       "        vertical-align: top;\n",
       "    }\n",
       "\n",
       "    .dataframe thead th {\n",
       "        text-align: right;\n",
       "    }\n",
       "</style>\n",
       "<table border=\"1\" class=\"dataframe\">\n",
       "  <thead>\n",
       "    <tr style=\"text-align: right;\">\n",
       "      <th></th>\n",
       "      <th>date</th>\n",
       "      <th>group</th>\n",
       "      <th>orders</th>\n",
       "      <th>buyers</th>\n",
       "      <th>revenue</th>\n",
       "      <th>visitors</th>\n",
       "      <th>ratio</th>\n",
       "    </tr>\n",
       "  </thead>\n",
       "  <tbody>\n",
       "    <tr>\n",
       "      <th>0</th>\n",
       "      <td>2019-08-01</td>\n",
       "      <td>A</td>\n",
       "      <td>24</td>\n",
       "      <td>20</td>\n",
       "      <td>148579</td>\n",
       "      <td>719</td>\n",
       "      <td>0.033380</td>\n",
       "    </tr>\n",
       "    <tr>\n",
       "      <th>1</th>\n",
       "      <td>2019-08-01</td>\n",
       "      <td>B</td>\n",
       "      <td>21</td>\n",
       "      <td>20</td>\n",
       "      <td>101217</td>\n",
       "      <td>713</td>\n",
       "      <td>0.029453</td>\n",
       "    </tr>\n",
       "    <tr>\n",
       "      <th>2</th>\n",
       "      <td>2019-08-02</td>\n",
       "      <td>A</td>\n",
       "      <td>44</td>\n",
       "      <td>38</td>\n",
       "      <td>242401</td>\n",
       "      <td>1338</td>\n",
       "      <td>0.032885</td>\n",
       "    </tr>\n",
       "    <tr>\n",
       "      <th>3</th>\n",
       "      <td>2019-08-02</td>\n",
       "      <td>B</td>\n",
       "      <td>45</td>\n",
       "      <td>43</td>\n",
       "      <td>266748</td>\n",
       "      <td>1294</td>\n",
       "      <td>0.034776</td>\n",
       "    </tr>\n",
       "    <tr>\n",
       "      <th>4</th>\n",
       "      <td>2019-08-03</td>\n",
       "      <td>A</td>\n",
       "      <td>68</td>\n",
       "      <td>62</td>\n",
       "      <td>354874</td>\n",
       "      <td>1845</td>\n",
       "      <td>0.036856</td>\n",
       "    </tr>\n",
       "  </tbody>\n",
       "</table>\n",
       "</div>"
      ],
      "text/plain": [
       "        date group  orders  buyers  revenue  visitors     ratio\n",
       "0 2019-08-01     A      24      20   148579       719  0.033380\n",
       "1 2019-08-01     B      21      20   101217       713  0.029453\n",
       "2 2019-08-02     A      44      38   242401      1338  0.032885\n",
       "3 2019-08-02     B      45      43   266748      1294  0.034776\n",
       "4 2019-08-03     A      68      62   354874      1845  0.036856"
      ]
     },
     "execution_count": 29,
     "metadata": {},
     "output_type": "execute_result"
    }
   ],
   "source": [
    "# считаем кумулятивное среднее количество заказов на посетителя\n",
    "cumulativeData['ratio'] = cumulativeData['orders']/cumulativeData['visitors']\n",
    "cumulativeData.head()"
   ]
  },
  {
   "cell_type": "code",
   "execution_count": 30,
   "metadata": {},
   "outputs": [
    {
     "data": {
      "image/png": "[encoded data removed]",
      "text/plain": [
       "<Figure size 864x432 with 1 Axes>"
      ]
     },
     "metadata": {
      "needs_background": "light"
     },
     "output_type": "display_data"
    }
   ],
   "source": [
    "# отделяем данные по группе A\n",
    "cumulativeDataA = cumulativeData[cumulativeData['group']=='A']\n",
    "\n",
    "# отделяем данные по группе B\n",
    "cumulativeDataB = cumulativeData[cumulativeData['group']=='B']\n",
    "\n",
    "# строим графики\n",
    "plt.plot(cumulativeDataA['date'], cumulativeDataA['ratio'], label='A', color = '#ff8d1a', linewidth= 3)\n",
    "plt.plot(cumulativeDataB['date'], cumulativeDataB['ratio'], label='B', linewidth= 3, color='#1a8cff')\n",
    "\n",
    "plt.legend()\n",
    "plt.grid()\n",
    "plt.title('График график кумулятивного среднего количества заказов на посетителя по группам')\n",
    "plt.xlabel('Дата')\n",
    "plt.ylabel('Количество заказов')\n",
    "\n",
    "plt.show()\n",
    "#plt.axis([\"2019-08-01\", \"2019-08-31\", 0, 0.040]) - не могу дабавить параметр, пожалуйста, подскажите как это сделать\n",
    "# появляется еще одна пустая рамка для графика."
   ]
  },
  {
   "cell_type": "markdown",
   "metadata": {},
   "source": [
    "***\n",
    "***Вывод:*** *В начале графика количество заказов на посетителя групп меняли лидерские позиции, но после 5 августа показатели группы В продолжали расти, а показатели группы А - падать. В итоге количество заказов группы А оказалось в пределах 0,029-0,030% . Количетво заказов группы В закрепилась примерно на уровне показателей 0,033-0,034%.*\n",
    "***"
   ]
  },
  {
   "cell_type": "markdown",
   "metadata": {},
   "source": [
    "### График относительного изменения кумулятивного среднего количества заказов на посетителя группы B к группе A"
   ]
  },
  {
   "cell_type": "code",
   "execution_count": 31,
   "metadata": {},
   "outputs": [
    {
     "data": {
      "text/html": [
       "<div>\n",
       "<style scoped>\n",
       "    .dataframe tbody tr th:only-of-type {\n",
       "        vertical-align: middle;\n",
       "    }\n",
       "\n",
       "    .dataframe tbody tr th {\n",
       "        vertical-align: top;\n",
       "    }\n",
       "\n",
       "    .dataframe thead th {\n",
       "        text-align: right;\n",
       "    }\n",
       "</style>\n",
       "<table border=\"1\" class=\"dataframe\">\n",
       "  <thead>\n",
       "    <tr style=\"text-align: right;\">\n",
       "      <th></th>\n",
       "      <th>date</th>\n",
       "      <th>ratioA</th>\n",
       "      <th>ratioB</th>\n",
       "    </tr>\n",
       "  </thead>\n",
       "  <tbody>\n",
       "    <tr>\n",
       "      <th>0</th>\n",
       "      <td>2019-08-01</td>\n",
       "      <td>0.033380</td>\n",
       "      <td>0.029453</td>\n",
       "    </tr>\n",
       "    <tr>\n",
       "      <th>1</th>\n",
       "      <td>2019-08-02</td>\n",
       "      <td>0.032885</td>\n",
       "      <td>0.034776</td>\n",
       "    </tr>\n",
       "    <tr>\n",
       "      <th>2</th>\n",
       "      <td>2019-08-03</td>\n",
       "      <td>0.036856</td>\n",
       "      <td>0.033833</td>\n",
       "    </tr>\n",
       "    <tr>\n",
       "      <th>3</th>\n",
       "      <td>2019-08-04</td>\n",
       "      <td>0.032787</td>\n",
       "      <td>0.030315</td>\n",
       "    </tr>\n",
       "    <tr>\n",
       "      <th>4</th>\n",
       "      <td>2019-08-05</td>\n",
       "      <td>0.032851</td>\n",
       "      <td>0.030793</td>\n",
       "    </tr>\n",
       "  </tbody>\n",
       "</table>\n",
       "</div>"
      ],
      "text/plain": [
       "        date    ratioA    ratioB\n",
       "0 2019-08-01  0.033380  0.029453\n",
       "1 2019-08-02  0.032885  0.034776\n",
       "2 2019-08-03  0.036856  0.033833\n",
       "3 2019-08-04  0.032787  0.030315\n",
       "4 2019-08-05  0.032851  0.030793"
      ]
     },
     "execution_count": 31,
     "metadata": {},
     "output_type": "execute_result"
    }
   ],
   "source": [
    "mergedCumulativeratios = cumulativeDataA[['date','ratio']].merge(cumulativeDataB[['date','ratio']],\n",
    "                                                                           left_on='date', \n",
    "                                                                           right_on='date', how='left', suffixes=['A', 'B'])\n",
    "mergedCumulativeratios.head()"
   ]
  },
  {
   "cell_type": "code",
   "execution_count": 32,
   "metadata": {},
   "outputs": [
    {
     "data": {
      "image/png": "[encoded data removed]",
      "text/plain": [
       "<Figure size 864x432 with 1 Axes>"
      ]
     },
     "metadata": {
      "needs_background": "light"
     },
     "output_type": "display_data"
    }
   ],
   "source": [
    "plt.plot(mergedCumulativeratios['date'], \n",
    "         mergedCumulativeratios['ratioB']/mergedCumulativeratios['ratioA']-1,\n",
    "        linewidth= 3, color='#1a8cff')\n",
    "\n",
    "\n",
    "plt.axhline(y=0, color='black', linestyle='--')\n",
    "plt.axhline(y=0.14, color='grey', linestyle='--') \n",
    "plt.title('График относительного изменения кумулятивного среднего количества заказов на посетителя группы B к группе A')\n",
    "plt.xlabel('Дата')\n",
    "plt.ylabel('Cреднеее количество заказов на посетителя')\n",
    "plt.show()"
   ]
  },
  {
   "cell_type": "markdown",
   "metadata": {},
   "source": [
    "***\n",
    "***Вывод:*** *Среднее количество заказов в начале теста было не стабильно  в группах относительно друг друга.После 5 августа показатель в группе В резко вырос, а в группе А упал. График отношений после этой даты показывает результаты в пользу группы В и к концу теста достигает уровня 0,15 %.* \n",
    "***"
   ]
  },
  {
   "cell_type": "markdown",
   "metadata": {},
   "source": [
    "###  Точечный график количества заказов по пользователям"
   ]
  },
  {
   "cell_type": "code",
   "execution_count": 33,
   "metadata": {},
   "outputs": [
    {
     "data": {
      "text/html": [
       "<div>\n",
       "<style scoped>\n",
       "    .dataframe tbody tr th:only-of-type {\n",
       "        vertical-align: middle;\n",
       "    }\n",
       "\n",
       "    .dataframe tbody tr th {\n",
       "        vertical-align: top;\n",
       "    }\n",
       "\n",
       "    .dataframe thead th {\n",
       "        text-align: right;\n",
       "    }\n",
       "</style>\n",
       "<table border=\"1\" class=\"dataframe\">\n",
       "  <thead>\n",
       "    <tr style=\"text-align: right;\">\n",
       "      <th></th>\n",
       "      <th>user_id</th>\n",
       "      <th>orders</th>\n",
       "    </tr>\n",
       "  </thead>\n",
       "  <tbody>\n",
       "    <tr>\n",
       "      <th>1023</th>\n",
       "      <td>4256040402</td>\n",
       "      <td>11</td>\n",
       "    </tr>\n",
       "    <tr>\n",
       "      <th>591</th>\n",
       "      <td>2458001652</td>\n",
       "      <td>11</td>\n",
       "    </tr>\n",
       "    <tr>\n",
       "      <th>569</th>\n",
       "      <td>2378935119</td>\n",
       "      <td>9</td>\n",
       "    </tr>\n",
       "    <tr>\n",
       "      <th>487</th>\n",
       "      <td>2038680547</td>\n",
       "      <td>8</td>\n",
       "    </tr>\n",
       "    <tr>\n",
       "      <th>44</th>\n",
       "      <td>199603092</td>\n",
       "      <td>5</td>\n",
       "    </tr>\n",
       "    <tr>\n",
       "      <th>744</th>\n",
       "      <td>3062433592</td>\n",
       "      <td>5</td>\n",
       "    </tr>\n",
       "    <tr>\n",
       "      <th>55</th>\n",
       "      <td>237748145</td>\n",
       "      <td>5</td>\n",
       "    </tr>\n",
       "    <tr>\n",
       "      <th>917</th>\n",
       "      <td>3803269165</td>\n",
       "      <td>5</td>\n",
       "    </tr>\n",
       "    <tr>\n",
       "      <th>299</th>\n",
       "      <td>1230306981</td>\n",
       "      <td>5</td>\n",
       "    </tr>\n",
       "    <tr>\n",
       "      <th>897</th>\n",
       "      <td>3717692402</td>\n",
       "      <td>5</td>\n",
       "    </tr>\n",
       "  </tbody>\n",
       "</table>\n",
       "</div>"
      ],
      "text/plain": [
       "         user_id  orders\n",
       "1023  4256040402      11\n",
       "591   2458001652      11\n",
       "569   2378935119       9\n",
       "487   2038680547       8\n",
       "44     199603092       5\n",
       "744   3062433592       5\n",
       "55     237748145       5\n",
       "917   3803269165       5\n",
       "299   1230306981       5\n",
       "897   3717692402       5"
      ]
     },
     "execution_count": 33,
     "metadata": {},
     "output_type": "execute_result"
    }
   ],
   "source": [
    "# подсчитаем количество заказов по пользователям и посмотрим на результат\n",
    "\n",
    "ordersByUsers = (\n",
    "    orders.groupby('visitor_id', as_index=False)\n",
    "    .agg({'transaction_id': 'nunique'})\n",
    ")\n",
    "\n",
    "ordersByUsers.columns = ['user_id', 'orders']\n",
    "\n",
    "ordersByUsers.sort_values(by='orders', ascending=False).head(10)"
   ]
  },
  {
   "cell_type": "code",
   "execution_count": 34,
   "metadata": {},
   "outputs": [
    {
     "data": {
      "image/png": "[encoded data removed]",
      "text/plain": [
       "<Figure size 864x432 with 1 Axes>"
      ]
     },
     "metadata": {
      "needs_background": "light"
     },
     "output_type": "display_data"
    }
   ],
   "source": [
    "# построим точечную диаграмму числа заказов на одного пользователя\n",
    "\n",
    "x_values = pd.Series(range(0,len(ordersByUsers)))\n",
    "plt.scatter(x_values, ordersByUsers['orders'], alpha = 0.5, color='#1a8cff') \n",
    "\n",
    "plt.title('Точечный график количества заказов по пользователям')\n",
    "plt.xlabel('пользователи')\n",
    "plt.ylabel('Заказы')\n",
    "plt.grid()\n",
    "plt.show()"
   ]
  },
  {
   "cell_type": "markdown",
   "metadata": {},
   "source": [
    "***\n",
    "***Вывод:*** *По графику видно, что чаще всего покупатели совершают от 1-2 заказа. Но также мы нашли пользователей, которые делаю от 5 до 11 покупок. Доля их неясна, продолжим исследование, чтобы точно выяснить каков их процент.*\n",
    "***"
   ]
  },
  {
   "cell_type": "markdown",
   "metadata": {},
   "source": [
    "### Перцентили количества заказов на пользователя"
   ]
  },
  {
   "cell_type": "code",
   "execution_count": 35,
   "metadata": {},
   "outputs": [
    {
     "name": "stdout",
     "output_type": "stream",
     "text": [
      "[2. 4.]\n"
     ]
    }
   ],
   "source": [
    "# посчитаем 95-й и 99-й перцентили стоимости заказов\n",
    "print(np.percentile(ordersByUsers['orders'], [95, 99]))"
   ]
  },
  {
   "cell_type": "markdown",
   "metadata": {},
   "source": [
    "***\n",
    "***Вывод:*** *Не более 5% посетителей интренет-магазина делали более двух заказов и не более 1% посетителей более 4-х заказов. Выберем 4 заказа границей для определения аномальных пользователей.*\n",
    "***"
   ]
  },
  {
   "cell_type": "markdown",
   "metadata": {},
   "source": [
    "### Точечный график стоимостей заказов "
   ]
  },
  {
   "cell_type": "code",
   "execution_count": 36,
   "metadata": {},
   "outputs": [
    {
     "data": {
      "text/html": [
       "<div>\n",
       "<style scoped>\n",
       "    .dataframe tbody tr th:only-of-type {\n",
       "        vertical-align: middle;\n",
       "    }\n",
       "\n",
       "    .dataframe tbody tr th {\n",
       "        vertical-align: top;\n",
       "    }\n",
       "\n",
       "    .dataframe thead th {\n",
       "        text-align: right;\n",
       "    }\n",
       "</style>\n",
       "<table border=\"1\" class=\"dataframe\">\n",
       "  <thead>\n",
       "    <tr style=\"text-align: right;\">\n",
       "      <th></th>\n",
       "      <th>transaction_id</th>\n",
       "      <th>visitor_id</th>\n",
       "      <th>date</th>\n",
       "      <th>revenue</th>\n",
       "      <th>group</th>\n",
       "    </tr>\n",
       "  </thead>\n",
       "  <tbody>\n",
       "    <tr>\n",
       "      <th>425</th>\n",
       "      <td>590470918</td>\n",
       "      <td>1920142716</td>\n",
       "      <td>2019-08-19</td>\n",
       "      <td>1294500</td>\n",
       "      <td>B</td>\n",
       "    </tr>\n",
       "    <tr>\n",
       "      <th>1196</th>\n",
       "      <td>3936777065</td>\n",
       "      <td>2108080724</td>\n",
       "      <td>2019-08-15</td>\n",
       "      <td>202740</td>\n",
       "      <td>B</td>\n",
       "    </tr>\n",
       "    <tr>\n",
       "      <th>858</th>\n",
       "      <td>192721366</td>\n",
       "      <td>1316129916</td>\n",
       "      <td>2019-08-27</td>\n",
       "      <td>93940</td>\n",
       "      <td>A</td>\n",
       "    </tr>\n",
       "    <tr>\n",
       "      <th>1136</th>\n",
       "      <td>666610489</td>\n",
       "      <td>1307669133</td>\n",
       "      <td>2019-08-13</td>\n",
       "      <td>92550</td>\n",
       "      <td>A</td>\n",
       "    </tr>\n",
       "    <tr>\n",
       "      <th>744</th>\n",
       "      <td>3668308183</td>\n",
       "      <td>888512513</td>\n",
       "      <td>2019-08-27</td>\n",
       "      <td>86620</td>\n",
       "      <td>B</td>\n",
       "    </tr>\n",
       "    <tr>\n",
       "      <th>682</th>\n",
       "      <td>1216533772</td>\n",
       "      <td>4266935830</td>\n",
       "      <td>2019-08-29</td>\n",
       "      <td>78990</td>\n",
       "      <td>B</td>\n",
       "    </tr>\n",
       "    <tr>\n",
       "      <th>662</th>\n",
       "      <td>1811671147</td>\n",
       "      <td>4266935830</td>\n",
       "      <td>2019-08-29</td>\n",
       "      <td>78990</td>\n",
       "      <td>A</td>\n",
       "    </tr>\n",
       "    <tr>\n",
       "      <th>743</th>\n",
       "      <td>3603576309</td>\n",
       "      <td>4133034833</td>\n",
       "      <td>2019-08-09</td>\n",
       "      <td>67990</td>\n",
       "      <td>A</td>\n",
       "    </tr>\n",
       "    <tr>\n",
       "      <th>1103</th>\n",
       "      <td>1348774318</td>\n",
       "      <td>1164614297</td>\n",
       "      <td>2019-08-12</td>\n",
       "      <td>66350</td>\n",
       "      <td>A</td>\n",
       "    </tr>\n",
       "    <tr>\n",
       "      <th>1099</th>\n",
       "      <td>316924019</td>\n",
       "      <td>148427295</td>\n",
       "      <td>2019-08-12</td>\n",
       "      <td>65710</td>\n",
       "      <td>A</td>\n",
       "    </tr>\n",
       "  </tbody>\n",
       "</table>\n",
       "</div>"
      ],
      "text/plain": [
       "      transaction_id  visitor_id       date  revenue group\n",
       "425        590470918  1920142716 2019-08-19  1294500     B\n",
       "1196      3936777065  2108080724 2019-08-15   202740     B\n",
       "858        192721366  1316129916 2019-08-27    93940     A\n",
       "1136       666610489  1307669133 2019-08-13    92550     A\n",
       "744       3668308183   888512513 2019-08-27    86620     B\n",
       "682       1216533772  4266935830 2019-08-29    78990     B\n",
       "662       1811671147  4266935830 2019-08-29    78990     A\n",
       "743       3603576309  4133034833 2019-08-09    67990     A\n",
       "1103      1348774318  1164614297 2019-08-12    66350     A\n",
       "1099       316924019   148427295 2019-08-12    65710     A"
      ]
     },
     "execution_count": 36,
     "metadata": {},
     "output_type": "execute_result"
    }
   ],
   "source": [
    "# Посмотрим на ТОП-10 максимальных по стоимости заказов\n",
    "orders.sort_values(by='revenue', ascending=False).head(10)"
   ]
  },
  {
   "cell_type": "code",
   "execution_count": 37,
   "metadata": {},
   "outputs": [
    {
     "data": {
      "image/png": "[encoded data removed]",
      "text/plain": [
       "<Figure size 864x432 with 1 Axes>"
      ]
     },
     "metadata": {
      "needs_background": "light"
     },
     "output_type": "display_data"
    }
   ],
   "source": [
    "# посмотрим распределение стоимости заказов\n",
    "x_values = pd.Series(range(0,len(orders['revenue'])))\n",
    "plt.scatter(x_values, orders['revenue'], alpha = 0.5, color='#1a8cff') \n",
    "\n",
    "plt.title('Точечный график стоимостей заказов')\n",
    "plt.xlabel('Пользователи')\n",
    "plt.ylabel('Стоимость заказов')\n",
    "plt.ticklabel_format(style='plain', axis='y')\n",
    "plt.grid()\n",
    "plt.show()"
   ]
  },
  {
   "cell_type": "code",
   "execution_count": 38,
   "metadata": {},
   "outputs": [
    {
     "data": {
      "image/png": "[encoded data removed]",
      "text/plain": [
       "<Figure size 864x432 with 1 Axes>"
      ]
     },
     "metadata": {
      "needs_background": "light"
     },
     "output_type": "display_data"
    }
   ],
   "source": [
    "# посмотрим распределение стоимости заказов без выброса\n",
    "x_values = pd.Series(range(0,len(orders['revenue'])))\n",
    "plt.scatter(x_values, orders['revenue'], alpha = 0.5, color='#1a8cff') \n",
    "\n",
    "plt.title('Точечный график стоимостей заказов')\n",
    "plt.xlabel('Пользователи')\n",
    "plt.ylabel('Стоимость заказов')\n",
    "plt.ticklabel_format(style='plain', axis='y')\n",
    "plt.ylim(0, 120000)\n",
    "plt.grid()\n",
    "plt.show()"
   ]
  },
  {
   "cell_type": "markdown",
   "metadata": {},
   "source": [
    "***\n",
    "***Вывод:*** *График нам показывает, что чаще всего пользователи делают покупки суммой до 15000 рублей. Но невозможно не обратить внимания на покупателя с  ID 1920142716, который совершил покупку на 1294500 рублей. Большая часть заказов совершается стоимостью до 20000 рублей. Есть небольшая часть заказов от 20000 до 60000 рублей. Нужно точно выяснить какова их доля.*\n",
    "***"
   ]
  },
  {
   "cell_type": "markdown",
   "metadata": {},
   "source": [
    "### Перцентили стоимости заказов"
   ]
  },
  {
   "cell_type": "code",
   "execution_count": 39,
   "metadata": {},
   "outputs": [
    {
     "name": "stdout",
     "output_type": "stream",
     "text": [
      "[28000.  58233.2]\n"
     ]
    }
   ],
   "source": [
    "# посчитаем 95-й и 99-й перцентили стоимости заказов\n",
    "print(np.percentile(orders['revenue'], [95, 99]))"
   ]
  },
  {
   "cell_type": "markdown",
   "metadata": {},
   "source": [
    "***\n",
    "***Вывод:*** *Не более 5% покупок в интренет-магазине совершается со стоимостью более 28000 рублей и не более 1% покупок более 58233.2 рублей. Выберем 58000 границей для определения аномальных заказов.*\n",
    "***"
   ]
  },
  {
   "cell_type": "markdown",
   "metadata": {},
   "source": [
    "### Различия в среднем количестве заказов на посетителя по сырым данным"
   ]
  },
  {
   "cell_type": "markdown",
   "metadata": {},
   "source": [
    "\n",
    "\n",
    "Посчитаем статистическую значимость различий в среднем количестве заказов на посетителя между группами по «сырым» данным. \n",
    "Сформулируем гипотезы. \n",
    "Нулевая: различий в среднем количестве заказов между группами нет. \n",
    "Альтернативная: различия в среднем между группами есть."
   ]
  },
  {
   "cell_type": "code",
   "execution_count": 40,
   "metadata": {},
   "outputs": [],
   "source": [
    "# Определим посетителей для каждой группы\n",
    "visitorsPerDateA = visitors.query('group= = \"A\"')\n",
    "visitorsPerDateB = visitors.query('group= = \"B\"')"
   ]
  },
  {
   "cell_type": "markdown",
   "metadata": {},
   "source": [
    "Создадим переменные ordersByUsersA и ordersByUsersB со столбцами ['visitor_id', 'orders']. В них для пользователей, которые заказывали хотя бы 1 раз, укажем число совершённых заказов. "
   ]
  },
  {
   "cell_type": "code",
   "execution_count": 41,
   "metadata": {},
   "outputs": [],
   "source": [
    "ordersByUsersA = (\n",
    "    orders[orders['group'] == 'A']\n",
    "    .groupby('visitor_id', as_index=False)\n",
    "    .agg({'transaction_id': pd.Series.nunique})\n",
    ")\n",
    "ordersByUsersA.columns = ['visitor_id', 'orders']\n",
    "\n",
    "ordersByUsersB = (\n",
    "    orders[orders['group'] == 'B']\n",
    "    .groupby('visitor_id', as_index=False)\n",
    "    .agg({'transaction_id': pd.Series.nunique})\n",
    ")\n",
    "ordersByUsersB.columns = ['visitor_id', 'orders']"
   ]
  },
  {
   "cell_type": "markdown",
   "metadata": {},
   "source": [
    "Объявим переменные sampleA и sampleB, в которых пользователям из разных групп будет соответствовать количество заказов. Тем, кто ничего не заказал, будут соответствовать нули. "
   ]
  },
  {
   "cell_type": "code",
   "execution_count": 42,
   "metadata": {},
   "outputs": [],
   "source": [
    "sampleA = pd.concat(\n",
    "    [\n",
    "        ordersByUsersA['orders'],\n",
    "        pd.Series(\n",
    "            0,\n",
    "            index=np.arange(\n",
    "                visitorsPerDateA['visitors'].sum() - len(ordersByUsersA['orders'])\n",
    "            ),\n",
    "            name='orders',\n",
    "        ),\n",
    "    ],\n",
    "    axis=0,\n",
    ")\n",
    "\n",
    "sampleB = pd.concat(\n",
    "    [\n",
    "        ordersByUsersB['orders'],\n",
    "        pd.Series(\n",
    "            0,\n",
    "            index=np.arange(\n",
    "                visitorsPerDateB['visitors'].sum() - len(ordersByUsersB['orders'])\n",
    "            ),\n",
    "            name='orders',\n",
    "        ),\n",
    "    ],\n",
    "    axis=0,\n",
    ")"
   ]
  },
  {
   "cell_type": "markdown",
   "metadata": {},
   "source": [
    "Ранее мы наблюдали графическое отображение выбросов в данных. Дополнительно проверим распределения выборок на нормальность, применив критерий Шапиро-Уилка."
   ]
  },
  {
   "cell_type": "code",
   "execution_count": 43,
   "metadata": {},
   "outputs": [
    {
     "name": "stdout",
     "output_type": "stream",
     "text": [
      "p-значение: 0.0\n",
      "Отвергаем нулевую гипотезу: распределение не нормально\n"
     ]
    },
    {
     "name": "stderr",
     "output_type": "stream",
     "text": [
      "/opt/conda/lib/python3.9/site-packages/scipy/stats/_morestats.py:1800: UserWarning: p-value may not be accurate for N > 5000.\n",
      "  warnings.warn(\"p-value may not be accurate for N > 5000.\")\n"
     ]
    }
   ],
   "source": [
    "# проверим нормальность распределения в среднем количестве заказов на посетителя по сырым данным в группе А\n",
    "alpha = 0.05  # критический уровень статистической значимости\n",
    "\n",
    "results = st.shapiro(sampleA)\n",
    "p_value = results[1]                 \n",
    "\n",
    "print('p-значение:', p_value)\n",
    "\n",
    "if p_value < alpha:\n",
    "    print('Отвергаем нулевую гипотезу: распределение не нормально')\n",
    "else:\n",
    "    print('Не получилось отвергнуть нулевую гипотезу, всё нормально') "
   ]
  },
  {
   "cell_type": "code",
   "execution_count": 44,
   "metadata": {
    "scrolled": true
   },
   "outputs": [
    {
     "name": "stdout",
     "output_type": "stream",
     "text": [
      "p-значение: 0.0\n",
      "Отвергаем нулевую гипотезу: распределение не нормально\n"
     ]
    }
   ],
   "source": [
    "# проверим нормальность распределения количество заказов по пользователям \n",
    "alpha = 0.05  # критический уровень статистической значимости\n",
    "\n",
    "results = st.shapiro(sampleB)\n",
    "p_value = results[1]\n",
    "\n",
    "print('p-значение:', p_value)\n",
    "\n",
    "if p_value < alpha:\n",
    "    print('Отвергаем нулевую гипотезу: распределение не нормально')\n",
    "else:\n",
    "    print('Не получилось отвергнуть нулевую гипотезу, всё нормально') "
   ]
  },
  {
   "cell_type": "markdown",
   "metadata": {},
   "source": [
    "Поскольку в наших данных есть выбросы и они сотоят из двух независимых выборок, применим метод st.mannwhitneyu().\n",
    "Определим уровень статистической значимости alpha = 0.05"
   ]
  },
  {
   "cell_type": "code",
   "execution_count": 45,
   "metadata": {},
   "outputs": [
    {
     "name": "stdout",
     "output_type": "stream",
     "text": [
      "Статистическая значимость различий в среднем количестве заказов на посетителя между группами по «сырым» данным: 0.017\n",
      "Относительный прирост среднего числа заказов группы B к группе А: 0.138\n"
     ]
    }
   ],
   "source": [
    "print('Статистическая значимость различий в среднем количестве заказов на посетителя между группами по «сырым» данным:',\"{0:.3f}\".format(stats.mannwhitneyu(sampleA, sampleB)[1]))\n",
    "print('Относительный прирост среднего числа заказов группы B к группе А:',\"{0:.3f}\".format(sampleB.mean() / sampleA.mean() - 1))"
   ]
  },
  {
   "cell_type": "markdown",
   "metadata": {},
   "source": [
    "***\n",
    "***Вывод:*** *По сырым данным P-value 0,017 значительно меньше alpha. Мы можем отвергнуть нулевую гипотезу - различия в среднем количестве заказов между группами есть. Относительный прирост среднего числа заказов группы B - 13,8%. Посмотрим повлиял ли на этот результат выброс в дальнейших расчетах.*\n",
    "***"
   ]
  },
  {
   "cell_type": "markdown",
   "metadata": {},
   "source": [
    "### Различия в среднем чеке заказа между группами по «сырым» данным"
   ]
  },
  {
   "cell_type": "markdown",
   "metadata": {},
   "source": [
    "Посчитаем статистическую значимость различий в среднем чеке заказа между группами по «сырым» данным.\n",
    "Нулевая гипотеза: различий в среднем чеке между группами нет. Альтернативная гипотеза: различия в среднем чеке между группами есть. И найдём относительные различия в среднем чеке между группами."
   ]
  },
  {
   "cell_type": "code",
   "execution_count": 46,
   "metadata": {},
   "outputs": [
    {
     "name": "stdout",
     "output_type": "stream",
     "text": [
      "Cтатистическая значимость различий в среднем чеке заказа между группами по «сырым» данным: 0.729\n",
      "Относительные различия в среднем чеке между группами В и А: 0.259\n"
     ]
    }
   ],
   "source": [
    "print('Cтатистическая значимость различий в среднем чеке заказа между группами по «сырым» данным:','{0:.3f}'.format(stats.mannwhitneyu(orders[orders['group']=='A']['revenue'], orders[orders['group']=='B']['revenue'])[1]))\n",
    "print('Относительные различия в среднем чеке между группами В и А:','{0:.3f}'.format(orders[orders['group']=='B']['revenue'].mean()/orders[orders['group']=='A']['revenue'].mean()-1)) "
   ]
  },
  {
   "cell_type": "markdown",
   "metadata": {},
   "source": [
    "***\n",
    "***Вывод:*** *P-value 0.729 значительно больше 0.05. Значит, причин отвергать нулевую гипотезу и считать, что в среднем чеке есть различия, нет. Впрочем, средний чек группы B  выше среднего чека группы A на 25,9%. Возможно опять причиной тому выбросы в даных.*\n",
    "***"
   ]
  },
  {
   "cell_type": "markdown",
   "metadata": {},
   "source": [
    "###  Различия в среднем количестве заказов на посетителя между группами по «очищенным» данным"
   ]
  },
  {
   "cell_type": "markdown",
   "metadata": {},
   "source": [
    "Сосчитаем статистическую значимость различий в среднем количестве заказов на посетителя между группами по «очищенным» данным. \n",
    "\n",
    "Ранее мы выяснили, что не более 5% посетителей интренет-магазина делали более двух заказов и не более 1% посетителей более 4-х заказов. Выберем 4 заказа границей для определения аномальных пользователей.\n",
    " Так же не более 5% покупок в интренет-магазине совершается со стоимостью более 28000 рублей и не более 1% покупок более 58233.2 рублей. Выберем 58233.2  границей для определения аномальных заказов."
   ]
  },
  {
   "cell_type": "markdown",
   "metadata": {},
   "source": [
    "Сделаем срезы пользователей с числом заказов больше 4 — usersWithManyOrders и пользователей, совершивших заказы дороже 58233.2 — usersWithExpensiveOrders. Объединим их в таблице abnormalUsers. "
   ]
  },
  {
   "cell_type": "code",
   "execution_count": 47,
   "metadata": {},
   "outputs": [
    {
     "name": "stdout",
     "output_type": "stream",
     "text": [
      "Количетво пользователей, совершивших более 4 покупок или потративших сумму более 58233.2 рублей: 15\n"
     ]
    }
   ],
   "source": [
    "usersWithManyOrders = pd.concat(\n",
    "    [\n",
    "        ordersByUsersA[ordersByUsersA['orders'] > int(np.percentile(ordersByUsers['orders'], [99]))]['visitor_id'],\n",
    "        ordersByUsersB[ordersByUsersB['orders'] > int(np.percentile(ordersByUsers['orders'], [99]))]['visitor_id'],\n",
    "    ],\n",
    "    axis=0,\n",
    ")\n",
    "usersWithExpensiveOrders = orders[orders['revenue'] > int(np.percentile(orders['revenue'], [99]))]['visitor_id']\n",
    "abnormalUsers = (\n",
    "    pd.concat([usersWithManyOrders, usersWithExpensiveOrders], axis=0)\n",
    "    .drop_duplicates()\n",
    "    .sort_values()\n",
    ")\n",
    "print('Количетво пользователей, совершивших более 4 покупок или потративших сумму более 58233.2 рублей:',abnormalUsers.shape[0])"
   ]
  },
  {
   "cell_type": "markdown",
   "metadata": {},
   "source": [
    "Мы получили 14 аномальнх пользователей. Проверим, какую роль сыграли эти аномали в тесте. Посчитаем статистическую значимость различий в среднем количестве заказов между группами теста по очищенным данным. Сначала подготовим выборки количества заказов по пользователям по группам теста."
   ]
  },
  {
   "cell_type": "code",
   "execution_count": 48,
   "metadata": {},
   "outputs": [],
   "source": [
    "sampleAFiltered = pd.concat(\n",
    "    [\n",
    "        ordersByUsersA[\n",
    "            np.logical_not(ordersByUsersA['visitor_id'].isin(abnormalUsers))\n",
    "        ]['orders'],\n",
    "        pd.Series(\n",
    "            0,\n",
    "            index=np.arange(\n",
    "                visitorsPerDateA['visitors'].sum() - len(ordersByUsersA['orders'])\n",
    "            ),\n",
    "            name='orders',\n",
    "        ),\n",
    "    ],\n",
    "    axis=0,\n",
    ")\n",
    "\n",
    "sampleBFiltered = pd.concat(\n",
    "    [\n",
    "        ordersByUsersB[\n",
    "            np.logical_not(ordersByUsersB['visitor_id'].isin(abnormalUsers))\n",
    "        ]['orders'],\n",
    "        pd.Series(\n",
    "            0,\n",
    "            index=np.arange(\n",
    "                visitorsPerDateB['visitors'].sum() - len(ordersByUsersB['orders'])\n",
    "            ),\n",
    "            name='orders',\n",
    "        ),\n",
    "    ],\n",
    "    axis=0,\n",
    ")"
   ]
  },
  {
   "cell_type": "markdown",
   "metadata": {},
   "source": [
    "Применим статистический критерий Манна-Уитни к полученным выборкам. alpha = 0.05. Нулевая гипотеза: различий в среднем количестве заказов между группами нет. Альтернативная: различия в среднем между группами есть."
   ]
  },
  {
   "cell_type": "code",
   "execution_count": 49,
   "metadata": {},
   "outputs": [
    {
     "name": "stdout",
     "output_type": "stream",
     "text": [
      "Cтатистическая значимость различий в среднем количестве заказов на посетителя между группами по «очищенным» данным:0.014\n",
      "Относительный прирост среднего числа заказов группы B к А: 0.153\n"
     ]
    }
   ],
   "source": [
    "print('Cтатистическая значимость различий в среднем количестве заказов на посетителя между группами по «очищенным» данным:''{0:.3f}'.format(stats.mannwhitneyu(sampleAFiltered, sampleBFiltered)[1]))\n",
    "print('Относительный прирост среднего числа заказов группы B к А:','{0:.3f}'.format(sampleBFiltered.mean()/sampleAFiltered.mean()-1)) "
   ]
  },
  {
   "cell_type": "markdown",
   "metadata": {},
   "source": [
    "***\n",
    "***Вывод:*** *По очищенным от выбросов данным P-value 0,014 также как и по сырым значительно меньше 0.05. Мы и тут можем отвергнуть нулевую гипотезу - различия в среднем между группами есть. Относительный прирост среднего числа заказов группы B увеличолось  - 15,3%.*\n",
    "***"
   ]
  },
  {
   "cell_type": "markdown",
   "metadata": {},
   "source": [
    "### Различия в среднем чеке заказа между группами по «очищенным» данным."
   ]
  },
  {
   "cell_type": "markdown",
   "metadata": {},
   "source": [
    "Посчитаем статистическую значимость различий в среднем чеке заказа между группами по «очищенным» данным. \n",
    "Н0: различий в среднем чеке между группами нет. \n",
    "Н1: различия в среднем чеке между группами есть. "
   ]
  },
  {
   "cell_type": "code",
   "execution_count": 50,
   "metadata": {},
   "outputs": [
    {
     "name": "stdout",
     "output_type": "stream",
     "text": [
      "Cтатистическая значимость различий в среднем чеке заказа между группами по «очищенным» данным: 0.851\n",
      "Относительные различия в среднем чеке между группами В и А: -0.006\n"
     ]
    }
   ],
   "source": [
    "print('Cтатистическая значимость различий в среднем чеке заказа между группами по «очищенным» данным:',\n",
    "    '{0:.3f}'.format(\n",
    "        stats.mannwhitneyu(\n",
    "            orders[\n",
    "                np.logical_and(\n",
    "                    orders['group'] == 'A',\n",
    "                    np.logical_not(orders['visitor_id'].isin(abnormalUsers)),\n",
    "                )\n",
    "            ]['revenue'],\n",
    "            orders[\n",
    "                np.logical_and(\n",
    "                    orders['group'] == 'B',\n",
    "                    np.logical_not(orders['visitor_id'].isin(abnormalUsers)),\n",
    "                )\n",
    "            ]['revenue'],\n",
    "        )[1]\n",
    "    )\n",
    ")\n",
    "\n",
    "print('Относительные различия в среднем чеке между группами В и А:',\n",
    "    \"{0:.3f}\".format(\n",
    "        orders[\n",
    "            np.logical_and(\n",
    "                orders['group'] == 'B',\n",
    "                np.logical_not(orders['visitor_id'].isin(abnormalUsers)),\n",
    "            )\n",
    "        ]['revenue'].mean()\n",
    "        / orders[\n",
    "            np.logical_and(\n",
    "                orders['group'] == 'A',\n",
    "                np.logical_not(orders['visitor_id'].isin(abnormalUsers)),\n",
    "            )\n",
    "        ]['revenue'].mean()\n",
    "        - 1\n",
    "    )\n",
    ") "
   ]
  },
  {
   "cell_type": "markdown",
   "metadata": {},
   "source": [
    "***\n",
    "***Вывод:*** *P-value 0,851 как и раньше больше 0.05. Значит, причин отвергать нулевую гипотезу и считать, что в среднем чеке есть различия, нет. Вто же время, средний чек группы B стал ниже, чем у группы А на 0,6%. Удаление выбросов весомо поняло картину в среднем чеке.*\n",
    "***"
   ]
  },
  {
   "cell_type": "markdown",
   "metadata": {},
   "source": [
    "## Вывод"
   ]
  },
  {
   "cell_type": "markdown",
   "metadata": {},
   "source": [
    "***\n",
    "***В нашем распоряжении были данные с результатами проведенного А/В тестов крупного интернет - магазина.***\n",
    "\n",
    "*По итогу нашего исследования методами ICE RICE мы определили две приоритетные гипотезы по увеличению выручки интернет-магазина:*\n",
    "\n",
    "***1.***  *Добавить форму подписки на все основные страницы, чтобы собрать базу клиентов для email-рассылок*\n",
    "\n",
    "***2.***  *Добавить два новых канала привлечения трафика, что позволит привлекать на 30% больше пользователей*\n",
    "    \n",
    "***Мы исследовали данные и нашли в них некоторые особенности:***\n",
    "\n",
    "* *Тест проходил 30 дней. С 1 по 31 августа 2019 года*\n",
    "\n",
    "* *Различие количества пользователей составляют не более, чем 1%.*\n",
    "\n",
    "* *Обнаружили пользователей, которые попали в обе группы, их количество составляет 5,6% от общего числа уникальных пользователей. Решили оставить исходные данные, так как не сможем удалить этих пользователей из двух датафреймов.*\n",
    "\n",
    "***Проанализировали результаты A/B-теста:***\n",
    "\n",
    "*  *Различия в среднем количестве заказов между группами есть. По сырым данным P-value 0,017 , по очищенным - 0,014. Оба показателя значительно меньше alpha 0,05. Относительный прирост среднего числа заказов группы B увеличилось - 15,3% по сырым данным и 13,8%.*\n",
    "\n",
    "\n",
    "* *Различия в среднем чеке не обнаружилось. По сырым данным P-value 0.729, по очищенным - 0,851. Оба параметра значительно больше 0.05. Средний чек группы B по сырым данным был выше среднего чека группы A на 25,9%. А по очищенным -  средний чек группы B стал даже ниже, чем у группы А на 0,6%. Удаление выбросов в данных весомо поняло картину в среднем чеке.*\n",
    "\n",
    "\n",
    "* *По итогам принимаем решение остановить тест. Группа В победила - количество продаж увеличилось, а значит и выручка возросла.Это подтверждает и график кумулятивной выручки.*\n",
    "\n",
    "***"
   ]
  },
  {
   "cell_type": "code",
   "execution_count": null,
   "metadata": {},
   "outputs": [],
   "source": []
  }
 ],
 "metadata": {
  "ExecuteTimeLog": [
   {
    "duration": 50,
    "start_time": "2023-02-22T19:23:19.723Z"
   },
   {
    "duration": 394,
    "start_time": "2023-02-22T19:26:02.429Z"
   },
   {
    "duration": 83,
    "start_time": "2023-02-22T19:26:02.968Z"
   },
   {
    "duration": 68,
    "start_time": "2023-02-22T19:27:29.033Z"
   },
   {
    "duration": 28,
    "start_time": "2023-02-22T19:27:39.172Z"
   },
   {
    "duration": 34,
    "start_time": "2023-02-22T19:38:49.076Z"
   },
   {
    "duration": 35,
    "start_time": "2023-02-22T19:39:03.836Z"
   },
   {
    "duration": 54,
    "start_time": "2023-02-22T19:41:32.838Z"
   },
   {
    "duration": 28,
    "start_time": "2023-02-22T19:42:04.327Z"
   },
   {
    "duration": 399,
    "start_time": "2023-02-22T19:42:22.600Z"
   },
   {
    "duration": 39,
    "start_time": "2023-02-22T19:42:23.001Z"
   },
   {
    "duration": 29,
    "start_time": "2023-02-22T19:43:55.634Z"
   },
   {
    "duration": 29,
    "start_time": "2023-02-22T19:44:21.230Z"
   },
   {
    "duration": 376,
    "start_time": "2023-02-22T19:44:27.553Z"
   },
   {
    "duration": 30,
    "start_time": "2023-02-22T19:44:27.931Z"
   },
   {
    "duration": 40,
    "start_time": "2023-02-22T19:45:21.181Z"
   },
   {
    "duration": 1285,
    "start_time": "2023-02-22T20:02:40.851Z"
   },
   {
    "duration": 823,
    "start_time": "2023-02-22T20:05:18.693Z"
   },
   {
    "duration": 32,
    "start_time": "2023-02-22T20:05:19.518Z"
   },
   {
    "duration": 8,
    "start_time": "2023-02-22T20:05:19.552Z"
   },
   {
    "duration": 34,
    "start_time": "2023-02-22T20:07:55.438Z"
   },
   {
    "duration": 611,
    "start_time": "2023-02-22T20:08:09.920Z"
   },
   {
    "duration": 35,
    "start_time": "2023-02-22T20:08:10.534Z"
   },
   {
    "duration": 10,
    "start_time": "2023-02-22T20:08:10.570Z"
   },
   {
    "duration": 8,
    "start_time": "2023-02-22T20:10:18.220Z"
   },
   {
    "duration": 11,
    "start_time": "2023-02-22T20:10:26.319Z"
   },
   {
    "duration": 633,
    "start_time": "2023-02-22T20:28:39.786Z"
   },
   {
    "duration": 89,
    "start_time": "2023-02-22T20:28:40.420Z"
   },
   {
    "duration": 0,
    "start_time": "2023-02-22T20:28:40.511Z"
   },
   {
    "duration": 0,
    "start_time": "2023-02-22T20:28:40.512Z"
   },
   {
    "duration": 0,
    "start_time": "2023-02-22T20:28:40.513Z"
   },
   {
    "duration": 587,
    "start_time": "2023-02-22T20:29:02.557Z"
   },
   {
    "duration": 36,
    "start_time": "2023-02-22T20:29:03.146Z"
   },
   {
    "duration": 13,
    "start_time": "2023-02-22T20:29:03.184Z"
   },
   {
    "duration": 12,
    "start_time": "2023-02-22T20:29:03.198Z"
   },
   {
    "duration": 95,
    "start_time": "2023-02-22T20:29:03.212Z"
   },
   {
    "duration": 59,
    "start_time": "2023-02-22T20:29:31.876Z"
   },
   {
    "duration": 54,
    "start_time": "2023-02-22T20:33:24.452Z"
   },
   {
    "duration": 51,
    "start_time": "2023-02-24T11:09:03.473Z"
   },
   {
    "duration": 750,
    "start_time": "2023-02-24T11:09:13.053Z"
   },
   {
    "duration": 66,
    "start_time": "2023-02-24T11:09:13.805Z"
   },
   {
    "duration": 11,
    "start_time": "2023-02-24T11:09:13.872Z"
   },
   {
    "duration": 10,
    "start_time": "2023-02-24T11:09:13.884Z"
   },
   {
    "duration": 67,
    "start_time": "2023-02-24T11:09:13.896Z"
   },
   {
    "duration": 57,
    "start_time": "2023-02-24T11:09:13.964Z"
   },
   {
    "duration": 653,
    "start_time": "2023-02-24T11:10:12.792Z"
   },
   {
    "duration": 30,
    "start_time": "2023-02-24T11:10:13.447Z"
   },
   {
    "duration": 11,
    "start_time": "2023-02-24T11:10:13.478Z"
   },
   {
    "duration": 10,
    "start_time": "2023-02-24T11:10:13.490Z"
   },
   {
    "duration": 106,
    "start_time": "2023-02-24T11:10:13.502Z"
   },
   {
    "duration": 0,
    "start_time": "2023-02-24T11:10:13.609Z"
   },
   {
    "duration": 46,
    "start_time": "2023-02-24T11:10:31.791Z"
   },
   {
    "duration": 27,
    "start_time": "2023-02-24T11:10:39.652Z"
   },
   {
    "duration": 649,
    "start_time": "2023-02-24T11:18:26.939Z"
   },
   {
    "duration": 32,
    "start_time": "2023-02-24T11:18:27.590Z"
   },
   {
    "duration": 12,
    "start_time": "2023-02-24T11:18:27.624Z"
   },
   {
    "duration": 22,
    "start_time": "2023-02-24T11:18:27.638Z"
   },
   {
    "duration": 39,
    "start_time": "2023-02-24T11:18:27.662Z"
   },
   {
    "duration": 17,
    "start_time": "2023-02-24T11:18:27.702Z"
   },
   {
    "duration": 252,
    "start_time": "2023-02-24T11:19:58.932Z"
   },
   {
    "duration": 628,
    "start_time": "2023-02-24T11:20:37.404Z"
   },
   {
    "duration": 33,
    "start_time": "2023-02-24T11:20:38.034Z"
   },
   {
    "duration": 11,
    "start_time": "2023-02-24T11:20:38.068Z"
   },
   {
    "duration": 10,
    "start_time": "2023-02-24T11:20:38.081Z"
   },
   {
    "duration": 35,
    "start_time": "2023-02-24T11:20:38.093Z"
   },
   {
    "duration": 16,
    "start_time": "2023-02-24T11:20:38.130Z"
   },
   {
    "duration": 264,
    "start_time": "2023-02-24T11:20:38.148Z"
   },
   {
    "duration": 684,
    "start_time": "2023-02-24T11:21:42.363Z"
   },
   {
    "duration": 46,
    "start_time": "2023-02-24T11:21:43.049Z"
   },
   {
    "duration": 18,
    "start_time": "2023-02-24T11:21:43.098Z"
   },
   {
    "duration": 13,
    "start_time": "2023-02-24T11:21:43.118Z"
   },
   {
    "duration": 46,
    "start_time": "2023-02-24T11:21:43.133Z"
   },
   {
    "duration": 17,
    "start_time": "2023-02-24T11:21:43.181Z"
   },
   {
    "duration": 325,
    "start_time": "2023-02-24T11:21:43.200Z"
   },
   {
    "duration": 7,
    "start_time": "2023-02-24T11:23:10.825Z"
   },
   {
    "duration": 11,
    "start_time": "2023-02-24T11:23:29.671Z"
   },
   {
    "duration": 7,
    "start_time": "2023-02-24T11:24:25.022Z"
   },
   {
    "duration": 9,
    "start_time": "2023-02-24T11:24:32.973Z"
   },
   {
    "duration": 7,
    "start_time": "2023-02-24T11:24:41.674Z"
   },
   {
    "duration": 644,
    "start_time": "2023-02-24T11:32:12.745Z"
   },
   {
    "duration": 30,
    "start_time": "2023-02-24T11:32:13.391Z"
   },
   {
    "duration": 11,
    "start_time": "2023-02-24T11:32:13.422Z"
   },
   {
    "duration": 10,
    "start_time": "2023-02-24T11:32:13.434Z"
   },
   {
    "duration": 38,
    "start_time": "2023-02-24T11:32:13.446Z"
   },
   {
    "duration": 16,
    "start_time": "2023-02-24T11:32:13.485Z"
   },
   {
    "duration": 17,
    "start_time": "2023-02-24T11:32:13.503Z"
   },
   {
    "duration": 260,
    "start_time": "2023-02-24T11:32:13.522Z"
   },
   {
    "duration": 58,
    "start_time": "2023-02-24T11:35:32.372Z"
   },
   {
    "duration": 652,
    "start_time": "2023-02-24T11:35:44.323Z"
   },
   {
    "duration": 32,
    "start_time": "2023-02-24T11:35:44.977Z"
   },
   {
    "duration": 13,
    "start_time": "2023-02-24T11:35:45.010Z"
   },
   {
    "duration": 21,
    "start_time": "2023-02-24T11:35:45.024Z"
   },
   {
    "duration": 53,
    "start_time": "2023-02-24T11:35:45.047Z"
   },
   {
    "duration": 21,
    "start_time": "2023-02-24T11:35:45.101Z"
   },
   {
    "duration": 44,
    "start_time": "2023-02-24T11:35:45.123Z"
   },
   {
    "duration": 0,
    "start_time": "2023-02-24T11:35:45.169Z"
   },
   {
    "duration": 48,
    "start_time": "2023-02-24T11:36:28.482Z"
   },
   {
    "duration": 26,
    "start_time": "2023-02-24T11:36:32.978Z"
   },
   {
    "duration": 6,
    "start_time": "2023-02-24T11:38:39.814Z"
   },
   {
    "duration": 7,
    "start_time": "2023-02-24T11:39:11.982Z"
   },
   {
    "duration": 6,
    "start_time": "2023-02-24T11:39:26.234Z"
   },
   {
    "duration": 654,
    "start_time": "2023-02-24T11:43:00.773Z"
   },
   {
    "duration": 38,
    "start_time": "2023-02-24T11:43:01.429Z"
   },
   {
    "duration": 12,
    "start_time": "2023-02-24T11:43:01.469Z"
   },
   {
    "duration": 51,
    "start_time": "2023-02-24T11:43:01.482Z"
   },
   {
    "duration": 64,
    "start_time": "2023-02-24T11:43:01.536Z"
   },
   {
    "duration": 19,
    "start_time": "2023-02-24T11:43:01.602Z"
   },
   {
    "duration": 34,
    "start_time": "2023-02-24T11:43:01.625Z"
   },
   {
    "duration": 23,
    "start_time": "2023-02-24T11:43:01.661Z"
   },
   {
    "duration": 16,
    "start_time": "2023-02-24T11:43:01.686Z"
   },
   {
    "duration": 29,
    "start_time": "2023-02-24T11:43:01.704Z"
   },
   {
    "duration": 57,
    "start_time": "2023-02-24T11:43:01.734Z"
   },
   {
    "duration": 0,
    "start_time": "2023-02-24T11:43:01.793Z"
   },
   {
    "duration": 3,
    "start_time": "2023-02-24T11:43:57.711Z"
   },
   {
    "duration": 16,
    "start_time": "2023-02-24T11:46:18.309Z"
   },
   {
    "duration": 7,
    "start_time": "2023-02-24T11:46:21.959Z"
   },
   {
    "duration": 7,
    "start_time": "2023-02-24T11:46:23.431Z"
   },
   {
    "duration": 8,
    "start_time": "2023-02-24T11:47:17.953Z"
   },
   {
    "duration": 282,
    "start_time": "2023-02-24T11:53:32.011Z"
   },
   {
    "duration": 641,
    "start_time": "2023-02-24T11:54:47.987Z"
   },
   {
    "duration": 30,
    "start_time": "2023-02-24T11:54:48.630Z"
   },
   {
    "duration": 14,
    "start_time": "2023-02-24T11:54:48.672Z"
   },
   {
    "duration": 16,
    "start_time": "2023-02-24T11:54:48.687Z"
   },
   {
    "duration": 50,
    "start_time": "2023-02-24T11:54:48.704Z"
   },
   {
    "duration": 16,
    "start_time": "2023-02-24T11:54:48.756Z"
   },
   {
    "duration": 16,
    "start_time": "2023-02-24T11:54:48.773Z"
   },
   {
    "duration": 4,
    "start_time": "2023-02-24T11:54:48.790Z"
   },
   {
    "duration": 5,
    "start_time": "2023-02-24T11:54:48.796Z"
   },
   {
    "duration": 4,
    "start_time": "2023-02-24T11:54:48.803Z"
   },
   {
    "duration": 33,
    "start_time": "2023-02-24T11:54:48.809Z"
   },
   {
    "duration": 16,
    "start_time": "2023-02-24T11:54:48.844Z"
   },
   {
    "duration": 15,
    "start_time": "2023-02-24T11:54:48.862Z"
   },
   {
    "duration": 290,
    "start_time": "2023-02-24T11:54:48.881Z"
   },
   {
    "duration": 570,
    "start_time": "2023-02-24T11:57:39.870Z"
   },
   {
    "duration": 30,
    "start_time": "2023-02-24T11:57:40.442Z"
   },
   {
    "duration": 10,
    "start_time": "2023-02-24T11:57:40.473Z"
   },
   {
    "duration": 9,
    "start_time": "2023-02-24T11:57:40.485Z"
   },
   {
    "duration": 40,
    "start_time": "2023-02-24T11:57:40.496Z"
   },
   {
    "duration": 17,
    "start_time": "2023-02-24T11:57:40.537Z"
   },
   {
    "duration": 16,
    "start_time": "2023-02-24T11:57:40.555Z"
   },
   {
    "duration": 16,
    "start_time": "2023-02-24T11:57:40.573Z"
   },
   {
    "duration": 7,
    "start_time": "2023-02-24T11:57:40.590Z"
   },
   {
    "duration": 4,
    "start_time": "2023-02-24T11:57:40.599Z"
   },
   {
    "duration": 16,
    "start_time": "2023-02-24T11:57:40.604Z"
   },
   {
    "duration": 8,
    "start_time": "2023-02-24T11:57:40.622Z"
   },
   {
    "duration": 8,
    "start_time": "2023-02-24T11:57:40.631Z"
   },
   {
    "duration": 281,
    "start_time": "2023-02-24T11:57:40.641Z"
   },
   {
    "duration": 612,
    "start_time": "2023-02-24T11:59:28.522Z"
   },
   {
    "duration": 31,
    "start_time": "2023-02-24T11:59:29.136Z"
   },
   {
    "duration": 11,
    "start_time": "2023-02-24T11:59:29.168Z"
   },
   {
    "duration": 10,
    "start_time": "2023-02-24T11:59:29.180Z"
   },
   {
    "duration": 44,
    "start_time": "2023-02-24T11:59:29.192Z"
   },
   {
    "duration": 18,
    "start_time": "2023-02-24T11:59:29.237Z"
   },
   {
    "duration": 15,
    "start_time": "2023-02-24T11:59:29.256Z"
   },
   {
    "duration": 10,
    "start_time": "2023-02-24T11:59:29.273Z"
   },
   {
    "duration": 17,
    "start_time": "2023-02-24T11:59:29.285Z"
   },
   {
    "duration": 16,
    "start_time": "2023-02-24T11:59:29.303Z"
   },
   {
    "duration": 18,
    "start_time": "2023-02-24T11:59:29.321Z"
   },
   {
    "duration": 8,
    "start_time": "2023-02-24T11:59:29.341Z"
   },
   {
    "duration": 10,
    "start_time": "2023-02-24T11:59:29.350Z"
   },
   {
    "duration": 258,
    "start_time": "2023-02-24T11:59:29.363Z"
   },
   {
    "duration": 589,
    "start_time": "2023-02-24T12:00:14.449Z"
   },
   {
    "duration": 31,
    "start_time": "2023-02-24T12:00:15.040Z"
   },
   {
    "duration": 14,
    "start_time": "2023-02-24T12:00:15.072Z"
   },
   {
    "duration": 11,
    "start_time": "2023-02-24T12:00:15.089Z"
   },
   {
    "duration": 50,
    "start_time": "2023-02-24T12:00:15.102Z"
   },
   {
    "duration": 16,
    "start_time": "2023-02-24T12:00:15.153Z"
   },
   {
    "duration": 16,
    "start_time": "2023-02-24T12:00:15.171Z"
   },
   {
    "duration": 7,
    "start_time": "2023-02-24T12:00:15.189Z"
   },
   {
    "duration": 6,
    "start_time": "2023-02-24T12:00:15.197Z"
   },
   {
    "duration": 13,
    "start_time": "2023-02-24T12:00:15.206Z"
   },
   {
    "duration": 10,
    "start_time": "2023-02-24T12:00:15.221Z"
   },
   {
    "duration": 7,
    "start_time": "2023-02-24T12:00:15.233Z"
   },
   {
    "duration": 9,
    "start_time": "2023-02-24T12:00:15.242Z"
   },
   {
    "duration": 102,
    "start_time": "2023-02-24T12:00:15.252Z"
   },
   {
    "duration": 591,
    "start_time": "2023-02-24T12:00:45.069Z"
   },
   {
    "duration": 31,
    "start_time": "2023-02-24T12:00:45.662Z"
   },
   {
    "duration": 11,
    "start_time": "2023-02-24T12:00:45.694Z"
   },
   {
    "duration": 13,
    "start_time": "2023-02-24T12:00:45.707Z"
   },
   {
    "duration": 34,
    "start_time": "2023-02-24T12:00:45.722Z"
   },
   {
    "duration": 17,
    "start_time": "2023-02-24T12:00:45.758Z"
   },
   {
    "duration": 19,
    "start_time": "2023-02-24T12:00:45.777Z"
   },
   {
    "duration": 19,
    "start_time": "2023-02-24T12:00:45.797Z"
   },
   {
    "duration": 19,
    "start_time": "2023-02-24T12:00:45.820Z"
   },
   {
    "duration": 8,
    "start_time": "2023-02-24T12:00:45.840Z"
   },
   {
    "duration": 25,
    "start_time": "2023-02-24T12:00:45.850Z"
   },
   {
    "duration": 7,
    "start_time": "2023-02-24T12:00:45.876Z"
   },
   {
    "duration": 6,
    "start_time": "2023-02-24T12:00:45.885Z"
   },
   {
    "duration": 101,
    "start_time": "2023-02-24T12:00:45.893Z"
   },
   {
    "duration": 26,
    "start_time": "2023-02-24T12:02:13.258Z"
   },
   {
    "duration": 26,
    "start_time": "2023-02-24T12:02:33.453Z"
   },
   {
    "duration": 3,
    "start_time": "2023-02-24T12:03:13.709Z"
   },
   {
    "duration": 8,
    "start_time": "2023-02-24T12:03:14.288Z"
   },
   {
    "duration": 8,
    "start_time": "2023-02-24T12:03:15.229Z"
   },
   {
    "duration": 17,
    "start_time": "2023-02-24T12:03:15.988Z"
   },
   {
    "duration": 7,
    "start_time": "2023-02-24T12:04:01.288Z"
   },
   {
    "duration": 7,
    "start_time": "2023-02-24T12:04:02.279Z"
   },
   {
    "duration": 18,
    "start_time": "2023-02-24T12:04:03.001Z"
   },
   {
    "duration": 9,
    "start_time": "2023-02-24T12:04:31.721Z"
   },
   {
    "duration": 25,
    "start_time": "2023-02-24T12:07:58.628Z"
   },
   {
    "duration": 280,
    "start_time": "2023-02-24T12:08:37.962Z"
   },
   {
    "duration": 279,
    "start_time": "2023-02-24T12:10:51.008Z"
   },
   {
    "duration": 270,
    "start_time": "2023-02-24T12:11:01.023Z"
   },
   {
    "duration": 259,
    "start_time": "2023-02-24T12:57:49.881Z"
   },
   {
    "duration": 256,
    "start_time": "2023-02-24T12:58:54.963Z"
   },
   {
    "duration": 185,
    "start_time": "2023-02-24T13:02:47.248Z"
   },
   {
    "duration": 296,
    "start_time": "2023-02-24T13:03:09.724Z"
   },
   {
    "duration": 169,
    "start_time": "2023-02-24T13:03:30.513Z"
   },
   {
    "duration": 185,
    "start_time": "2023-02-24T13:03:51.806Z"
   },
   {
    "duration": 175,
    "start_time": "2023-02-24T13:04:34.865Z"
   },
   {
    "duration": 264,
    "start_time": "2023-02-24T13:10:53.369Z"
   },
   {
    "duration": 265,
    "start_time": "2023-02-24T13:13:47.155Z"
   },
   {
    "duration": 183,
    "start_time": "2023-02-24T13:14:05.009Z"
   },
   {
    "duration": 170,
    "start_time": "2023-02-24T13:15:26.171Z"
   },
   {
    "duration": 159,
    "start_time": "2023-02-24T13:16:13.991Z"
   },
   {
    "duration": 155,
    "start_time": "2023-02-24T13:18:50.413Z"
   },
   {
    "duration": 153,
    "start_time": "2023-02-24T13:18:57.672Z"
   },
   {
    "duration": 46,
    "start_time": "2023-02-24T13:20:21.091Z"
   },
   {
    "duration": 195,
    "start_time": "2023-02-24T13:21:13.419Z"
   },
   {
    "duration": 136,
    "start_time": "2023-02-24T13:21:19.592Z"
   },
   {
    "duration": 43,
    "start_time": "2023-02-24T13:21:47.624Z"
   },
   {
    "duration": 152,
    "start_time": "2023-02-24T13:22:07.932Z"
   },
   {
    "duration": 167,
    "start_time": "2023-02-24T13:22:29.147Z"
   },
   {
    "duration": 164,
    "start_time": "2023-02-24T13:24:03.132Z"
   },
   {
    "duration": 91,
    "start_time": "2023-02-24T13:25:19.752Z"
   },
   {
    "duration": 176,
    "start_time": "2023-02-24T13:25:32.417Z"
   },
   {
    "duration": 132,
    "start_time": "2023-02-24T13:26:23.661Z"
   },
   {
    "duration": 185,
    "start_time": "2023-02-24T13:26:48.092Z"
   },
   {
    "duration": 141,
    "start_time": "2023-02-24T13:28:49.653Z"
   },
   {
    "duration": 144,
    "start_time": "2023-02-24T13:30:37.052Z"
   },
   {
    "duration": 186,
    "start_time": "2023-02-24T13:33:52.651Z"
   },
   {
    "duration": 227,
    "start_time": "2023-02-24T13:33:59.892Z"
   },
   {
    "duration": 226,
    "start_time": "2023-02-24T13:37:01.960Z"
   },
   {
    "duration": 46,
    "start_time": "2023-02-24T13:37:11.728Z"
   },
   {
    "duration": 77,
    "start_time": "2023-02-24T13:37:24.278Z"
   },
   {
    "duration": 46,
    "start_time": "2023-02-24T13:37:31.337Z"
   },
   {
    "duration": 210,
    "start_time": "2023-02-24T13:37:39.235Z"
   },
   {
    "duration": 246,
    "start_time": "2023-02-24T13:38:51.281Z"
   },
   {
    "duration": 248,
    "start_time": "2023-02-24T13:39:05.042Z"
   },
   {
    "duration": 227,
    "start_time": "2023-02-24T13:39:36.477Z"
   },
   {
    "duration": 240,
    "start_time": "2023-02-24T13:40:29.579Z"
   },
   {
    "duration": 223,
    "start_time": "2023-02-24T13:41:15.381Z"
   },
   {
    "duration": 247,
    "start_time": "2023-02-24T13:41:29.244Z"
   },
   {
    "duration": 149,
    "start_time": "2023-02-24T13:44:39.500Z"
   },
   {
    "duration": 322,
    "start_time": "2023-02-24T13:44:53.582Z"
   },
   {
    "duration": 344,
    "start_time": "2023-02-24T13:45:11.301Z"
   },
   {
    "duration": 230,
    "start_time": "2023-02-24T13:45:53.116Z"
   },
   {
    "duration": 234,
    "start_time": "2023-02-24T13:49:21.040Z"
   },
   {
    "duration": 278,
    "start_time": "2023-02-24T13:54:11.593Z"
   },
   {
    "duration": 265,
    "start_time": "2023-02-24T14:02:31.229Z"
   },
   {
    "duration": 327,
    "start_time": "2023-02-24T14:05:05.193Z"
   },
   {
    "duration": 366,
    "start_time": "2023-02-24T14:10:17.294Z"
   },
   {
    "duration": 359,
    "start_time": "2023-02-24T14:11:11.484Z"
   },
   {
    "duration": 335,
    "start_time": "2023-02-24T14:11:25.949Z"
   },
   {
    "duration": 370,
    "start_time": "2023-02-24T14:12:39.492Z"
   },
   {
    "duration": 357,
    "start_time": "2023-02-24T14:20:11.170Z"
   },
   {
    "duration": 308,
    "start_time": "2023-02-24T14:26:08.986Z"
   },
   {
    "duration": 282,
    "start_time": "2023-02-24T14:28:16.757Z"
   },
   {
    "duration": 326,
    "start_time": "2023-02-24T14:29:56.004Z"
   },
   {
    "duration": 261,
    "start_time": "2023-02-24T14:30:42.398Z"
   },
   {
    "duration": 424,
    "start_time": "2023-02-24T14:41:36.571Z"
   },
   {
    "duration": 326,
    "start_time": "2023-02-24T14:42:54.851Z"
   },
   {
    "duration": 367,
    "start_time": "2023-02-24T14:43:27.921Z"
   },
   {
    "duration": 274,
    "start_time": "2023-02-24T14:43:37.849Z"
   },
   {
    "duration": 300,
    "start_time": "2023-02-24T14:44:30.162Z"
   },
   {
    "duration": 13,
    "start_time": "2023-02-24T14:52:18.852Z"
   },
   {
    "duration": 351,
    "start_time": "2023-02-24T14:57:51.699Z"
   },
   {
    "duration": 284,
    "start_time": "2023-02-24T14:58:01.779Z"
   },
   {
    "duration": 435,
    "start_time": "2023-02-24T14:58:31.251Z"
   },
   {
    "duration": 14,
    "start_time": "2023-02-24T15:15:06.135Z"
   },
   {
    "duration": 312,
    "start_time": "2023-02-24T15:15:08.932Z"
   },
   {
    "duration": 144,
    "start_time": "2023-02-24T15:17:48.139Z"
   },
   {
    "duration": 63,
    "start_time": "2023-02-24T15:19:00.176Z"
   },
   {
    "duration": 8,
    "start_time": "2023-02-24T15:19:08.239Z"
   },
   {
    "duration": 9,
    "start_time": "2023-02-24T15:19:21.743Z"
   },
   {
    "duration": 11,
    "start_time": "2023-02-24T15:19:40.538Z"
   },
   {
    "duration": 147,
    "start_time": "2023-02-24T15:20:43.109Z"
   },
   {
    "duration": 165,
    "start_time": "2023-02-24T15:20:55.466Z"
   },
   {
    "duration": 369,
    "start_time": "2023-02-24T15:21:50.298Z"
   },
   {
    "duration": 299,
    "start_time": "2023-02-24T15:22:05.361Z"
   },
   {
    "duration": 295,
    "start_time": "2023-02-24T15:22:13.941Z"
   },
   {
    "duration": 286,
    "start_time": "2023-02-24T15:23:02.559Z"
   },
   {
    "duration": 154,
    "start_time": "2023-02-24T15:23:50.599Z"
   },
   {
    "duration": 169,
    "start_time": "2023-02-24T15:26:38.738Z"
   },
   {
    "duration": 32,
    "start_time": "2023-02-24T15:30:43.700Z"
   },
   {
    "duration": 9,
    "start_time": "2023-02-24T15:32:43.552Z"
   },
   {
    "duration": 10,
    "start_time": "2023-02-24T15:32:54.543Z"
   },
   {
    "duration": 314,
    "start_time": "2023-02-24T15:41:48.737Z"
   },
   {
    "duration": 346,
    "start_time": "2023-02-24T15:41:53.001Z"
   },
   {
    "duration": 302,
    "start_time": "2023-02-24T15:41:59.448Z"
   },
   {
    "duration": 376,
    "start_time": "2023-02-24T15:42:06.762Z"
   },
   {
    "duration": 316,
    "start_time": "2023-02-24T15:42:11.550Z"
   },
   {
    "duration": 357,
    "start_time": "2023-02-24T15:42:16.501Z"
   },
   {
    "duration": 300,
    "start_time": "2023-02-24T15:42:20.537Z"
   },
   {
    "duration": 339,
    "start_time": "2023-02-24T15:42:24.002Z"
   },
   {
    "duration": 288,
    "start_time": "2023-02-24T15:46:28.862Z"
   },
   {
    "duration": 302,
    "start_time": "2023-02-24T15:46:33.164Z"
   },
   {
    "duration": 297,
    "start_time": "2023-02-24T15:46:38.974Z"
   },
   {
    "duration": 182,
    "start_time": "2023-02-24T15:48:01.683Z"
   },
   {
    "duration": 129,
    "start_time": "2023-02-24T15:48:45.369Z"
   },
   {
    "duration": 17,
    "start_time": "2023-02-24T15:50:32.348Z"
   },
   {
    "duration": 179,
    "start_time": "2023-02-24T15:50:33.281Z"
   },
   {
    "duration": 130,
    "start_time": "2023-02-24T15:55:25.846Z"
   },
   {
    "duration": 213,
    "start_time": "2023-02-24T15:59:55.433Z"
   },
   {
    "duration": 15,
    "start_time": "2023-02-24T16:02:27.952Z"
   },
   {
    "duration": 5,
    "start_time": "2023-02-24T16:03:45.577Z"
   },
   {
    "duration": 5,
    "start_time": "2023-02-24T16:04:30.239Z"
   },
   {
    "duration": 4,
    "start_time": "2023-02-24T16:04:50.998Z"
   },
   {
    "duration": 5,
    "start_time": "2023-02-24T16:05:16.699Z"
   },
   {
    "duration": 155,
    "start_time": "2023-02-24T16:11:18.637Z"
   },
   {
    "duration": 184,
    "start_time": "2023-02-24T16:11:36.616Z"
   },
   {
    "duration": 295,
    "start_time": "2023-02-24T16:12:59.653Z"
   },
   {
    "duration": 689,
    "start_time": "2023-02-24T16:13:09.384Z"
   },
   {
    "duration": 32,
    "start_time": "2023-02-24T16:13:10.076Z"
   },
   {
    "duration": 26,
    "start_time": "2023-02-24T16:13:10.115Z"
   },
   {
    "duration": 15,
    "start_time": "2023-02-24T16:13:10.144Z"
   },
   {
    "duration": 35,
    "start_time": "2023-02-24T16:13:10.161Z"
   },
   {
    "duration": 25,
    "start_time": "2023-02-24T16:13:10.198Z"
   },
   {
    "duration": 18,
    "start_time": "2023-02-24T16:13:10.224Z"
   },
   {
    "duration": 7,
    "start_time": "2023-02-24T16:13:10.244Z"
   },
   {
    "duration": 10,
    "start_time": "2023-02-24T16:13:10.252Z"
   },
   {
    "duration": 12,
    "start_time": "2023-02-24T16:13:10.263Z"
   },
   {
    "duration": 14,
    "start_time": "2023-02-24T16:13:10.277Z"
   },
   {
    "duration": 8,
    "start_time": "2023-02-24T16:13:10.292Z"
   },
   {
    "duration": 33,
    "start_time": "2023-02-24T16:13:10.302Z"
   },
   {
    "duration": 11,
    "start_time": "2023-02-24T16:13:10.339Z"
   },
   {
    "duration": 293,
    "start_time": "2023-02-24T16:13:10.351Z"
   },
   {
    "duration": 307,
    "start_time": "2023-02-24T16:13:10.646Z"
   },
   {
    "duration": 220,
    "start_time": "2023-02-24T16:13:10.955Z"
   },
   {
    "duration": 354,
    "start_time": "2023-02-24T16:13:11.177Z"
   },
   {
    "duration": 308,
    "start_time": "2023-02-24T16:13:11.532Z"
   },
   {
    "duration": 15,
    "start_time": "2023-02-24T16:13:11.841Z"
   },
   {
    "duration": 308,
    "start_time": "2023-02-24T16:13:11.858Z"
   },
   {
    "duration": 12,
    "start_time": "2023-02-24T16:13:12.168Z"
   },
   {
    "duration": 163,
    "start_time": "2023-02-24T16:13:12.182Z"
   },
   {
    "duration": 5,
    "start_time": "2023-02-24T16:13:12.347Z"
   },
   {
    "duration": 188,
    "start_time": "2023-02-24T16:13:12.354Z"
   },
   {
    "duration": 228,
    "start_time": "2023-02-24T16:13:31.246Z"
   },
   {
    "duration": 651,
    "start_time": "2023-02-24T16:13:37.437Z"
   },
   {
    "duration": 55,
    "start_time": "2023-02-24T16:13:38.090Z"
   },
   {
    "duration": 13,
    "start_time": "2023-02-24T16:13:38.147Z"
   },
   {
    "duration": 11,
    "start_time": "2023-02-24T16:13:38.162Z"
   },
   {
    "duration": 56,
    "start_time": "2023-02-24T16:13:38.175Z"
   },
   {
    "duration": 18,
    "start_time": "2023-02-24T16:13:38.233Z"
   },
   {
    "duration": 18,
    "start_time": "2023-02-24T16:13:38.252Z"
   },
   {
    "duration": 7,
    "start_time": "2023-02-24T16:13:38.273Z"
   },
   {
    "duration": 7,
    "start_time": "2023-02-24T16:13:38.282Z"
   },
   {
    "duration": 13,
    "start_time": "2023-02-24T16:13:38.290Z"
   },
   {
    "duration": 32,
    "start_time": "2023-02-24T16:13:38.305Z"
   },
   {
    "duration": 14,
    "start_time": "2023-02-24T16:13:38.339Z"
   },
   {
    "duration": 8,
    "start_time": "2023-02-24T16:13:38.354Z"
   },
   {
    "duration": 7,
    "start_time": "2023-02-24T16:13:38.365Z"
   },
   {
    "duration": 295,
    "start_time": "2023-02-24T16:13:38.373Z"
   },
   {
    "duration": 313,
    "start_time": "2023-02-24T16:13:38.670Z"
   },
   {
    "duration": 232,
    "start_time": "2023-02-24T16:13:38.984Z"
   },
   {
    "duration": 311,
    "start_time": "2023-02-24T16:13:39.231Z"
   },
   {
    "duration": 282,
    "start_time": "2023-02-24T16:13:39.544Z"
   },
   {
    "duration": 14,
    "start_time": "2023-02-24T16:13:39.829Z"
   },
   {
    "duration": 304,
    "start_time": "2023-02-24T16:13:39.844Z"
   },
   {
    "duration": 12,
    "start_time": "2023-02-24T16:13:40.150Z"
   },
   {
    "duration": 175,
    "start_time": "2023-02-24T16:13:40.164Z"
   },
   {
    "duration": 6,
    "start_time": "2023-02-24T16:13:40.340Z"
   },
   {
    "duration": 191,
    "start_time": "2023-02-24T16:13:40.349Z"
   },
   {
    "duration": 687,
    "start_time": "2023-02-24T16:14:03.400Z"
   },
   {
    "duration": 62,
    "start_time": "2023-02-24T16:14:04.089Z"
   },
   {
    "duration": 13,
    "start_time": "2023-02-24T16:14:04.153Z"
   },
   {
    "duration": 12,
    "start_time": "2023-02-24T16:14:04.168Z"
   },
   {
    "duration": 74,
    "start_time": "2023-02-24T16:14:04.182Z"
   },
   {
    "duration": 22,
    "start_time": "2023-02-24T16:14:04.258Z"
   },
   {
    "duration": 17,
    "start_time": "2023-02-24T16:14:04.282Z"
   },
   {
    "duration": 6,
    "start_time": "2023-02-24T16:14:04.301Z"
   },
   {
    "duration": 44,
    "start_time": "2023-02-24T16:14:04.315Z"
   },
   {
    "duration": 7,
    "start_time": "2023-02-24T16:14:04.362Z"
   },
   {
    "duration": 12,
    "start_time": "2023-02-24T16:14:04.370Z"
   },
   {
    "duration": 7,
    "start_time": "2023-02-24T16:14:04.384Z"
   },
   {
    "duration": 8,
    "start_time": "2023-02-24T16:14:04.392Z"
   },
   {
    "duration": 7,
    "start_time": "2023-02-24T16:14:04.401Z"
   },
   {
    "duration": 368,
    "start_time": "2023-02-24T16:14:04.410Z"
   },
   {
    "duration": 367,
    "start_time": "2023-02-24T16:14:04.780Z"
   },
   {
    "duration": 237,
    "start_time": "2023-02-24T16:14:05.148Z"
   },
   {
    "duration": 365,
    "start_time": "2023-02-24T16:14:05.386Z"
   },
   {
    "duration": 305,
    "start_time": "2023-02-24T16:14:05.755Z"
   },
   {
    "duration": 16,
    "start_time": "2023-02-24T16:14:06.061Z"
   },
   {
    "duration": 318,
    "start_time": "2023-02-24T16:14:06.078Z"
   },
   {
    "duration": 53,
    "start_time": "2023-02-24T16:14:06.398Z"
   },
   {
    "duration": 164,
    "start_time": "2023-02-24T16:14:06.459Z"
   },
   {
    "duration": 27,
    "start_time": "2023-02-24T16:14:06.624Z"
   },
   {
    "duration": 202,
    "start_time": "2023-02-24T16:14:06.657Z"
   },
   {
    "duration": 254,
    "start_time": "2023-02-24T16:14:33.204Z"
   },
   {
    "duration": 6,
    "start_time": "2023-02-24T16:16:06.635Z"
   },
   {
    "duration": 5,
    "start_time": "2023-02-24T16:16:15.368Z"
   },
   {
    "duration": 111,
    "start_time": "2023-02-24T16:18:12.548Z"
   },
   {
    "duration": 10,
    "start_time": "2023-02-24T16:18:18.448Z"
   },
   {
    "duration": 11,
    "start_time": "2023-02-24T16:18:51.585Z"
   },
   {
    "duration": 16,
    "start_time": "2023-02-24T16:18:56.634Z"
   },
   {
    "duration": 12,
    "start_time": "2023-02-24T16:22:11.844Z"
   },
   {
    "duration": 14,
    "start_time": "2023-02-24T16:24:35.289Z"
   },
   {
    "duration": 69,
    "start_time": "2023-02-24T16:26:08.570Z"
   },
   {
    "duration": 76,
    "start_time": "2023-02-24T16:26:21.379Z"
   },
   {
    "duration": 53,
    "start_time": "2023-02-24T16:26:35.040Z"
   },
   {
    "duration": 27,
    "start_time": "2023-02-24T16:28:16.300Z"
   },
   {
    "duration": 234,
    "start_time": "2023-02-24T16:28:25.070Z"
   },
   {
    "duration": 244,
    "start_time": "2023-02-24T16:31:26.345Z"
   },
   {
    "duration": 222,
    "start_time": "2023-02-24T16:31:49.850Z"
   },
   {
    "duration": 237,
    "start_time": "2023-02-24T16:31:57.252Z"
   },
   {
    "duration": 323,
    "start_time": "2023-02-24T16:32:13.386Z"
   },
   {
    "duration": 313,
    "start_time": "2023-02-24T16:32:33.452Z"
   },
   {
    "duration": 1104,
    "start_time": "2023-02-24T16:32:44.788Z"
   },
   {
    "duration": 908,
    "start_time": "2023-02-24T16:32:50.190Z"
   },
   {
    "duration": 934,
    "start_time": "2023-02-24T16:32:56.645Z"
   },
   {
    "duration": 721,
    "start_time": "2023-02-24T16:33:13.047Z"
   },
   {
    "duration": 31,
    "start_time": "2023-02-24T16:33:13.771Z"
   },
   {
    "duration": 43,
    "start_time": "2023-02-24T16:33:13.803Z"
   },
   {
    "duration": 11,
    "start_time": "2023-02-24T16:33:13.848Z"
   },
   {
    "duration": 38,
    "start_time": "2023-02-24T16:33:13.861Z"
   },
   {
    "duration": 50,
    "start_time": "2023-02-24T16:33:13.900Z"
   },
   {
    "duration": 18,
    "start_time": "2023-02-24T16:33:13.951Z"
   },
   {
    "duration": 6,
    "start_time": "2023-02-24T16:33:13.971Z"
   },
   {
    "duration": 8,
    "start_time": "2023-02-24T16:33:13.979Z"
   },
   {
    "duration": 4,
    "start_time": "2023-02-24T16:33:13.989Z"
   },
   {
    "duration": 13,
    "start_time": "2023-02-24T16:33:13.995Z"
   },
   {
    "duration": 44,
    "start_time": "2023-02-24T16:33:14.009Z"
   },
   {
    "duration": 8,
    "start_time": "2023-02-24T16:33:14.054Z"
   },
   {
    "duration": 9,
    "start_time": "2023-02-24T16:33:14.065Z"
   },
   {
    "duration": 298,
    "start_time": "2023-02-24T16:33:14.075Z"
   },
   {
    "duration": 323,
    "start_time": "2023-02-24T16:33:14.374Z"
   },
   {
    "duration": 229,
    "start_time": "2023-02-24T16:33:14.698Z"
   },
   {
    "duration": 299,
    "start_time": "2023-02-24T16:33:14.928Z"
   },
   {
    "duration": 310,
    "start_time": "2023-02-24T16:33:15.228Z"
   },
   {
    "duration": 15,
    "start_time": "2023-02-24T16:33:15.541Z"
   },
   {
    "duration": 330,
    "start_time": "2023-02-24T16:33:15.557Z"
   },
   {
    "duration": 12,
    "start_time": "2023-02-24T16:33:15.888Z"
   },
   {
    "duration": 164,
    "start_time": "2023-02-24T16:33:15.902Z"
   },
   {
    "duration": 4,
    "start_time": "2023-02-24T16:33:16.067Z"
   },
   {
    "duration": 13,
    "start_time": "2023-02-24T16:33:16.072Z"
   },
   {
    "duration": 190,
    "start_time": "2023-02-24T16:33:16.086Z"
   },
   {
    "duration": 187,
    "start_time": "2023-02-24T16:33:29.983Z"
   },
   {
    "duration": 168,
    "start_time": "2023-02-24T16:33:41.831Z"
   },
   {
    "duration": 82,
    "start_time": "2023-02-24T16:36:40.648Z"
   },
   {
    "duration": 8,
    "start_time": "2023-02-24T16:36:58.966Z"
   },
   {
    "duration": 8,
    "start_time": "2023-02-24T16:37:22.372Z"
   },
   {
    "duration": 9,
    "start_time": "2023-02-24T16:37:32.852Z"
   },
   {
    "duration": 10,
    "start_time": "2023-02-24T16:37:52.926Z"
   },
   {
    "duration": 7,
    "start_time": "2023-02-24T16:38:05.845Z"
   },
   {
    "duration": 7,
    "start_time": "2023-02-24T16:38:22.893Z"
   },
   {
    "duration": 9,
    "start_time": "2023-02-24T16:38:40.140Z"
   },
   {
    "duration": 16,
    "start_time": "2023-02-24T16:38:45.673Z"
   },
   {
    "duration": 9,
    "start_time": "2023-02-24T16:39:59.355Z"
   },
   {
    "duration": 20,
    "start_time": "2023-02-24T16:40:26.928Z"
   },
   {
    "duration": 10,
    "start_time": "2023-02-24T16:40:36.033Z"
   },
   {
    "duration": 21,
    "start_time": "2023-02-24T16:40:49.627Z"
   },
   {
    "duration": 12,
    "start_time": "2023-02-24T16:40:56.573Z"
   },
   {
    "duration": 12,
    "start_time": "2023-02-24T16:41:04.753Z"
   },
   {
    "duration": 666,
    "start_time": "2023-02-24T16:41:36.994Z"
   },
   {
    "duration": 30,
    "start_time": "2023-02-24T16:41:37.662Z"
   },
   {
    "duration": 11,
    "start_time": "2023-02-24T16:41:37.693Z"
   },
   {
    "duration": 41,
    "start_time": "2023-02-24T16:41:37.706Z"
   },
   {
    "duration": 40,
    "start_time": "2023-02-24T16:41:37.753Z"
   },
   {
    "duration": 45,
    "start_time": "2023-02-24T16:41:37.794Z"
   },
   {
    "duration": 17,
    "start_time": "2023-02-24T16:41:37.843Z"
   },
   {
    "duration": 6,
    "start_time": "2023-02-24T16:41:37.861Z"
   },
   {
    "duration": 7,
    "start_time": "2023-02-24T16:41:37.868Z"
   },
   {
    "duration": 5,
    "start_time": "2023-02-24T16:41:37.877Z"
   },
   {
    "duration": 10,
    "start_time": "2023-02-24T16:41:37.883Z"
   },
   {
    "duration": 7,
    "start_time": "2023-02-24T16:41:37.894Z"
   },
   {
    "duration": 6,
    "start_time": "2023-02-24T16:41:37.902Z"
   },
   {
    "duration": 35,
    "start_time": "2023-02-24T16:41:37.912Z"
   },
   {
    "duration": 301,
    "start_time": "2023-02-24T16:41:37.949Z"
   },
   {
    "duration": 328,
    "start_time": "2023-02-24T16:41:38.252Z"
   },
   {
    "duration": 245,
    "start_time": "2023-02-24T16:41:38.582Z"
   },
   {
    "duration": 328,
    "start_time": "2023-02-24T16:41:38.828Z"
   },
   {
    "duration": 302,
    "start_time": "2023-02-24T16:41:39.158Z"
   },
   {
    "duration": 13,
    "start_time": "2023-02-24T16:41:39.461Z"
   },
   {
    "duration": 371,
    "start_time": "2023-02-24T16:41:39.476Z"
   },
   {
    "duration": 11,
    "start_time": "2023-02-24T16:41:39.849Z"
   },
   {
    "duration": 155,
    "start_time": "2023-02-24T16:41:39.862Z"
   },
   {
    "duration": 14,
    "start_time": "2023-02-24T16:41:40.022Z"
   },
   {
    "duration": 104,
    "start_time": "2023-02-24T16:41:40.040Z"
   },
   {
    "duration": 0,
    "start_time": "2023-02-24T16:41:40.145Z"
   },
   {
    "duration": 0,
    "start_time": "2023-02-24T16:41:40.146Z"
   },
   {
    "duration": 7,
    "start_time": "2023-02-24T16:43:08.990Z"
   },
   {
    "duration": 2,
    "start_time": "2023-02-24T16:43:20.994Z"
   },
   {
    "duration": 8,
    "start_time": "2023-02-24T16:43:22.354Z"
   },
   {
    "duration": 8,
    "start_time": "2023-02-24T16:47:27.645Z"
   },
   {
    "duration": 14,
    "start_time": "2023-02-24T16:47:53.079Z"
   },
   {
    "duration": 28,
    "start_time": "2023-02-24T16:48:20.676Z"
   },
   {
    "duration": 626,
    "start_time": "2023-02-24T16:48:29.843Z"
   },
   {
    "duration": 31,
    "start_time": "2023-02-24T16:48:30.471Z"
   },
   {
    "duration": 51,
    "start_time": "2023-02-24T16:48:30.503Z"
   },
   {
    "duration": 40,
    "start_time": "2023-02-24T16:48:30.556Z"
   },
   {
    "duration": 65,
    "start_time": "2023-02-24T16:48:30.598Z"
   },
   {
    "duration": 16,
    "start_time": "2023-02-24T16:48:30.665Z"
   },
   {
    "duration": 37,
    "start_time": "2023-02-24T16:48:30.682Z"
   },
   {
    "duration": 42,
    "start_time": "2023-02-24T16:48:30.729Z"
   },
   {
    "duration": 27,
    "start_time": "2023-02-24T16:48:30.772Z"
   },
   {
    "duration": 52,
    "start_time": "2023-02-24T16:48:30.801Z"
   },
   {
    "duration": 12,
    "start_time": "2023-02-24T16:48:30.855Z"
   },
   {
    "duration": 17,
    "start_time": "2023-02-24T16:48:30.869Z"
   },
   {
    "duration": 9,
    "start_time": "2023-02-24T16:48:30.888Z"
   },
   {
    "duration": 7,
    "start_time": "2023-02-24T16:48:30.900Z"
   },
   {
    "duration": 360,
    "start_time": "2023-02-24T16:48:30.908Z"
   },
   {
    "duration": 364,
    "start_time": "2023-02-24T16:48:31.270Z"
   },
   {
    "duration": 226,
    "start_time": "2023-02-24T16:48:31.642Z"
   },
   {
    "duration": 309,
    "start_time": "2023-02-24T16:48:31.869Z"
   },
   {
    "duration": 347,
    "start_time": "2023-02-24T16:48:32.180Z"
   },
   {
    "duration": 14,
    "start_time": "2023-02-24T16:48:32.537Z"
   },
   {
    "duration": 311,
    "start_time": "2023-02-24T16:48:32.552Z"
   },
   {
    "duration": 12,
    "start_time": "2023-02-24T16:48:32.864Z"
   },
   {
    "duration": 185,
    "start_time": "2023-02-24T16:48:32.877Z"
   },
   {
    "duration": 4,
    "start_time": "2023-02-24T16:48:33.064Z"
   },
   {
    "duration": 21,
    "start_time": "2023-02-24T16:48:33.070Z"
   },
   {
    "duration": 10,
    "start_time": "2023-02-24T16:48:33.094Z"
   },
   {
    "duration": 233,
    "start_time": "2023-02-24T16:48:33.112Z"
   },
   {
    "duration": 13,
    "start_time": "2023-02-24T16:49:03.244Z"
   },
   {
    "duration": 19,
    "start_time": "2023-02-24T16:49:09.332Z"
   },
   {
    "duration": 8,
    "start_time": "2023-02-24T16:49:11.756Z"
   },
   {
    "duration": 186,
    "start_time": "2023-02-24T16:49:12.776Z"
   },
   {
    "duration": 12,
    "start_time": "2023-02-24T16:49:24.576Z"
   },
   {
    "duration": 15,
    "start_time": "2023-02-24T16:49:28.738Z"
   },
   {
    "duration": 212,
    "start_time": "2023-02-24T16:49:29.538Z"
   },
   {
    "duration": 21,
    "start_time": "2023-02-24T16:50:13.327Z"
   },
   {
    "duration": 18,
    "start_time": "2023-02-24T16:50:23.149Z"
   },
   {
    "duration": 1093,
    "start_time": "2023-02-24T16:51:05.707Z"
   },
   {
    "duration": 200,
    "start_time": "2023-02-24T16:51:17.975Z"
   },
   {
    "duration": 196,
    "start_time": "2023-02-24T16:51:38.355Z"
   },
   {
    "duration": 197,
    "start_time": "2023-02-24T16:54:01.957Z"
   },
   {
    "duration": 10,
    "start_time": "2023-02-24T17:03:57.853Z"
   },
   {
    "duration": 178,
    "start_time": "2023-02-24T17:05:09.992Z"
   },
   {
    "duration": 10,
    "start_time": "2023-02-24T17:05:22.139Z"
   },
   {
    "duration": 195,
    "start_time": "2023-02-24T17:05:55.149Z"
   },
   {
    "duration": 4,
    "start_time": "2023-02-24T17:10:17.263Z"
   },
   {
    "duration": 12,
    "start_time": "2023-02-24T17:10:35.443Z"
   },
   {
    "duration": 3,
    "start_time": "2023-02-24T17:34:41.391Z"
   },
   {
    "duration": 21,
    "start_time": "2023-02-24T17:34:44.030Z"
   },
   {
    "duration": 11,
    "start_time": "2023-02-24T17:35:33.232Z"
   },
   {
    "duration": 16,
    "start_time": "2023-02-24T17:35:36.492Z"
   },
   {
    "duration": 18,
    "start_time": "2023-02-24T17:35:44.142Z"
   },
   {
    "duration": 15,
    "start_time": "2023-02-24T17:35:44.765Z"
   },
   {
    "duration": 741,
    "start_time": "2023-02-24T17:36:39.455Z"
   },
   {
    "duration": 86,
    "start_time": "2023-02-24T17:36:40.198Z"
   },
   {
    "duration": 11,
    "start_time": "2023-02-24T17:36:40.285Z"
   },
   {
    "duration": 29,
    "start_time": "2023-02-24T17:36:40.298Z"
   },
   {
    "duration": 106,
    "start_time": "2023-02-24T17:36:40.329Z"
   },
   {
    "duration": 29,
    "start_time": "2023-02-24T17:36:40.444Z"
   },
   {
    "duration": 20,
    "start_time": "2023-02-24T17:36:40.475Z"
   },
   {
    "duration": 10,
    "start_time": "2023-02-24T17:36:40.497Z"
   },
   {
    "duration": 74,
    "start_time": "2023-02-24T17:36:40.509Z"
   },
   {
    "duration": 4,
    "start_time": "2023-02-24T17:36:40.585Z"
   },
   {
    "duration": 10,
    "start_time": "2023-02-24T17:36:40.591Z"
   },
   {
    "duration": 28,
    "start_time": "2023-02-24T17:36:40.603Z"
   },
   {
    "duration": 20,
    "start_time": "2023-02-24T17:36:40.648Z"
   },
   {
    "duration": 16,
    "start_time": "2023-02-24T17:36:40.675Z"
   },
   {
    "duration": 324,
    "start_time": "2023-02-24T17:36:40.693Z"
   },
   {
    "duration": 356,
    "start_time": "2023-02-24T17:36:41.018Z"
   },
   {
    "duration": 232,
    "start_time": "2023-02-24T17:36:41.376Z"
   },
   {
    "duration": 378,
    "start_time": "2023-02-24T17:36:41.609Z"
   },
   {
    "duration": 378,
    "start_time": "2023-02-24T17:36:41.990Z"
   },
   {
    "duration": 15,
    "start_time": "2023-02-24T17:36:42.369Z"
   },
   {
    "duration": 336,
    "start_time": "2023-02-24T17:36:42.386Z"
   },
   {
    "duration": 23,
    "start_time": "2023-02-24T17:36:42.723Z"
   },
   {
    "duration": 201,
    "start_time": "2023-02-24T17:36:42.747Z"
   },
   {
    "duration": 14,
    "start_time": "2023-02-24T17:36:42.949Z"
   },
   {
    "duration": 30,
    "start_time": "2023-02-24T17:36:42.964Z"
   },
   {
    "duration": 271,
    "start_time": "2023-02-24T17:36:42.996Z"
   },
   {
    "duration": 13,
    "start_time": "2023-02-24T17:36:43.276Z"
   },
   {
    "duration": 0,
    "start_time": "2023-02-25T16:17:47.319Z"
   },
   {
    "duration": 6,
    "start_time": "2023-02-25T16:17:50.218Z"
   },
   {
    "duration": 965,
    "start_time": "2023-02-25T16:17:59.087Z"
   },
   {
    "duration": 113,
    "start_time": "2023-02-25T16:18:00.055Z"
   },
   {
    "duration": 14,
    "start_time": "2023-02-25T16:18:00.170Z"
   },
   {
    "duration": 13,
    "start_time": "2023-02-25T16:18:00.187Z"
   },
   {
    "duration": 95,
    "start_time": "2023-02-25T16:18:00.204Z"
   },
   {
    "duration": 61,
    "start_time": "2023-02-25T16:18:00.301Z"
   },
   {
    "duration": 22,
    "start_time": "2023-02-25T16:18:00.371Z"
   },
   {
    "duration": 29,
    "start_time": "2023-02-25T16:18:00.394Z"
   },
   {
    "duration": 29,
    "start_time": "2023-02-25T16:18:00.425Z"
   },
   {
    "duration": 58,
    "start_time": "2023-02-25T16:18:00.456Z"
   },
   {
    "duration": 34,
    "start_time": "2023-02-25T16:18:00.516Z"
   },
   {
    "duration": 44,
    "start_time": "2023-02-25T16:18:00.552Z"
   },
   {
    "duration": 47,
    "start_time": "2023-02-25T16:18:00.598Z"
   },
   {
    "duration": 37,
    "start_time": "2023-02-25T16:18:00.648Z"
   },
   {
    "duration": 372,
    "start_time": "2023-02-25T16:18:00.686Z"
   },
   {
    "duration": 373,
    "start_time": "2023-02-25T16:18:01.060Z"
   },
   {
    "duration": 251,
    "start_time": "2023-02-25T16:18:01.435Z"
   },
   {
    "duration": 404,
    "start_time": "2023-02-25T16:18:01.688Z"
   },
   {
    "duration": 350,
    "start_time": "2023-02-25T16:18:02.099Z"
   },
   {
    "duration": 17,
    "start_time": "2023-02-25T16:18:02.451Z"
   },
   {
    "duration": 381,
    "start_time": "2023-02-25T16:18:02.470Z"
   },
   {
    "duration": 14,
    "start_time": "2023-02-25T16:18:02.852Z"
   },
   {
    "duration": 173,
    "start_time": "2023-02-25T16:18:02.868Z"
   },
   {
    "duration": 5,
    "start_time": "2023-02-25T16:18:03.042Z"
   },
   {
    "duration": 16,
    "start_time": "2023-02-25T16:18:03.048Z"
   },
   {
    "duration": 195,
    "start_time": "2023-02-25T16:18:03.065Z"
   },
   {
    "duration": 4,
    "start_time": "2023-02-25T16:18:03.262Z"
   },
   {
    "duration": 14,
    "start_time": "2023-02-25T16:18:03.267Z"
   },
   {
    "duration": 214,
    "start_time": "2023-02-25T16:26:32.917Z"
   },
   {
    "duration": 129,
    "start_time": "2023-02-25T17:53:03.966Z"
   },
   {
    "duration": 7,
    "start_time": "2023-02-25T17:53:19.106Z"
   },
   {
    "duration": 142,
    "start_time": "2023-02-25T18:04:23.627Z"
   },
   {
    "duration": 847,
    "start_time": "2023-02-25T18:06:16.386Z"
   },
   {
    "duration": 107,
    "start_time": "2023-02-25T18:11:29.226Z"
   },
   {
    "duration": 243,
    "start_time": "2023-02-25T18:12:59.909Z"
   },
   {
    "duration": 165,
    "start_time": "2023-02-25T18:15:24.566Z"
   },
   {
    "duration": 1092,
    "start_time": "2023-02-25T18:16:04.368Z"
   },
   {
    "duration": 34,
    "start_time": "2023-02-25T18:16:05.461Z"
   },
   {
    "duration": 15,
    "start_time": "2023-02-25T18:16:05.496Z"
   },
   {
    "duration": 13,
    "start_time": "2023-02-25T18:16:05.513Z"
   },
   {
    "duration": 41,
    "start_time": "2023-02-25T18:16:05.529Z"
   },
   {
    "duration": 17,
    "start_time": "2023-02-25T18:16:05.572Z"
   },
   {
    "duration": 20,
    "start_time": "2023-02-25T18:16:05.591Z"
   },
   {
    "duration": 21,
    "start_time": "2023-02-25T18:16:05.613Z"
   },
   {
    "duration": 8,
    "start_time": "2023-02-25T18:16:05.636Z"
   },
   {
    "duration": 27,
    "start_time": "2023-02-25T18:16:05.647Z"
   },
   {
    "duration": 10,
    "start_time": "2023-02-25T18:16:05.676Z"
   },
   {
    "duration": 13,
    "start_time": "2023-02-25T18:16:05.688Z"
   },
   {
    "duration": 8,
    "start_time": "2023-02-25T18:16:05.704Z"
   },
   {
    "duration": 11,
    "start_time": "2023-02-25T18:16:05.713Z"
   },
   {
    "duration": 295,
    "start_time": "2023-02-25T18:16:05.726Z"
   },
   {
    "duration": 306,
    "start_time": "2023-02-25T18:16:06.022Z"
   },
   {
    "duration": 258,
    "start_time": "2023-02-25T18:16:06.330Z"
   },
   {
    "duration": 321,
    "start_time": "2023-02-25T18:16:06.599Z"
   },
   {
    "duration": 266,
    "start_time": "2023-02-25T18:16:06.922Z"
   },
   {
    "duration": 21,
    "start_time": "2023-02-25T18:16:07.190Z"
   },
   {
    "duration": 322,
    "start_time": "2023-02-25T18:16:07.214Z"
   },
   {
    "duration": 12,
    "start_time": "2023-02-25T18:16:07.538Z"
   },
   {
    "duration": 178,
    "start_time": "2023-02-25T18:16:07.552Z"
   },
   {
    "duration": 4,
    "start_time": "2023-02-25T18:16:07.731Z"
   },
   {
    "duration": 14,
    "start_time": "2023-02-25T18:16:07.737Z"
   },
   {
    "duration": 218,
    "start_time": "2023-02-25T18:16:07.753Z"
   },
   {
    "duration": 6,
    "start_time": "2023-02-25T18:16:07.972Z"
   },
   {
    "duration": 20,
    "start_time": "2023-02-25T18:16:07.982Z"
   },
   {
    "duration": 239,
    "start_time": "2023-02-25T18:16:08.004Z"
   },
   {
    "duration": 191,
    "start_time": "2023-02-25T18:16:08.245Z"
   },
   {
    "duration": 251,
    "start_time": "2023-02-25T18:16:17.110Z"
   },
   {
    "duration": 45,
    "start_time": "2023-02-25T18:19:35.929Z"
   },
   {
    "duration": 45,
    "start_time": "2023-02-26T11:12:09.985Z"
   },
   {
    "duration": 75,
    "start_time": "2023-02-26T11:12:42.650Z"
   },
   {
    "duration": 0,
    "start_time": "2023-02-26T11:12:42.727Z"
   },
   {
    "duration": 0,
    "start_time": "2023-02-26T11:12:42.728Z"
   },
   {
    "duration": 0,
    "start_time": "2023-02-26T11:12:42.729Z"
   },
   {
    "duration": 0,
    "start_time": "2023-02-26T11:12:42.730Z"
   },
   {
    "duration": 0,
    "start_time": "2023-02-26T11:12:42.731Z"
   },
   {
    "duration": 0,
    "start_time": "2023-02-26T11:12:42.732Z"
   },
   {
    "duration": 0,
    "start_time": "2023-02-26T11:12:42.734Z"
   },
   {
    "duration": 0,
    "start_time": "2023-02-26T11:12:42.735Z"
   },
   {
    "duration": 0,
    "start_time": "2023-02-26T11:12:42.736Z"
   },
   {
    "duration": 0,
    "start_time": "2023-02-26T11:12:42.737Z"
   },
   {
    "duration": 0,
    "start_time": "2023-02-26T11:12:42.738Z"
   },
   {
    "duration": 0,
    "start_time": "2023-02-26T11:12:42.739Z"
   },
   {
    "duration": 0,
    "start_time": "2023-02-26T11:12:42.740Z"
   },
   {
    "duration": 0,
    "start_time": "2023-02-26T11:12:42.741Z"
   },
   {
    "duration": 0,
    "start_time": "2023-02-26T11:12:42.742Z"
   },
   {
    "duration": 0,
    "start_time": "2023-02-26T11:12:42.743Z"
   },
   {
    "duration": 0,
    "start_time": "2023-02-26T11:12:42.744Z"
   },
   {
    "duration": 96,
    "start_time": "2023-02-26T11:12:42.746Z"
   },
   {
    "duration": 0,
    "start_time": "2023-02-26T11:12:42.843Z"
   },
   {
    "duration": 0,
    "start_time": "2023-02-26T11:12:42.845Z"
   },
   {
    "duration": 0,
    "start_time": "2023-02-26T11:12:42.846Z"
   },
   {
    "duration": 0,
    "start_time": "2023-02-26T11:12:42.846Z"
   },
   {
    "duration": 0,
    "start_time": "2023-02-26T11:12:42.847Z"
   },
   {
    "duration": 0,
    "start_time": "2023-02-26T11:12:42.849Z"
   },
   {
    "duration": 0,
    "start_time": "2023-02-26T11:12:42.849Z"
   },
   {
    "duration": 0,
    "start_time": "2023-02-26T11:12:42.851Z"
   },
   {
    "duration": 0,
    "start_time": "2023-02-26T11:12:42.852Z"
   },
   {
    "duration": 0,
    "start_time": "2023-02-26T11:12:42.853Z"
   },
   {
    "duration": 0,
    "start_time": "2023-02-26T11:12:42.854Z"
   },
   {
    "duration": 0,
    "start_time": "2023-02-26T11:12:42.856Z"
   },
   {
    "duration": 7,
    "start_time": "2023-02-26T11:13:05.123Z"
   },
   {
    "duration": 1262,
    "start_time": "2023-02-26T11:13:37.419Z"
   },
   {
    "duration": 1042,
    "start_time": "2023-02-26T11:13:42.230Z"
   },
   {
    "duration": 94,
    "start_time": "2023-02-26T11:13:43.274Z"
   },
   {
    "duration": 10,
    "start_time": "2023-02-26T11:13:43.370Z"
   },
   {
    "duration": 9,
    "start_time": "2023-02-26T11:13:43.382Z"
   },
   {
    "duration": 111,
    "start_time": "2023-02-26T11:13:43.393Z"
   },
   {
    "duration": 71,
    "start_time": "2023-02-26T11:13:43.506Z"
   },
   {
    "duration": 19,
    "start_time": "2023-02-26T11:13:43.579Z"
   },
   {
    "duration": 8,
    "start_time": "2023-02-26T11:13:43.599Z"
   },
   {
    "duration": 13,
    "start_time": "2023-02-26T11:13:43.608Z"
   },
   {
    "duration": 9,
    "start_time": "2023-02-26T11:13:43.623Z"
   },
   {
    "duration": 11,
    "start_time": "2023-02-26T11:13:43.633Z"
   },
   {
    "duration": 17,
    "start_time": "2023-02-26T11:13:43.646Z"
   },
   {
    "duration": 10,
    "start_time": "2023-02-26T11:13:43.665Z"
   },
   {
    "duration": 15,
    "start_time": "2023-02-26T11:13:43.679Z"
   },
   {
    "duration": 284,
    "start_time": "2023-02-26T11:13:43.696Z"
   },
   {
    "duration": 288,
    "start_time": "2023-02-26T11:13:43.981Z"
   },
   {
    "duration": 241,
    "start_time": "2023-02-26T11:13:44.271Z"
   },
   {
    "duration": 342,
    "start_time": "2023-02-26T11:13:44.514Z"
   },
   {
    "duration": 259,
    "start_time": "2023-02-26T11:13:44.858Z"
   },
   {
    "duration": 17,
    "start_time": "2023-02-26T11:13:45.121Z"
   },
   {
    "duration": 321,
    "start_time": "2023-02-26T11:13:45.140Z"
   },
   {
    "duration": 11,
    "start_time": "2023-02-26T11:13:45.463Z"
   },
   {
    "duration": 161,
    "start_time": "2023-02-26T11:13:45.476Z"
   },
   {
    "duration": 4,
    "start_time": "2023-02-26T11:13:45.639Z"
   },
   {
    "duration": 12,
    "start_time": "2023-02-26T11:13:45.644Z"
   },
   {
    "duration": 170,
    "start_time": "2023-02-26T11:13:45.658Z"
   },
   {
    "duration": 4,
    "start_time": "2023-02-26T11:13:45.830Z"
   },
   {
    "duration": 12,
    "start_time": "2023-02-26T11:13:45.835Z"
   },
   {
    "duration": 21,
    "start_time": "2023-02-26T11:13:45.848Z"
   },
   {
    "duration": 212,
    "start_time": "2023-02-26T11:13:45.871Z"
   },
   {
    "duration": 256,
    "start_time": "2023-02-26T11:13:46.085Z"
   },
   {
    "duration": 5,
    "start_time": "2023-02-26T11:14:21.889Z"
   },
   {
    "duration": 136,
    "start_time": "2023-02-26T11:14:35.151Z"
   },
   {
    "duration": 1010,
    "start_time": "2023-02-26T11:16:02.170Z"
   },
   {
    "duration": 37,
    "start_time": "2023-02-26T11:16:03.181Z"
   },
   {
    "duration": 10,
    "start_time": "2023-02-26T11:16:03.220Z"
   },
   {
    "duration": 10,
    "start_time": "2023-02-26T11:16:03.232Z"
   },
   {
    "duration": 46,
    "start_time": "2023-02-26T11:16:03.244Z"
   },
   {
    "duration": 21,
    "start_time": "2023-02-26T11:16:03.291Z"
   },
   {
    "duration": 17,
    "start_time": "2023-02-26T11:16:03.314Z"
   },
   {
    "duration": 5,
    "start_time": "2023-02-26T11:16:03.333Z"
   },
   {
    "duration": 20,
    "start_time": "2023-02-26T11:16:03.339Z"
   },
   {
    "duration": 12,
    "start_time": "2023-02-26T11:16:03.361Z"
   },
   {
    "duration": 13,
    "start_time": "2023-02-26T11:16:03.374Z"
   },
   {
    "duration": 9,
    "start_time": "2023-02-26T11:16:03.389Z"
   },
   {
    "duration": 10,
    "start_time": "2023-02-26T11:16:03.399Z"
   },
   {
    "duration": 10,
    "start_time": "2023-02-26T11:16:03.412Z"
   },
   {
    "duration": 267,
    "start_time": "2023-02-26T11:16:03.424Z"
   },
   {
    "duration": 311,
    "start_time": "2023-02-26T11:16:03.693Z"
   },
   {
    "duration": 197,
    "start_time": "2023-02-26T11:16:04.006Z"
   },
   {
    "duration": 360,
    "start_time": "2023-02-26T11:16:04.206Z"
   },
   {
    "duration": 287,
    "start_time": "2023-02-26T11:16:04.568Z"
   },
   {
    "duration": 14,
    "start_time": "2023-02-26T11:16:04.856Z"
   },
   {
    "duration": 312,
    "start_time": "2023-02-26T11:16:04.872Z"
   },
   {
    "duration": 11,
    "start_time": "2023-02-26T11:16:05.185Z"
   },
   {
    "duration": 142,
    "start_time": "2023-02-26T11:16:05.197Z"
   },
   {
    "duration": 5,
    "start_time": "2023-02-26T11:16:05.340Z"
   },
   {
    "duration": 14,
    "start_time": "2023-02-26T11:16:05.347Z"
   },
   {
    "duration": 228,
    "start_time": "2023-02-26T11:16:05.362Z"
   },
   {
    "duration": 5,
    "start_time": "2023-02-26T11:16:05.592Z"
   },
   {
    "duration": 9,
    "start_time": "2023-02-26T11:16:05.599Z"
   },
   {
    "duration": 8,
    "start_time": "2023-02-26T11:16:05.620Z"
   },
   {
    "duration": 225,
    "start_time": "2023-02-26T11:16:05.630Z"
   },
   {
    "duration": 227,
    "start_time": "2023-02-26T11:16:05.857Z"
   },
   {
    "duration": 143,
    "start_time": "2023-02-26T11:18:06.386Z"
   },
   {
    "duration": 192,
    "start_time": "2023-02-26T11:18:34.349Z"
   },
   {
    "duration": 195,
    "start_time": "2023-02-26T11:19:44.410Z"
   },
   {
    "duration": 3,
    "start_time": "2023-02-26T11:20:11.590Z"
   },
   {
    "duration": 1176,
    "start_time": "2023-02-26T11:20:18.333Z"
   },
   {
    "duration": 38,
    "start_time": "2023-02-26T11:20:19.511Z"
   },
   {
    "duration": 14,
    "start_time": "2023-02-26T11:20:19.551Z"
   },
   {
    "duration": 13,
    "start_time": "2023-02-26T11:20:19.568Z"
   },
   {
    "duration": 44,
    "start_time": "2023-02-26T11:20:19.582Z"
   },
   {
    "duration": 20,
    "start_time": "2023-02-26T11:20:19.628Z"
   },
   {
    "duration": 18,
    "start_time": "2023-02-26T11:20:19.649Z"
   },
   {
    "duration": 8,
    "start_time": "2023-02-26T11:20:19.668Z"
   },
   {
    "duration": 5,
    "start_time": "2023-02-26T11:20:19.678Z"
   },
   {
    "duration": 5,
    "start_time": "2023-02-26T11:20:19.685Z"
   },
   {
    "duration": 9,
    "start_time": "2023-02-26T11:20:19.692Z"
   },
   {
    "duration": 7,
    "start_time": "2023-02-26T11:20:19.721Z"
   },
   {
    "duration": 9,
    "start_time": "2023-02-26T11:20:19.730Z"
   },
   {
    "duration": 11,
    "start_time": "2023-02-26T11:20:19.740Z"
   },
   {
    "duration": 324,
    "start_time": "2023-02-26T11:20:19.753Z"
   },
   {
    "duration": 324,
    "start_time": "2023-02-26T11:20:20.079Z"
   },
   {
    "duration": 232,
    "start_time": "2023-02-26T11:20:20.405Z"
   },
   {
    "duration": 334,
    "start_time": "2023-02-26T11:20:20.639Z"
   },
   {
    "duration": 262,
    "start_time": "2023-02-26T11:20:20.975Z"
   },
   {
    "duration": 18,
    "start_time": "2023-02-26T11:20:21.239Z"
   },
   {
    "duration": 297,
    "start_time": "2023-02-26T11:20:21.259Z"
   },
   {
    "duration": 12,
    "start_time": "2023-02-26T11:20:21.558Z"
   },
   {
    "duration": 164,
    "start_time": "2023-02-26T11:20:21.571Z"
   },
   {
    "duration": 5,
    "start_time": "2023-02-26T11:20:21.736Z"
   },
   {
    "duration": 20,
    "start_time": "2023-02-26T11:20:21.742Z"
   },
   {
    "duration": 175,
    "start_time": "2023-02-26T11:20:21.763Z"
   },
   {
    "duration": 4,
    "start_time": "2023-02-26T11:20:21.940Z"
   },
   {
    "duration": 5,
    "start_time": "2023-02-26T11:20:21.948Z"
   },
   {
    "duration": 8,
    "start_time": "2023-02-26T11:20:21.955Z"
   },
   {
    "duration": 257,
    "start_time": "2023-02-26T11:20:21.965Z"
   },
   {
    "duration": 188,
    "start_time": "2023-02-26T11:20:22.223Z"
   },
   {
    "duration": 6,
    "start_time": "2023-02-26T11:22:49.070Z"
   },
   {
    "duration": 92,
    "start_time": "2023-02-26T11:23:30.343Z"
   },
   {
    "duration": 6,
    "start_time": "2023-02-26T11:23:41.710Z"
   },
   {
    "duration": 6,
    "start_time": "2023-02-26T11:24:11.331Z"
   },
   {
    "duration": 5,
    "start_time": "2023-02-26T11:25:27.491Z"
   },
   {
    "duration": 5,
    "start_time": "2023-02-26T11:25:34.131Z"
   },
   {
    "duration": 1115,
    "start_time": "2023-02-26T11:25:38.790Z"
   },
   {
    "duration": 38,
    "start_time": "2023-02-26T11:25:39.907Z"
   },
   {
    "duration": 15,
    "start_time": "2023-02-26T11:25:39.947Z"
   },
   {
    "duration": 15,
    "start_time": "2023-02-26T11:25:39.964Z"
   },
   {
    "duration": 45,
    "start_time": "2023-02-26T11:25:39.980Z"
   },
   {
    "duration": 21,
    "start_time": "2023-02-26T11:25:40.027Z"
   },
   {
    "duration": 18,
    "start_time": "2023-02-26T11:25:40.050Z"
   },
   {
    "duration": 8,
    "start_time": "2023-02-26T11:25:40.070Z"
   },
   {
    "duration": 7,
    "start_time": "2023-02-26T11:25:40.080Z"
   },
   {
    "duration": 5,
    "start_time": "2023-02-26T11:25:40.089Z"
   },
   {
    "duration": 8,
    "start_time": "2023-02-26T11:25:40.096Z"
   },
   {
    "duration": 7,
    "start_time": "2023-02-26T11:25:40.120Z"
   },
   {
    "duration": 9,
    "start_time": "2023-02-26T11:25:40.128Z"
   },
   {
    "duration": 9,
    "start_time": "2023-02-26T11:25:40.139Z"
   },
   {
    "duration": 294,
    "start_time": "2023-02-26T11:25:40.150Z"
   },
   {
    "duration": 296,
    "start_time": "2023-02-26T11:25:40.446Z"
   },
   {
    "duration": 213,
    "start_time": "2023-02-26T11:25:40.743Z"
   },
   {
    "duration": 281,
    "start_time": "2023-02-26T11:25:40.958Z"
   },
   {
    "duration": 239,
    "start_time": "2023-02-26T11:25:41.241Z"
   },
   {
    "duration": 12,
    "start_time": "2023-02-26T11:25:41.482Z"
   },
   {
    "duration": 327,
    "start_time": "2023-02-26T11:25:41.496Z"
   },
   {
    "duration": 10,
    "start_time": "2023-02-26T11:25:41.824Z"
   },
   {
    "duration": 151,
    "start_time": "2023-02-26T11:25:41.836Z"
   },
   {
    "duration": 4,
    "start_time": "2023-02-26T11:25:41.989Z"
   },
   {
    "duration": 28,
    "start_time": "2023-02-26T11:25:41.994Z"
   },
   {
    "duration": 172,
    "start_time": "2023-02-26T11:25:42.023Z"
   },
   {
    "duration": 4,
    "start_time": "2023-02-26T11:25:42.196Z"
   },
   {
    "duration": 18,
    "start_time": "2023-02-26T11:25:42.203Z"
   },
   {
    "duration": 22,
    "start_time": "2023-02-26T11:25:42.222Z"
   },
   {
    "duration": 230,
    "start_time": "2023-02-26T11:25:42.245Z"
   },
   {
    "duration": 179,
    "start_time": "2023-02-26T11:25:42.476Z"
   },
   {
    "duration": 5,
    "start_time": "2023-02-26T11:25:42.657Z"
   },
   {
    "duration": 12,
    "start_time": "2023-02-26T11:25:42.664Z"
   },
   {
    "duration": 24,
    "start_time": "2023-02-26T11:25:42.678Z"
   },
   {
    "duration": 289,
    "start_time": "2023-02-26T12:03:23.672Z"
   },
   {
    "duration": 1255,
    "start_time": "2023-02-26T12:03:35.253Z"
   },
   {
    "duration": 41,
    "start_time": "2023-02-26T12:03:36.511Z"
   },
   {
    "duration": 14,
    "start_time": "2023-02-26T12:03:36.553Z"
   },
   {
    "duration": 13,
    "start_time": "2023-02-26T12:03:36.569Z"
   },
   {
    "duration": 49,
    "start_time": "2023-02-26T12:03:36.585Z"
   },
   {
    "duration": 22,
    "start_time": "2023-02-26T12:03:36.636Z"
   },
   {
    "duration": 27,
    "start_time": "2023-02-26T12:03:36.660Z"
   },
   {
    "duration": 12,
    "start_time": "2023-02-26T12:03:36.690Z"
   },
   {
    "duration": 7,
    "start_time": "2023-02-26T12:03:36.704Z"
   },
   {
    "duration": 6,
    "start_time": "2023-02-26T12:03:36.721Z"
   },
   {
    "duration": 12,
    "start_time": "2023-02-26T12:03:36.729Z"
   },
   {
    "duration": 8,
    "start_time": "2023-02-26T12:03:36.743Z"
   },
   {
    "duration": 9,
    "start_time": "2023-02-26T12:03:36.753Z"
   },
   {
    "duration": 8,
    "start_time": "2023-02-26T12:03:36.765Z"
   },
   {
    "duration": 336,
    "start_time": "2023-02-26T12:03:36.776Z"
   },
   {
    "duration": 318,
    "start_time": "2023-02-26T12:03:37.114Z"
   },
   {
    "duration": 248,
    "start_time": "2023-02-26T12:03:37.435Z"
   },
   {
    "duration": 376,
    "start_time": "2023-02-26T12:03:37.685Z"
   },
   {
    "duration": 271,
    "start_time": "2023-02-26T12:03:38.063Z"
   },
   {
    "duration": 20,
    "start_time": "2023-02-26T12:03:38.337Z"
   },
   {
    "duration": 324,
    "start_time": "2023-02-26T12:03:38.359Z"
   },
   {
    "duration": 13,
    "start_time": "2023-02-26T12:03:38.685Z"
   },
   {
    "duration": 176,
    "start_time": "2023-02-26T12:03:38.700Z"
   },
   {
    "duration": 5,
    "start_time": "2023-02-26T12:03:38.878Z"
   },
   {
    "duration": 13,
    "start_time": "2023-02-26T12:03:38.885Z"
   },
   {
    "duration": 242,
    "start_time": "2023-02-26T12:03:38.900Z"
   },
   {
    "duration": 4,
    "start_time": "2023-02-26T12:03:39.144Z"
   },
   {
    "duration": 6,
    "start_time": "2023-02-26T12:03:39.150Z"
   },
   {
    "duration": 10,
    "start_time": "2023-02-26T12:03:39.157Z"
   },
   {
    "duration": 502,
    "start_time": "2023-02-26T12:03:39.222Z"
   },
   {
    "duration": 303,
    "start_time": "2023-02-26T12:03:39.726Z"
   },
   {
    "duration": 5,
    "start_time": "2023-02-26T12:03:40.031Z"
   },
   {
    "duration": 19,
    "start_time": "2023-02-26T12:03:40.038Z"
   },
   {
    "duration": 71,
    "start_time": "2023-02-26T12:03:40.059Z"
   },
   {
    "duration": 329,
    "start_time": "2023-02-26T12:03:59.614Z"
   },
   {
    "duration": 81,
    "start_time": "2023-02-26T12:09:25.973Z"
   },
   {
    "duration": 424,
    "start_time": "2023-02-26T12:10:28.333Z"
   },
   {
    "duration": 345,
    "start_time": "2023-02-26T12:11:10.491Z"
   },
   {
    "duration": 301,
    "start_time": "2023-02-26T12:11:27.971Z"
   },
   {
    "duration": 234,
    "start_time": "2023-02-26T12:11:38.751Z"
   },
   {
    "duration": 16,
    "start_time": "2023-02-26T12:11:49.551Z"
   },
   {
    "duration": 320,
    "start_time": "2023-02-26T12:12:50.551Z"
   },
   {
    "duration": 4,
    "start_time": "2023-02-26T12:34:51.051Z"
   },
   {
    "duration": 7,
    "start_time": "2023-02-26T12:35:32.031Z"
   },
   {
    "duration": 6,
    "start_time": "2023-02-26T12:35:33.111Z"
   },
   {
    "duration": 7,
    "start_time": "2023-02-26T12:36:37.892Z"
   },
   {
    "duration": 6,
    "start_time": "2023-02-26T13:00:04.571Z"
   },
   {
    "duration": 1124,
    "start_time": "2023-02-26T13:00:11.468Z"
   },
   {
    "duration": 38,
    "start_time": "2023-02-26T13:00:12.594Z"
   },
   {
    "duration": 11,
    "start_time": "2023-02-26T13:00:12.634Z"
   },
   {
    "duration": 13,
    "start_time": "2023-02-26T13:00:12.646Z"
   },
   {
    "duration": 45,
    "start_time": "2023-02-26T13:00:12.661Z"
   },
   {
    "duration": 21,
    "start_time": "2023-02-26T13:00:12.708Z"
   },
   {
    "duration": 19,
    "start_time": "2023-02-26T13:00:12.731Z"
   },
   {
    "duration": 9,
    "start_time": "2023-02-26T13:00:12.752Z"
   },
   {
    "duration": 13,
    "start_time": "2023-02-26T13:00:12.763Z"
   },
   {
    "duration": 7,
    "start_time": "2023-02-26T13:00:12.778Z"
   },
   {
    "duration": 11,
    "start_time": "2023-02-26T13:00:12.787Z"
   },
   {
    "duration": 6,
    "start_time": "2023-02-26T13:00:12.821Z"
   },
   {
    "duration": 9,
    "start_time": "2023-02-26T13:00:12.829Z"
   },
   {
    "duration": 10,
    "start_time": "2023-02-26T13:00:12.841Z"
   },
   {
    "duration": 302,
    "start_time": "2023-02-26T13:00:12.852Z"
   },
   {
    "duration": 306,
    "start_time": "2023-02-26T13:00:13.156Z"
   },
   {
    "duration": 218,
    "start_time": "2023-02-26T13:00:13.464Z"
   },
   {
    "duration": 308,
    "start_time": "2023-02-26T13:00:13.684Z"
   },
   {
    "duration": 239,
    "start_time": "2023-02-26T13:00:13.994Z"
   },
   {
    "duration": 13,
    "start_time": "2023-02-26T13:00:14.235Z"
   },
   {
    "duration": 355,
    "start_time": "2023-02-26T13:00:14.250Z"
   },
   {
    "duration": 26,
    "start_time": "2023-02-26T13:00:14.608Z"
   },
   {
    "duration": 173,
    "start_time": "2023-02-26T13:00:14.636Z"
   },
   {
    "duration": 10,
    "start_time": "2023-02-26T13:00:14.811Z"
   },
   {
    "duration": 12,
    "start_time": "2023-02-26T13:00:14.822Z"
   },
   {
    "duration": 182,
    "start_time": "2023-02-26T13:00:14.836Z"
   },
   {
    "duration": 4,
    "start_time": "2023-02-26T13:00:15.021Z"
   },
   {
    "duration": 16,
    "start_time": "2023-02-26T13:00:15.026Z"
   },
   {
    "duration": 22,
    "start_time": "2023-02-26T13:00:15.045Z"
   },
   {
    "duration": 18,
    "start_time": "2023-02-26T13:00:15.070Z"
   },
   {
    "duration": 26,
    "start_time": "2023-02-26T13:00:15.090Z"
   },
   {
    "duration": 244,
    "start_time": "2023-02-26T13:00:15.118Z"
   },
   {
    "duration": 147,
    "start_time": "2023-02-26T13:00:15.363Z"
   },
   {
    "duration": 11,
    "start_time": "2023-02-26T13:00:15.511Z"
   },
   {
    "duration": 29,
    "start_time": "2023-02-26T13:00:15.524Z"
   },
   {
    "duration": 30,
    "start_time": "2023-02-26T13:00:15.555Z"
   },
   {
    "duration": 11,
    "start_time": "2023-02-26T13:04:40.174Z"
   },
   {
    "duration": 139,
    "start_time": "2023-02-26T13:46:14.489Z"
   },
   {
    "duration": 5,
    "start_time": "2023-02-26T13:46:20.917Z"
   },
   {
    "duration": 9,
    "start_time": "2023-02-26T13:46:43.621Z"
   },
   {
    "duration": 6,
    "start_time": "2023-02-26T13:47:03.075Z"
   },
   {
    "duration": 38,
    "start_time": "2023-02-26T15:21:10.374Z"
   },
   {
    "duration": 30,
    "start_time": "2023-02-26T15:50:15.888Z"
   },
   {
    "duration": 144,
    "start_time": "2023-02-26T15:51:05.690Z"
   },
   {
    "duration": 34,
    "start_time": "2023-02-26T15:52:52.175Z"
   },
   {
    "duration": 1199,
    "start_time": "2023-02-26T15:52:58.730Z"
   },
   {
    "duration": 40,
    "start_time": "2023-02-26T15:52:59.931Z"
   },
   {
    "duration": 12,
    "start_time": "2023-02-26T15:52:59.972Z"
   },
   {
    "duration": 11,
    "start_time": "2023-02-26T15:52:59.986Z"
   },
   {
    "duration": 59,
    "start_time": "2023-02-26T15:53:00.000Z"
   },
   {
    "duration": 23,
    "start_time": "2023-02-26T15:53:00.061Z"
   },
   {
    "duration": 20,
    "start_time": "2023-02-26T15:53:00.086Z"
   },
   {
    "duration": 17,
    "start_time": "2023-02-26T15:53:00.107Z"
   },
   {
    "duration": 12,
    "start_time": "2023-02-26T15:53:00.126Z"
   },
   {
    "duration": 20,
    "start_time": "2023-02-26T15:53:00.140Z"
   },
   {
    "duration": 32,
    "start_time": "2023-02-26T15:53:00.162Z"
   },
   {
    "duration": 39,
    "start_time": "2023-02-26T15:53:00.196Z"
   },
   {
    "duration": 147,
    "start_time": "2023-02-26T15:53:00.237Z"
   },
   {
    "duration": 0,
    "start_time": "2023-02-26T15:53:00.386Z"
   },
   {
    "duration": 0,
    "start_time": "2023-02-26T15:53:00.388Z"
   },
   {
    "duration": 0,
    "start_time": "2023-02-26T15:53:00.388Z"
   },
   {
    "duration": 0,
    "start_time": "2023-02-26T15:53:00.390Z"
   },
   {
    "duration": 0,
    "start_time": "2023-02-26T15:53:00.391Z"
   },
   {
    "duration": 0,
    "start_time": "2023-02-26T15:53:00.392Z"
   },
   {
    "duration": 0,
    "start_time": "2023-02-26T15:53:00.393Z"
   },
   {
    "duration": 0,
    "start_time": "2023-02-26T15:53:00.394Z"
   },
   {
    "duration": 0,
    "start_time": "2023-02-26T15:53:00.395Z"
   },
   {
    "duration": 0,
    "start_time": "2023-02-26T15:53:00.396Z"
   },
   {
    "duration": 0,
    "start_time": "2023-02-26T15:53:00.397Z"
   },
   {
    "duration": 0,
    "start_time": "2023-02-26T15:53:00.398Z"
   },
   {
    "duration": 0,
    "start_time": "2023-02-26T15:53:00.421Z"
   },
   {
    "duration": 0,
    "start_time": "2023-02-26T15:53:00.422Z"
   },
   {
    "duration": 0,
    "start_time": "2023-02-26T15:53:00.423Z"
   },
   {
    "duration": 0,
    "start_time": "2023-02-26T15:53:00.424Z"
   },
   {
    "duration": 0,
    "start_time": "2023-02-26T15:53:00.425Z"
   },
   {
    "duration": 0,
    "start_time": "2023-02-26T15:53:00.426Z"
   },
   {
    "duration": 0,
    "start_time": "2023-02-26T15:53:00.427Z"
   },
   {
    "duration": 0,
    "start_time": "2023-02-26T15:53:00.428Z"
   },
   {
    "duration": 0,
    "start_time": "2023-02-26T15:53:00.429Z"
   },
   {
    "duration": 0,
    "start_time": "2023-02-26T15:53:00.430Z"
   },
   {
    "duration": 0,
    "start_time": "2023-02-26T15:53:00.431Z"
   },
   {
    "duration": 0,
    "start_time": "2023-02-26T15:53:00.433Z"
   },
   {
    "duration": 0,
    "start_time": "2023-02-26T15:53:00.434Z"
   },
   {
    "duration": 30,
    "start_time": "2023-02-26T15:53:50.071Z"
   },
   {
    "duration": 13,
    "start_time": "2023-02-26T15:54:38.132Z"
   },
   {
    "duration": 16,
    "start_time": "2023-02-26T15:55:18.591Z"
   },
   {
    "duration": 11,
    "start_time": "2023-02-26T15:55:27.862Z"
   },
   {
    "duration": 10,
    "start_time": "2023-02-26T15:55:38.111Z"
   },
   {
    "duration": 9,
    "start_time": "2023-02-26T15:55:47.392Z"
   },
   {
    "duration": 13,
    "start_time": "2023-02-26T16:00:41.350Z"
   },
   {
    "duration": 12,
    "start_time": "2023-02-26T16:01:01.632Z"
   },
   {
    "duration": 9,
    "start_time": "2023-02-26T16:05:32.905Z"
   },
   {
    "duration": 7,
    "start_time": "2023-02-26T16:05:42.912Z"
   },
   {
    "duration": 14,
    "start_time": "2023-02-26T16:07:11.880Z"
   },
   {
    "duration": 8,
    "start_time": "2023-02-26T16:07:45.310Z"
   },
   {
    "duration": 12,
    "start_time": "2023-02-26T16:07:52.601Z"
   },
   {
    "duration": 10,
    "start_time": "2023-02-26T16:08:13.110Z"
   },
   {
    "duration": 8,
    "start_time": "2023-02-26T16:08:45.104Z"
   },
   {
    "duration": 8,
    "start_time": "2023-02-26T16:09:18.950Z"
   },
   {
    "duration": 6,
    "start_time": "2023-02-26T16:27:03.470Z"
   },
   {
    "duration": 6,
    "start_time": "2023-02-26T16:27:24.098Z"
   },
   {
    "duration": 6,
    "start_time": "2023-02-26T16:27:38.229Z"
   },
   {
    "duration": 8,
    "start_time": "2023-02-26T16:39:50.743Z"
   },
   {
    "duration": 8,
    "start_time": "2023-02-26T16:39:51.991Z"
   },
   {
    "duration": 8,
    "start_time": "2023-02-26T16:44:36.732Z"
   },
   {
    "duration": 8,
    "start_time": "2023-02-26T16:44:47.509Z"
   },
   {
    "duration": 8,
    "start_time": "2023-02-26T16:45:56.650Z"
   },
   {
    "duration": 9,
    "start_time": "2023-02-26T16:46:18.530Z"
   },
   {
    "duration": 76,
    "start_time": "2023-02-26T16:46:32.870Z"
   },
   {
    "duration": 3,
    "start_time": "2023-02-26T16:46:42.582Z"
   },
   {
    "duration": 90,
    "start_time": "2023-02-26T16:46:59.282Z"
   },
   {
    "duration": 8,
    "start_time": "2023-02-26T16:47:02.210Z"
   },
   {
    "duration": 8,
    "start_time": "2023-02-26T16:47:25.461Z"
   },
   {
    "duration": 9,
    "start_time": "2023-02-26T16:52:33.310Z"
   },
   {
    "duration": 8,
    "start_time": "2023-02-26T16:54:21.164Z"
   },
   {
    "duration": 11,
    "start_time": "2023-02-26T16:55:19.651Z"
   },
   {
    "duration": 7,
    "start_time": "2023-02-26T16:55:20.778Z"
   },
   {
    "duration": 7,
    "start_time": "2023-02-26T16:55:21.450Z"
   },
   {
    "duration": 6,
    "start_time": "2023-02-26T16:55:22.102Z"
   },
   {
    "duration": 8,
    "start_time": "2023-02-26T16:55:23.091Z"
   },
   {
    "duration": 3,
    "start_time": "2023-02-26T17:03:10.990Z"
   },
   {
    "duration": 6,
    "start_time": "2023-02-26T17:10:07.777Z"
   },
   {
    "duration": 6,
    "start_time": "2023-02-26T17:10:43.890Z"
   },
   {
    "duration": 7,
    "start_time": "2023-02-26T17:12:26.497Z"
   },
   {
    "duration": 10,
    "start_time": "2023-02-26T17:12:29.526Z"
   },
   {
    "duration": 6,
    "start_time": "2023-02-26T17:15:03.242Z"
   },
   {
    "duration": 13,
    "start_time": "2023-02-26T17:17:44.689Z"
   },
   {
    "duration": 16,
    "start_time": "2023-02-26T17:33:19.321Z"
   },
   {
    "duration": 11,
    "start_time": "2023-02-26T17:33:28.361Z"
   },
   {
    "duration": 70,
    "start_time": "2023-02-26T17:44:47.706Z"
   },
   {
    "duration": 8,
    "start_time": "2023-02-26T17:45:08.189Z"
   },
   {
    "duration": 69,
    "start_time": "2023-02-26T17:45:10.217Z"
   },
   {
    "duration": 79,
    "start_time": "2023-02-26T17:45:26.377Z"
   },
   {
    "duration": 74,
    "start_time": "2023-02-26T17:45:31.249Z"
   },
   {
    "duration": 7,
    "start_time": "2023-02-26T17:45:45.641Z"
   },
   {
    "duration": 11,
    "start_time": "2023-02-26T17:45:48.542Z"
   },
   {
    "duration": 7,
    "start_time": "2023-02-26T17:46:48.609Z"
   },
   {
    "duration": 68,
    "start_time": "2023-02-26T17:46:55.210Z"
   },
   {
    "duration": 7,
    "start_time": "2023-02-26T17:47:08.645Z"
   },
   {
    "duration": 7,
    "start_time": "2023-02-26T17:47:17.649Z"
   },
   {
    "duration": 11,
    "start_time": "2023-02-26T17:50:39.469Z"
   },
   {
    "duration": 10,
    "start_time": "2023-02-26T17:51:15.701Z"
   },
   {
    "duration": 1027,
    "start_time": "2023-02-26T17:51:28.950Z"
   },
   {
    "duration": 39,
    "start_time": "2023-02-26T17:51:29.979Z"
   },
   {
    "duration": 12,
    "start_time": "2023-02-26T17:51:30.020Z"
   },
   {
    "duration": 28,
    "start_time": "2023-02-26T17:51:30.034Z"
   },
   {
    "duration": 59,
    "start_time": "2023-02-26T17:51:30.063Z"
   },
   {
    "duration": 20,
    "start_time": "2023-02-26T17:51:30.124Z"
   },
   {
    "duration": 18,
    "start_time": "2023-02-26T17:51:30.146Z"
   },
   {
    "duration": 25,
    "start_time": "2023-02-26T17:51:30.166Z"
   },
   {
    "duration": 37,
    "start_time": "2023-02-26T17:51:30.192Z"
   },
   {
    "duration": 14,
    "start_time": "2023-02-26T17:51:30.231Z"
   },
   {
    "duration": 23,
    "start_time": "2023-02-26T17:51:30.246Z"
   },
   {
    "duration": 32,
    "start_time": "2023-02-26T17:51:30.270Z"
   },
   {
    "duration": 28,
    "start_time": "2023-02-26T17:51:30.304Z"
   },
   {
    "duration": 26,
    "start_time": "2023-02-26T17:51:30.334Z"
   },
   {
    "duration": 18,
    "start_time": "2023-02-26T17:51:30.361Z"
   },
   {
    "duration": 30,
    "start_time": "2023-02-26T17:51:30.380Z"
   },
   {
    "duration": 21,
    "start_time": "2023-02-26T17:51:30.412Z"
   },
   {
    "duration": 27,
    "start_time": "2023-02-26T17:51:30.434Z"
   },
   {
    "duration": 13,
    "start_time": "2023-02-26T17:51:30.463Z"
   },
   {
    "duration": 291,
    "start_time": "2023-02-26T17:51:30.477Z"
   },
   {
    "duration": 284,
    "start_time": "2023-02-26T17:51:30.771Z"
   },
   {
    "duration": 204,
    "start_time": "2023-02-26T17:51:31.057Z"
   },
   {
    "duration": 271,
    "start_time": "2023-02-26T17:51:31.263Z"
   },
   {
    "duration": 215,
    "start_time": "2023-02-26T17:51:31.536Z"
   },
   {
    "duration": 13,
    "start_time": "2023-02-26T17:51:31.753Z"
   },
   {
    "duration": 294,
    "start_time": "2023-02-26T17:51:31.768Z"
   },
   {
    "duration": 13,
    "start_time": "2023-02-26T17:51:32.064Z"
   },
   {
    "duration": 147,
    "start_time": "2023-02-26T17:51:32.081Z"
   },
   {
    "duration": 4,
    "start_time": "2023-02-26T17:51:32.230Z"
   },
   {
    "duration": 10,
    "start_time": "2023-02-26T17:51:32.236Z"
   },
   {
    "duration": 174,
    "start_time": "2023-02-26T17:51:32.248Z"
   },
   {
    "duration": 5,
    "start_time": "2023-02-26T17:51:32.424Z"
   },
   {
    "duration": 7,
    "start_time": "2023-02-26T17:51:32.430Z"
   },
   {
    "duration": 6,
    "start_time": "2023-02-26T17:51:32.438Z"
   },
   {
    "duration": 5,
    "start_time": "2023-02-26T17:51:32.445Z"
   },
   {
    "duration": 11,
    "start_time": "2023-02-26T17:51:32.451Z"
   },
   {
    "duration": 246,
    "start_time": "2023-02-26T17:51:32.463Z"
   },
   {
    "duration": 139,
    "start_time": "2023-02-26T17:51:32.711Z"
   },
   {
    "duration": 5,
    "start_time": "2023-02-26T17:51:32.852Z"
   },
   {
    "duration": 8,
    "start_time": "2023-02-26T17:51:32.859Z"
   },
   {
    "duration": 25,
    "start_time": "2023-02-26T17:51:32.869Z"
   },
   {
    "duration": 27,
    "start_time": "2023-02-26T17:51:32.896Z"
   },
   {
    "duration": 7,
    "start_time": "2023-02-26T17:52:05.150Z"
   },
   {
    "duration": 11,
    "start_time": "2023-02-26T17:52:20.170Z"
   },
   {
    "duration": 8,
    "start_time": "2023-02-26T17:56:07.289Z"
   },
   {
    "duration": 107,
    "start_time": "2023-02-26T17:56:25.671Z"
   },
   {
    "duration": 9,
    "start_time": "2023-02-26T17:56:33.181Z"
   },
   {
    "duration": 8,
    "start_time": "2023-02-26T17:56:44.190Z"
   },
   {
    "duration": 6,
    "start_time": "2023-02-26T17:58:23.429Z"
   },
   {
    "duration": 5,
    "start_time": "2023-02-26T17:58:26.470Z"
   },
   {
    "duration": 10,
    "start_time": "2023-02-26T17:59:00.482Z"
   },
   {
    "duration": 11,
    "start_time": "2023-02-26T17:59:07.270Z"
   },
   {
    "duration": 1057,
    "start_time": "2023-02-26T17:59:17.931Z"
   },
   {
    "duration": 38,
    "start_time": "2023-02-26T17:59:18.990Z"
   },
   {
    "duration": 14,
    "start_time": "2023-02-26T17:59:19.030Z"
   },
   {
    "duration": 12,
    "start_time": "2023-02-26T17:59:19.046Z"
   },
   {
    "duration": 45,
    "start_time": "2023-02-26T17:59:19.060Z"
   },
   {
    "duration": 21,
    "start_time": "2023-02-26T17:59:19.107Z"
   },
   {
    "duration": 19,
    "start_time": "2023-02-26T17:59:19.130Z"
   },
   {
    "duration": 6,
    "start_time": "2023-02-26T17:59:19.151Z"
   },
   {
    "duration": 9,
    "start_time": "2023-02-26T17:59:19.159Z"
   },
   {
    "duration": 4,
    "start_time": "2023-02-26T17:59:19.171Z"
   },
   {
    "duration": 9,
    "start_time": "2023-02-26T17:59:19.177Z"
   },
   {
    "duration": 32,
    "start_time": "2023-02-26T17:59:19.188Z"
   },
   {
    "duration": 10,
    "start_time": "2023-02-26T17:59:19.222Z"
   },
   {
    "duration": 8,
    "start_time": "2023-02-26T17:59:19.234Z"
   },
   {
    "duration": 14,
    "start_time": "2023-02-26T17:59:19.244Z"
   },
   {
    "duration": 14,
    "start_time": "2023-02-26T17:59:19.259Z"
   },
   {
    "duration": 9,
    "start_time": "2023-02-26T17:59:19.275Z"
   },
   {
    "duration": 39,
    "start_time": "2023-02-26T17:59:19.285Z"
   },
   {
    "duration": 10,
    "start_time": "2023-02-26T17:59:19.326Z"
   },
   {
    "duration": 6,
    "start_time": "2023-02-26T17:59:19.338Z"
   },
   {
    "duration": 330,
    "start_time": "2023-02-26T17:59:19.346Z"
   },
   {
    "duration": 322,
    "start_time": "2023-02-26T17:59:19.678Z"
   },
   {
    "duration": 229,
    "start_time": "2023-02-26T17:59:20.002Z"
   },
   {
    "duration": 302,
    "start_time": "2023-02-26T17:59:20.233Z"
   },
   {
    "duration": 232,
    "start_time": "2023-02-26T17:59:20.536Z"
   },
   {
    "duration": 12,
    "start_time": "2023-02-26T17:59:20.770Z"
   },
   {
    "duration": 306,
    "start_time": "2023-02-26T17:59:20.783Z"
   },
   {
    "duration": 10,
    "start_time": "2023-02-26T17:59:21.092Z"
   },
   {
    "duration": 151,
    "start_time": "2023-02-26T17:59:21.103Z"
   },
   {
    "duration": 4,
    "start_time": "2023-02-26T17:59:21.255Z"
   },
   {
    "duration": 10,
    "start_time": "2023-02-26T17:59:21.260Z"
   },
   {
    "duration": 262,
    "start_time": "2023-02-26T17:59:21.272Z"
   },
   {
    "duration": 4,
    "start_time": "2023-02-26T17:59:21.536Z"
   },
   {
    "duration": 5,
    "start_time": "2023-02-26T17:59:21.542Z"
   },
   {
    "duration": 8,
    "start_time": "2023-02-26T17:59:21.549Z"
   },
   {
    "duration": 4,
    "start_time": "2023-02-26T17:59:21.559Z"
   },
   {
    "duration": 60,
    "start_time": "2023-02-26T17:59:21.565Z"
   },
   {
    "duration": 422,
    "start_time": "2023-02-26T17:59:21.626Z"
   },
   {
    "duration": 308,
    "start_time": "2023-02-26T17:59:22.049Z"
   },
   {
    "duration": 5,
    "start_time": "2023-02-26T17:59:22.359Z"
   },
   {
    "duration": 59,
    "start_time": "2023-02-26T17:59:22.365Z"
   },
   {
    "duration": 21,
    "start_time": "2023-02-26T17:59:22.426Z"
   },
   {
    "duration": 9,
    "start_time": "2023-02-26T17:59:22.449Z"
   },
   {
    "duration": 8,
    "start_time": "2023-02-26T18:01:18.989Z"
   },
   {
    "duration": 8,
    "start_time": "2023-02-26T18:02:16.949Z"
   },
   {
    "duration": 77,
    "start_time": "2023-02-26T18:04:55.817Z"
   },
   {
    "duration": 82,
    "start_time": "2023-02-26T18:05:04.328Z"
   },
   {
    "duration": 91,
    "start_time": "2023-02-26T18:07:17.869Z"
   },
   {
    "duration": 11,
    "start_time": "2023-02-26T18:08:08.857Z"
   },
   {
    "duration": 13,
    "start_time": "2023-02-26T18:08:17.057Z"
   },
   {
    "duration": 79,
    "start_time": "2023-02-26T18:08:23.369Z"
   },
   {
    "duration": 9,
    "start_time": "2023-02-26T18:08:33.724Z"
   },
   {
    "duration": 1169,
    "start_time": "2023-02-26T18:08:49.715Z"
   },
   {
    "duration": 39,
    "start_time": "2023-02-26T18:08:50.886Z"
   },
   {
    "duration": 13,
    "start_time": "2023-02-26T18:08:50.927Z"
   },
   {
    "duration": 11,
    "start_time": "2023-02-26T18:08:50.941Z"
   },
   {
    "duration": 45,
    "start_time": "2023-02-26T18:08:50.955Z"
   },
   {
    "duration": 21,
    "start_time": "2023-02-26T18:08:51.001Z"
   },
   {
    "duration": 19,
    "start_time": "2023-02-26T18:08:51.024Z"
   },
   {
    "duration": 8,
    "start_time": "2023-02-26T18:08:51.044Z"
   },
   {
    "duration": 9,
    "start_time": "2023-02-26T18:08:51.053Z"
   },
   {
    "duration": 7,
    "start_time": "2023-02-26T18:08:51.063Z"
   },
   {
    "duration": 10,
    "start_time": "2023-02-26T18:08:51.072Z"
   },
   {
    "duration": 7,
    "start_time": "2023-02-26T18:08:51.084Z"
   },
   {
    "duration": 29,
    "start_time": "2023-02-26T18:08:51.092Z"
   },
   {
    "duration": 9,
    "start_time": "2023-02-26T18:08:51.124Z"
   },
   {
    "duration": 15,
    "start_time": "2023-02-26T18:08:51.134Z"
   },
   {
    "duration": 12,
    "start_time": "2023-02-26T18:08:51.150Z"
   },
   {
    "duration": 9,
    "start_time": "2023-02-26T18:08:51.164Z"
   },
   {
    "duration": 10,
    "start_time": "2023-02-26T18:08:51.175Z"
   },
   {
    "duration": 38,
    "start_time": "2023-02-26T18:08:51.187Z"
   },
   {
    "duration": 6,
    "start_time": "2023-02-26T18:08:51.227Z"
   },
   {
    "duration": 310,
    "start_time": "2023-02-26T18:08:51.235Z"
   },
   {
    "duration": 336,
    "start_time": "2023-02-26T18:08:51.547Z"
   },
   {
    "duration": 239,
    "start_time": "2023-02-26T18:08:51.884Z"
   },
   {
    "duration": 339,
    "start_time": "2023-02-26T18:08:52.125Z"
   },
   {
    "duration": 277,
    "start_time": "2023-02-26T18:08:52.466Z"
   },
   {
    "duration": 15,
    "start_time": "2023-02-26T18:08:52.746Z"
   },
   {
    "duration": 327,
    "start_time": "2023-02-26T18:08:52.762Z"
   },
   {
    "duration": 13,
    "start_time": "2023-02-26T18:08:53.091Z"
   },
   {
    "duration": 168,
    "start_time": "2023-02-26T18:08:53.120Z"
   },
   {
    "duration": 5,
    "start_time": "2023-02-26T18:08:53.291Z"
   },
   {
    "duration": 28,
    "start_time": "2023-02-26T18:08:53.297Z"
   },
   {
    "duration": 179,
    "start_time": "2023-02-26T18:08:53.326Z"
   },
   {
    "duration": 14,
    "start_time": "2023-02-26T18:08:53.507Z"
   },
   {
    "duration": 5,
    "start_time": "2023-02-26T18:08:53.523Z"
   },
   {
    "duration": 16,
    "start_time": "2023-02-26T18:08:53.530Z"
   },
   {
    "duration": 6,
    "start_time": "2023-02-26T18:08:53.548Z"
   },
   {
    "duration": 28,
    "start_time": "2023-02-26T18:08:53.555Z"
   },
   {
    "duration": 251,
    "start_time": "2023-02-26T18:08:53.586Z"
   },
   {
    "duration": 181,
    "start_time": "2023-02-26T18:08:53.839Z"
   },
   {
    "duration": 6,
    "start_time": "2023-02-26T18:08:54.023Z"
   },
   {
    "duration": 7,
    "start_time": "2023-02-26T18:08:54.034Z"
   },
   {
    "duration": 26,
    "start_time": "2023-02-26T18:08:54.043Z"
   },
   {
    "duration": 10,
    "start_time": "2023-02-26T18:08:54.071Z"
   },
   {
    "duration": 10,
    "start_time": "2023-02-26T18:09:16.354Z"
   },
   {
    "duration": 9,
    "start_time": "2023-02-26T18:10:38.954Z"
   },
   {
    "duration": 1151,
    "start_time": "2023-02-26T18:10:45.614Z"
   },
   {
    "duration": 39,
    "start_time": "2023-02-26T18:10:46.767Z"
   },
   {
    "duration": 12,
    "start_time": "2023-02-26T18:10:46.808Z"
   },
   {
    "duration": 11,
    "start_time": "2023-02-26T18:10:46.821Z"
   },
   {
    "duration": 50,
    "start_time": "2023-02-26T18:10:46.835Z"
   },
   {
    "duration": 26,
    "start_time": "2023-02-26T18:10:46.887Z"
   },
   {
    "duration": 23,
    "start_time": "2023-02-26T18:10:46.915Z"
   },
   {
    "duration": 7,
    "start_time": "2023-02-26T18:10:46.939Z"
   },
   {
    "duration": 9,
    "start_time": "2023-02-26T18:10:46.948Z"
   },
   {
    "duration": 6,
    "start_time": "2023-02-26T18:10:46.958Z"
   },
   {
    "duration": 9,
    "start_time": "2023-02-26T18:10:46.966Z"
   },
   {
    "duration": 7,
    "start_time": "2023-02-26T18:10:46.976Z"
   },
   {
    "duration": 39,
    "start_time": "2023-02-26T18:10:46.985Z"
   },
   {
    "duration": 8,
    "start_time": "2023-02-26T18:10:47.027Z"
   },
   {
    "duration": 17,
    "start_time": "2023-02-26T18:10:47.037Z"
   },
   {
    "duration": 14,
    "start_time": "2023-02-26T18:10:47.056Z"
   },
   {
    "duration": 10,
    "start_time": "2023-02-26T18:10:47.072Z"
   },
   {
    "duration": 40,
    "start_time": "2023-02-26T18:10:47.084Z"
   },
   {
    "duration": 9,
    "start_time": "2023-02-26T18:10:47.126Z"
   },
   {
    "duration": 6,
    "start_time": "2023-02-26T18:10:47.137Z"
   },
   {
    "duration": 336,
    "start_time": "2023-02-26T18:10:47.145Z"
   },
   {
    "duration": 327,
    "start_time": "2023-02-26T18:10:47.483Z"
   },
   {
    "duration": 248,
    "start_time": "2023-02-26T18:10:47.812Z"
   },
   {
    "duration": 304,
    "start_time": "2023-02-26T18:10:48.063Z"
   },
   {
    "duration": 264,
    "start_time": "2023-02-26T18:10:48.369Z"
   },
   {
    "duration": 15,
    "start_time": "2023-02-26T18:10:48.635Z"
   },
   {
    "duration": 309,
    "start_time": "2023-02-26T18:10:48.653Z"
   },
   {
    "duration": 16,
    "start_time": "2023-02-26T18:10:48.964Z"
   },
   {
    "duration": 165,
    "start_time": "2023-02-26T18:10:48.982Z"
   },
   {
    "duration": 4,
    "start_time": "2023-02-26T18:10:49.149Z"
   },
   {
    "duration": 12,
    "start_time": "2023-02-26T18:10:49.154Z"
   },
   {
    "duration": 186,
    "start_time": "2023-02-26T18:10:49.167Z"
   },
   {
    "duration": 5,
    "start_time": "2023-02-26T18:10:49.354Z"
   },
   {
    "duration": 7,
    "start_time": "2023-02-26T18:10:49.360Z"
   },
   {
    "duration": 5,
    "start_time": "2023-02-26T18:10:49.369Z"
   },
   {
    "duration": 9,
    "start_time": "2023-02-26T18:10:49.375Z"
   },
   {
    "duration": 38,
    "start_time": "2023-02-26T18:10:49.385Z"
   },
   {
    "duration": 278,
    "start_time": "2023-02-26T18:10:49.425Z"
   },
   {
    "duration": 169,
    "start_time": "2023-02-26T18:10:49.705Z"
   },
   {
    "duration": 5,
    "start_time": "2023-02-26T18:10:49.876Z"
   },
   {
    "duration": 10,
    "start_time": "2023-02-26T18:10:49.885Z"
   },
   {
    "duration": 43,
    "start_time": "2023-02-26T18:10:49.897Z"
   },
   {
    "duration": 12,
    "start_time": "2023-02-26T18:10:49.942Z"
   },
   {
    "duration": 1108,
    "start_time": "2023-02-26T18:11:18.251Z"
   },
   {
    "duration": 39,
    "start_time": "2023-02-26T18:11:19.361Z"
   },
   {
    "duration": 12,
    "start_time": "2023-02-26T18:11:19.401Z"
   },
   {
    "duration": 11,
    "start_time": "2023-02-26T18:11:19.414Z"
   },
   {
    "duration": 49,
    "start_time": "2023-02-26T18:11:19.427Z"
   },
   {
    "duration": 20,
    "start_time": "2023-02-26T18:11:19.478Z"
   },
   {
    "duration": 16,
    "start_time": "2023-02-26T18:11:19.500Z"
   },
   {
    "duration": 6,
    "start_time": "2023-02-26T18:11:19.518Z"
   },
   {
    "duration": 12,
    "start_time": "2023-02-26T18:11:19.525Z"
   },
   {
    "duration": 6,
    "start_time": "2023-02-26T18:11:19.539Z"
   },
   {
    "duration": 10,
    "start_time": "2023-02-26T18:11:19.546Z"
   },
   {
    "duration": 10,
    "start_time": "2023-02-26T18:11:19.558Z"
   },
   {
    "duration": 10,
    "start_time": "2023-02-26T18:11:19.569Z"
   },
   {
    "duration": 14,
    "start_time": "2023-02-26T18:11:19.582Z"
   },
   {
    "duration": 30,
    "start_time": "2023-02-26T18:11:19.598Z"
   },
   {
    "duration": 23,
    "start_time": "2023-02-26T18:11:19.630Z"
   },
   {
    "duration": 10,
    "start_time": "2023-02-26T18:11:19.654Z"
   },
   {
    "duration": 11,
    "start_time": "2023-02-26T18:11:19.665Z"
   },
   {
    "duration": 9,
    "start_time": "2023-02-26T18:11:19.678Z"
   },
   {
    "duration": 12,
    "start_time": "2023-02-26T18:11:19.689Z"
   },
   {
    "duration": 311,
    "start_time": "2023-02-26T18:11:19.721Z"
   },
   {
    "duration": 323,
    "start_time": "2023-02-26T18:11:20.034Z"
   },
   {
    "duration": 233,
    "start_time": "2023-02-26T18:11:20.359Z"
   },
   {
    "duration": 352,
    "start_time": "2023-02-26T18:11:20.593Z"
   },
   {
    "duration": 246,
    "start_time": "2023-02-26T18:11:20.947Z"
   },
   {
    "duration": 13,
    "start_time": "2023-02-26T18:11:21.195Z"
   },
   {
    "duration": 325,
    "start_time": "2023-02-26T18:11:21.221Z"
   },
   {
    "duration": 12,
    "start_time": "2023-02-26T18:11:21.548Z"
   },
   {
    "duration": 159,
    "start_time": "2023-02-26T18:11:21.561Z"
   },
   {
    "duration": 4,
    "start_time": "2023-02-26T18:11:21.722Z"
   },
   {
    "duration": 11,
    "start_time": "2023-02-26T18:11:21.728Z"
   },
   {
    "duration": 173,
    "start_time": "2023-02-26T18:11:21.741Z"
   },
   {
    "duration": 4,
    "start_time": "2023-02-26T18:11:21.920Z"
   },
   {
    "duration": 8,
    "start_time": "2023-02-26T18:11:21.925Z"
   },
   {
    "duration": 7,
    "start_time": "2023-02-26T18:11:21.934Z"
   },
   {
    "duration": 6,
    "start_time": "2023-02-26T18:11:21.942Z"
   },
   {
    "duration": 11,
    "start_time": "2023-02-26T18:11:21.950Z"
   },
   {
    "duration": 242,
    "start_time": "2023-02-26T18:11:21.963Z"
   },
   {
    "duration": 155,
    "start_time": "2023-02-26T18:11:22.207Z"
   },
   {
    "duration": 6,
    "start_time": "2023-02-26T18:11:22.364Z"
   },
   {
    "duration": 8,
    "start_time": "2023-02-26T18:11:22.375Z"
   },
   {
    "duration": 47,
    "start_time": "2023-02-26T18:11:22.385Z"
   },
   {
    "duration": 10,
    "start_time": "2023-02-26T18:11:22.434Z"
   },
   {
    "duration": 1140,
    "start_time": "2023-02-26T18:15:48.238Z"
   },
   {
    "duration": 39,
    "start_time": "2023-02-26T18:15:49.380Z"
   },
   {
    "duration": 12,
    "start_time": "2023-02-26T18:15:49.420Z"
   },
   {
    "duration": 13,
    "start_time": "2023-02-26T18:15:49.433Z"
   },
   {
    "duration": 48,
    "start_time": "2023-02-26T18:15:49.448Z"
   },
   {
    "duration": 21,
    "start_time": "2023-02-26T18:15:49.499Z"
   },
   {
    "duration": 18,
    "start_time": "2023-02-26T18:15:49.522Z"
   },
   {
    "duration": 6,
    "start_time": "2023-02-26T18:15:49.542Z"
   },
   {
    "duration": 14,
    "start_time": "2023-02-26T18:15:49.549Z"
   },
   {
    "duration": 7,
    "start_time": "2023-02-26T18:15:49.565Z"
   },
   {
    "duration": 12,
    "start_time": "2023-02-26T18:15:49.574Z"
   },
   {
    "duration": 10,
    "start_time": "2023-02-26T18:15:49.588Z"
   },
   {
    "duration": 26,
    "start_time": "2023-02-26T18:15:49.600Z"
   },
   {
    "duration": 8,
    "start_time": "2023-02-26T18:15:49.629Z"
   },
   {
    "duration": 13,
    "start_time": "2023-02-26T18:15:49.639Z"
   },
   {
    "duration": 12,
    "start_time": "2023-02-26T18:15:49.654Z"
   },
   {
    "duration": 9,
    "start_time": "2023-02-26T18:15:49.668Z"
   },
   {
    "duration": 48,
    "start_time": "2023-02-26T18:15:49.679Z"
   },
   {
    "duration": 13,
    "start_time": "2023-02-26T18:15:49.729Z"
   },
   {
    "duration": 6,
    "start_time": "2023-02-26T18:15:49.744Z"
   },
   {
    "duration": 302,
    "start_time": "2023-02-26T18:15:49.752Z"
   },
   {
    "duration": 314,
    "start_time": "2023-02-26T18:15:50.055Z"
   },
   {
    "duration": 221,
    "start_time": "2023-02-26T18:15:50.371Z"
   },
   {
    "duration": 365,
    "start_time": "2023-02-26T18:15:50.594Z"
   },
   {
    "duration": 243,
    "start_time": "2023-02-26T18:15:50.961Z"
   },
   {
    "duration": 21,
    "start_time": "2023-02-26T18:15:51.206Z"
   },
   {
    "duration": 334,
    "start_time": "2023-02-26T18:15:51.228Z"
   },
   {
    "duration": 12,
    "start_time": "2023-02-26T18:15:51.564Z"
   },
   {
    "duration": 158,
    "start_time": "2023-02-26T18:15:51.577Z"
   },
   {
    "duration": 5,
    "start_time": "2023-02-26T18:15:51.736Z"
   },
   {
    "duration": 17,
    "start_time": "2023-02-26T18:15:51.743Z"
   },
   {
    "duration": 189,
    "start_time": "2023-02-26T18:15:51.761Z"
   },
   {
    "duration": 4,
    "start_time": "2023-02-26T18:15:51.951Z"
   },
   {
    "duration": 9,
    "start_time": "2023-02-26T18:15:51.957Z"
   },
   {
    "duration": 6,
    "start_time": "2023-02-26T18:15:51.968Z"
   },
   {
    "duration": 7,
    "start_time": "2023-02-26T18:15:51.975Z"
   },
   {
    "duration": 12,
    "start_time": "2023-02-26T18:15:51.984Z"
   },
   {
    "duration": 231,
    "start_time": "2023-02-26T18:15:52.020Z"
   },
   {
    "duration": 160,
    "start_time": "2023-02-26T18:15:52.253Z"
   },
   {
    "duration": 9,
    "start_time": "2023-02-26T18:15:52.414Z"
   },
   {
    "duration": 7,
    "start_time": "2023-02-26T18:15:52.428Z"
   },
   {
    "duration": 24,
    "start_time": "2023-02-26T18:15:52.437Z"
   },
   {
    "duration": 11,
    "start_time": "2023-02-26T18:15:52.462Z"
   },
   {
    "duration": 9,
    "start_time": "2023-02-26T18:42:24.749Z"
   },
   {
    "duration": 1134,
    "start_time": "2023-02-26T18:42:37.730Z"
   },
   {
    "duration": 39,
    "start_time": "2023-02-26T18:42:38.866Z"
   },
   {
    "duration": 12,
    "start_time": "2023-02-26T18:42:38.907Z"
   },
   {
    "duration": 56,
    "start_time": "2023-02-26T18:42:38.921Z"
   },
   {
    "duration": 68,
    "start_time": "2023-02-26T18:42:38.979Z"
   },
   {
    "duration": 21,
    "start_time": "2023-02-26T18:42:39.049Z"
   },
   {
    "duration": 18,
    "start_time": "2023-02-26T18:42:39.072Z"
   },
   {
    "duration": 11,
    "start_time": "2023-02-26T18:42:39.092Z"
   },
   {
    "duration": 20,
    "start_time": "2023-02-26T18:42:39.105Z"
   },
   {
    "duration": 17,
    "start_time": "2023-02-26T18:42:39.128Z"
   },
   {
    "duration": 15,
    "start_time": "2023-02-26T18:42:39.147Z"
   },
   {
    "duration": 30,
    "start_time": "2023-02-26T18:42:39.164Z"
   },
   {
    "duration": 35,
    "start_time": "2023-02-26T18:42:39.196Z"
   },
   {
    "duration": 22,
    "start_time": "2023-02-26T18:42:39.233Z"
   },
   {
    "duration": 45,
    "start_time": "2023-02-26T18:42:39.256Z"
   },
   {
    "duration": 21,
    "start_time": "2023-02-26T18:42:39.303Z"
   },
   {
    "duration": 19,
    "start_time": "2023-02-26T18:42:39.326Z"
   },
   {
    "duration": 20,
    "start_time": "2023-02-26T18:42:39.347Z"
   },
   {
    "duration": 318,
    "start_time": "2023-02-26T18:42:39.368Z"
   },
   {
    "duration": 318,
    "start_time": "2023-02-26T18:42:39.688Z"
   },
   {
    "duration": 248,
    "start_time": "2023-02-26T18:42:40.007Z"
   },
   {
    "duration": 318,
    "start_time": "2023-02-26T18:42:40.257Z"
   },
   {
    "duration": 260,
    "start_time": "2023-02-26T18:42:40.577Z"
   },
   {
    "duration": 15,
    "start_time": "2023-02-26T18:42:40.838Z"
   },
   {
    "duration": 320,
    "start_time": "2023-02-26T18:42:40.855Z"
   },
   {
    "duration": 12,
    "start_time": "2023-02-26T18:42:41.177Z"
   },
   {
    "duration": 176,
    "start_time": "2023-02-26T18:42:41.191Z"
   },
   {
    "duration": 4,
    "start_time": "2023-02-26T18:42:41.371Z"
   },
   {
    "duration": 14,
    "start_time": "2023-02-26T18:42:41.376Z"
   },
   {
    "duration": 180,
    "start_time": "2023-02-26T18:42:41.392Z"
   },
   {
    "duration": 4,
    "start_time": "2023-02-26T18:42:41.574Z"
   },
   {
    "duration": 7,
    "start_time": "2023-02-26T18:42:41.580Z"
   },
   {
    "duration": 6,
    "start_time": "2023-02-26T18:42:41.589Z"
   },
   {
    "duration": 27,
    "start_time": "2023-02-26T18:42:41.597Z"
   },
   {
    "duration": 10,
    "start_time": "2023-02-26T18:42:41.626Z"
   },
   {
    "duration": 246,
    "start_time": "2023-02-26T18:42:41.638Z"
   },
   {
    "duration": 143,
    "start_time": "2023-02-26T18:42:41.886Z"
   },
   {
    "duration": 5,
    "start_time": "2023-02-26T18:42:42.031Z"
   },
   {
    "duration": 10,
    "start_time": "2023-02-26T18:42:42.037Z"
   },
   {
    "duration": 25,
    "start_time": "2023-02-26T18:42:42.049Z"
   },
   {
    "duration": 11,
    "start_time": "2023-02-26T18:42:42.075Z"
   },
   {
    "duration": 1165,
    "start_time": "2023-02-26T18:46:41.170Z"
   },
   {
    "duration": 39,
    "start_time": "2023-02-26T18:46:42.337Z"
   },
   {
    "duration": 12,
    "start_time": "2023-02-26T18:46:42.378Z"
   },
   {
    "duration": 11,
    "start_time": "2023-02-26T18:46:42.392Z"
   },
   {
    "duration": 51,
    "start_time": "2023-02-26T18:46:42.405Z"
   },
   {
    "duration": 22,
    "start_time": "2023-02-26T18:46:42.458Z"
   },
   {
    "duration": 21,
    "start_time": "2023-02-26T18:46:42.482Z"
   },
   {
    "duration": 8,
    "start_time": "2023-02-26T18:46:42.505Z"
   },
   {
    "duration": 10,
    "start_time": "2023-02-26T18:46:42.515Z"
   },
   {
    "duration": 13,
    "start_time": "2023-02-26T18:46:42.528Z"
   },
   {
    "duration": 18,
    "start_time": "2023-02-26T18:46:42.543Z"
   },
   {
    "duration": 40,
    "start_time": "2023-02-26T18:46:42.563Z"
   },
   {
    "duration": 17,
    "start_time": "2023-02-26T18:46:42.605Z"
   },
   {
    "duration": 15,
    "start_time": "2023-02-26T18:46:42.624Z"
   },
   {
    "duration": 11,
    "start_time": "2023-02-26T18:46:42.641Z"
   },
   {
    "duration": 24,
    "start_time": "2023-02-26T18:46:42.654Z"
   },
   {
    "duration": 319,
    "start_time": "2023-02-26T18:46:42.680Z"
   },
   {
    "duration": 322,
    "start_time": "2023-02-26T18:46:43.001Z"
   },
   {
    "duration": 225,
    "start_time": "2023-02-26T18:46:43.324Z"
   },
   {
    "duration": 352,
    "start_time": "2023-02-26T18:46:43.551Z"
   },
   {
    "duration": 268,
    "start_time": "2023-02-26T18:46:43.905Z"
   },
   {
    "duration": 14,
    "start_time": "2023-02-26T18:46:44.175Z"
   },
   {
    "duration": 395,
    "start_time": "2023-02-26T18:46:44.191Z"
   },
   {
    "duration": 15,
    "start_time": "2023-02-26T18:46:44.588Z"
   },
   {
    "duration": 222,
    "start_time": "2023-02-26T18:46:44.606Z"
   },
   {
    "duration": 5,
    "start_time": "2023-02-26T18:46:44.830Z"
   },
   {
    "duration": 14,
    "start_time": "2023-02-26T18:46:44.837Z"
   },
   {
    "duration": 220,
    "start_time": "2023-02-26T18:46:44.855Z"
   },
   {
    "duration": 10,
    "start_time": "2023-02-26T18:46:45.081Z"
   },
   {
    "duration": 12,
    "start_time": "2023-02-26T18:46:45.094Z"
   },
   {
    "duration": 12,
    "start_time": "2023-02-26T18:46:45.109Z"
   },
   {
    "duration": 6,
    "start_time": "2023-02-26T18:46:45.123Z"
   },
   {
    "duration": 18,
    "start_time": "2023-02-26T18:46:45.131Z"
   },
   {
    "duration": 247,
    "start_time": "2023-02-26T18:46:45.150Z"
   },
   {
    "duration": 149,
    "start_time": "2023-02-26T18:46:45.398Z"
   },
   {
    "duration": 5,
    "start_time": "2023-02-26T18:46:45.548Z"
   },
   {
    "duration": 8,
    "start_time": "2023-02-26T18:46:45.554Z"
   },
   {
    "duration": 24,
    "start_time": "2023-02-26T18:46:45.563Z"
   },
   {
    "duration": 32,
    "start_time": "2023-02-26T18:46:45.589Z"
   },
   {
    "duration": 9,
    "start_time": "2023-02-26T19:14:18.611Z"
   },
   {
    "duration": 9,
    "start_time": "2023-02-26T19:20:35.471Z"
   },
   {
    "duration": 12,
    "start_time": "2023-02-26T19:28:56.860Z"
   },
   {
    "duration": 4,
    "start_time": "2023-02-26T19:59:25.210Z"
   },
   {
    "duration": 294,
    "start_time": "2023-02-26T20:09:01.191Z"
   },
   {
    "duration": 205,
    "start_time": "2023-02-26T20:11:21.410Z"
   },
   {
    "duration": 307,
    "start_time": "2023-02-26T20:11:50.351Z"
   },
   {
    "duration": 249,
    "start_time": "2023-02-26T20:12:19.372Z"
   },
   {
    "duration": 199,
    "start_time": "2023-02-26T20:12:25.650Z"
   },
   {
    "duration": 199,
    "start_time": "2023-02-26T20:12:38.550Z"
   },
   {
    "duration": 222,
    "start_time": "2023-02-26T20:12:50.856Z"
   },
   {
    "duration": 218,
    "start_time": "2023-02-26T20:12:58.303Z"
   },
   {
    "duration": 320,
    "start_time": "2023-02-26T20:13:16.691Z"
   },
   {
    "duration": 235,
    "start_time": "2023-02-26T20:13:24.190Z"
   },
   {
    "duration": 253,
    "start_time": "2023-02-26T20:13:45.670Z"
   },
   {
    "duration": 13,
    "start_time": "2023-02-26T20:14:06.870Z"
   },
   {
    "duration": 221,
    "start_time": "2023-02-26T20:14:17.870Z"
   },
   {
    "duration": 152,
    "start_time": "2023-02-26T20:14:40.751Z"
   },
   {
    "duration": 4,
    "start_time": "2023-02-26T20:14:59.170Z"
   },
   {
    "duration": 5,
    "start_time": "2023-02-26T20:21:46.998Z"
   },
   {
    "duration": 5,
    "start_time": "2023-02-26T20:47:30.090Z"
   },
   {
    "duration": 93,
    "start_time": "2023-02-26T20:51:41.611Z"
   },
   {
    "duration": 90,
    "start_time": "2023-02-26T20:52:04.945Z"
   },
   {
    "duration": 76,
    "start_time": "2023-02-26T20:52:36.490Z"
   },
   {
    "duration": 4,
    "start_time": "2023-02-26T20:53:11.350Z"
   },
   {
    "duration": 77,
    "start_time": "2023-02-26T20:53:32.790Z"
   },
   {
    "duration": 1354,
    "start_time": "2023-02-26T20:53:52.990Z"
   },
   {
    "duration": 5,
    "start_time": "2023-02-26T20:54:32.491Z"
   },
   {
    "duration": 56,
    "start_time": "2023-02-27T07:39:03.278Z"
   },
   {
    "duration": 1440,
    "start_time": "2023-02-27T07:40:20.537Z"
   },
   {
    "duration": 119,
    "start_time": "2023-02-27T07:40:21.980Z"
   },
   {
    "duration": 13,
    "start_time": "2023-02-27T07:40:22.100Z"
   },
   {
    "duration": 12,
    "start_time": "2023-02-27T07:40:22.115Z"
   },
   {
    "duration": 125,
    "start_time": "2023-02-27T07:40:22.128Z"
   },
   {
    "duration": 75,
    "start_time": "2023-02-27T07:40:22.255Z"
   },
   {
    "duration": 18,
    "start_time": "2023-02-27T07:40:22.332Z"
   },
   {
    "duration": 37,
    "start_time": "2023-02-27T07:40:22.352Z"
   },
   {
    "duration": 7,
    "start_time": "2023-02-27T07:40:22.391Z"
   },
   {
    "duration": 4,
    "start_time": "2023-02-27T07:40:22.401Z"
   },
   {
    "duration": 11,
    "start_time": "2023-02-27T07:40:22.407Z"
   },
   {
    "duration": 7,
    "start_time": "2023-02-27T07:40:22.420Z"
   },
   {
    "duration": 10,
    "start_time": "2023-02-27T07:40:22.429Z"
   },
   {
    "duration": 55,
    "start_time": "2023-02-27T07:40:22.441Z"
   },
   {
    "duration": 12,
    "start_time": "2023-02-27T07:40:22.498Z"
   },
   {
    "duration": 9,
    "start_time": "2023-02-27T07:40:22.512Z"
   },
   {
    "duration": 9,
    "start_time": "2023-02-27T07:40:22.522Z"
   },
   {
    "duration": 340,
    "start_time": "2023-02-27T07:40:22.533Z"
   },
   {
    "duration": 349,
    "start_time": "2023-02-27T07:40:22.875Z"
   },
   {
    "duration": 282,
    "start_time": "2023-02-27T07:40:23.225Z"
   },
   {
    "duration": 585,
    "start_time": "2023-02-27T07:40:23.509Z"
   },
   {
    "duration": 622,
    "start_time": "2023-02-27T07:40:24.149Z"
   },
   {
    "duration": 19,
    "start_time": "2023-02-27T07:40:24.773Z"
   },
   {
    "duration": 679,
    "start_time": "2023-02-27T07:40:24.793Z"
   },
   {
    "duration": 13,
    "start_time": "2023-02-27T07:40:25.474Z"
   },
   {
    "duration": 385,
    "start_time": "2023-02-27T07:40:25.489Z"
   },
   {
    "duration": 5,
    "start_time": "2023-02-27T07:40:25.875Z"
   },
   {
    "duration": 72,
    "start_time": "2023-02-27T07:40:25.885Z"
   },
   {
    "duration": 403,
    "start_time": "2023-02-27T07:40:25.959Z"
   },
   {
    "duration": 5,
    "start_time": "2023-02-27T07:40:26.364Z"
   },
   {
    "duration": 34,
    "start_time": "2023-02-27T07:40:26.373Z"
   },
   {
    "duration": 19,
    "start_time": "2023-02-27T07:40:26.410Z"
   },
   {
    "duration": 20,
    "start_time": "2023-02-27T07:40:26.431Z"
   },
   {
    "duration": 62,
    "start_time": "2023-02-27T07:40:26.455Z"
   },
   {
    "duration": 281,
    "start_time": "2023-02-27T07:40:26.519Z"
   },
   {
    "duration": 180,
    "start_time": "2023-02-27T07:40:26.802Z"
   },
   {
    "duration": 26,
    "start_time": "2023-02-27T07:40:26.986Z"
   },
   {
    "duration": 9,
    "start_time": "2023-02-27T07:40:27.014Z"
   },
   {
    "duration": 129,
    "start_time": "2023-02-27T08:23:21.240Z"
   },
   {
    "duration": 5,
    "start_time": "2023-02-27T08:23:26.065Z"
   },
   {
    "duration": 5,
    "start_time": "2023-02-27T08:23:53.965Z"
   },
   {
    "duration": 7,
    "start_time": "2023-02-27T08:25:28.200Z"
   },
   {
    "duration": 5,
    "start_time": "2023-02-27T08:27:54.600Z"
   },
   {
    "duration": 16,
    "start_time": "2023-02-27T08:28:16.980Z"
   },
   {
    "duration": 10,
    "start_time": "2023-02-27T08:28:37.262Z"
   },
   {
    "duration": 8,
    "start_time": "2023-02-27T08:28:49.180Z"
   },
   {
    "duration": 4,
    "start_time": "2023-02-27T08:29:38.240Z"
   },
   {
    "duration": 4,
    "start_time": "2023-02-27T08:30:15.580Z"
   },
   {
    "duration": 5,
    "start_time": "2023-02-27T08:31:55.239Z"
   },
   {
    "duration": 1199,
    "start_time": "2023-02-27T08:32:22.540Z"
   },
   {
    "duration": 56,
    "start_time": "2023-02-27T08:32:23.742Z"
   },
   {
    "duration": 12,
    "start_time": "2023-02-27T08:32:23.800Z"
   },
   {
    "duration": 50,
    "start_time": "2023-02-27T08:32:23.814Z"
   },
   {
    "duration": 80,
    "start_time": "2023-02-27T08:32:23.866Z"
   },
   {
    "duration": 34,
    "start_time": "2023-02-27T08:32:23.948Z"
   },
   {
    "duration": 31,
    "start_time": "2023-02-27T08:32:23.984Z"
   },
   {
    "duration": 58,
    "start_time": "2023-02-27T08:32:24.017Z"
   },
   {
    "duration": 61,
    "start_time": "2023-02-27T08:32:24.077Z"
   },
   {
    "duration": 33,
    "start_time": "2023-02-27T08:32:24.140Z"
   },
   {
    "duration": 18,
    "start_time": "2023-02-27T08:32:24.175Z"
   },
   {
    "duration": 48,
    "start_time": "2023-02-27T08:32:24.195Z"
   },
   {
    "duration": 29,
    "start_time": "2023-02-27T08:32:24.246Z"
   },
   {
    "duration": 33,
    "start_time": "2023-02-27T08:32:24.278Z"
   },
   {
    "duration": 28,
    "start_time": "2023-02-27T08:32:24.313Z"
   },
   {
    "duration": 22,
    "start_time": "2023-02-27T08:32:24.342Z"
   },
   {
    "duration": 35,
    "start_time": "2023-02-27T08:32:24.366Z"
   },
   {
    "duration": 97,
    "start_time": "2023-02-27T08:32:24.403Z"
   },
   {
    "duration": 0,
    "start_time": "2023-02-27T08:32:24.501Z"
   },
   {
    "duration": 0,
    "start_time": "2023-02-27T08:32:24.503Z"
   },
   {
    "duration": 0,
    "start_time": "2023-02-27T08:32:24.506Z"
   },
   {
    "duration": 1,
    "start_time": "2023-02-27T08:32:24.507Z"
   },
   {
    "duration": 0,
    "start_time": "2023-02-27T08:32:24.509Z"
   },
   {
    "duration": 0,
    "start_time": "2023-02-27T08:32:24.510Z"
   },
   {
    "duration": 0,
    "start_time": "2023-02-27T08:32:24.512Z"
   },
   {
    "duration": 0,
    "start_time": "2023-02-27T08:32:24.514Z"
   },
   {
    "duration": 0,
    "start_time": "2023-02-27T08:32:24.515Z"
   },
   {
    "duration": 0,
    "start_time": "2023-02-27T08:32:24.516Z"
   },
   {
    "duration": 0,
    "start_time": "2023-02-27T08:32:24.520Z"
   },
   {
    "duration": 0,
    "start_time": "2023-02-27T08:32:24.521Z"
   },
   {
    "duration": 0,
    "start_time": "2023-02-27T08:32:24.523Z"
   },
   {
    "duration": 0,
    "start_time": "2023-02-27T08:32:24.525Z"
   },
   {
    "duration": 0,
    "start_time": "2023-02-27T08:32:24.526Z"
   },
   {
    "duration": 0,
    "start_time": "2023-02-27T08:32:24.528Z"
   },
   {
    "duration": 0,
    "start_time": "2023-02-27T08:32:24.530Z"
   },
   {
    "duration": 0,
    "start_time": "2023-02-27T08:32:24.531Z"
   },
   {
    "duration": 0,
    "start_time": "2023-02-27T08:32:24.533Z"
   },
   {
    "duration": 0,
    "start_time": "2023-02-27T08:32:24.535Z"
   },
   {
    "duration": 0,
    "start_time": "2023-02-27T08:32:24.536Z"
   },
   {
    "duration": 0,
    "start_time": "2023-02-27T08:32:24.538Z"
   },
   {
    "duration": 0,
    "start_time": "2023-02-27T08:32:24.550Z"
   },
   {
    "duration": 4,
    "start_time": "2023-02-27T08:32:48.200Z"
   },
   {
    "duration": 9,
    "start_time": "2023-02-27T08:32:51.545Z"
   },
   {
    "duration": 11,
    "start_time": "2023-02-27T08:32:52.001Z"
   },
   {
    "duration": 109,
    "start_time": "2023-02-27T08:36:25.938Z"
   },
   {
    "duration": 303,
    "start_time": "2023-02-27T08:37:38.298Z"
   },
   {
    "duration": 329,
    "start_time": "2023-02-27T08:37:39.664Z"
   },
   {
    "duration": 19,
    "start_time": "2023-02-27T08:44:55.078Z"
   },
   {
    "duration": 9,
    "start_time": "2023-02-27T08:45:12.868Z"
   },
   {
    "duration": 14,
    "start_time": "2023-02-27T08:45:44.587Z"
   },
   {
    "duration": 344,
    "start_time": "2023-02-27T08:46:25.024Z"
   },
   {
    "duration": 241,
    "start_time": "2023-02-27T08:50:01.577Z"
   },
   {
    "duration": 12,
    "start_time": "2023-02-27T08:51:25.518Z"
   },
   {
    "duration": 397,
    "start_time": "2023-02-27T08:52:42.494Z"
   },
   {
    "duration": 448,
    "start_time": "2023-02-27T08:53:32.066Z"
   },
   {
    "duration": 342,
    "start_time": "2023-02-27T08:53:57.585Z"
   },
   {
    "duration": 301,
    "start_time": "2023-02-27T08:55:20.297Z"
   },
   {
    "duration": 11,
    "start_time": "2023-02-27T08:58:11.018Z"
   },
   {
    "duration": 327,
    "start_time": "2023-02-27T08:58:47.098Z"
   },
   {
    "duration": 251,
    "start_time": "2023-02-27T08:59:23.877Z"
   },
   {
    "duration": 286,
    "start_time": "2023-02-27T09:01:31.305Z"
   },
   {
    "duration": 286,
    "start_time": "2023-02-27T09:02:08.270Z"
   },
   {
    "duration": 263,
    "start_time": "2023-02-27T09:02:39.738Z"
   },
   {
    "duration": 292,
    "start_time": "2023-02-27T09:03:01.796Z"
   },
   {
    "duration": 256,
    "start_time": "2023-02-27T09:03:22.177Z"
   },
   {
    "duration": 240,
    "start_time": "2023-02-27T09:03:53.481Z"
   },
   {
    "duration": 228,
    "start_time": "2023-02-27T09:04:39.970Z"
   },
   {
    "duration": 262,
    "start_time": "2023-02-27T09:05:09.797Z"
   },
   {
    "duration": 240,
    "start_time": "2023-02-27T09:05:34.465Z"
   },
   {
    "duration": 10,
    "start_time": "2023-02-27T09:08:34.388Z"
   },
   {
    "duration": 15,
    "start_time": "2023-02-27T09:08:37.809Z"
   },
   {
    "duration": 399,
    "start_time": "2023-02-27T09:08:38.909Z"
   },
   {
    "duration": 330,
    "start_time": "2023-02-27T09:11:35.070Z"
   },
   {
    "duration": 6,
    "start_time": "2023-02-27T09:12:21.018Z"
   },
   {
    "duration": 332,
    "start_time": "2023-02-27T09:12:36.472Z"
   },
   {
    "duration": 373,
    "start_time": "2023-02-27T09:13:20.929Z"
   },
   {
    "duration": 226,
    "start_time": "2023-02-27T09:13:58.985Z"
   },
   {
    "duration": 249,
    "start_time": "2023-02-27T09:14:12.097Z"
   },
   {
    "duration": 1258,
    "start_time": "2023-02-27T09:17:16.163Z"
   },
   {
    "duration": 44,
    "start_time": "2023-02-27T09:17:17.423Z"
   },
   {
    "duration": 12,
    "start_time": "2023-02-27T09:17:17.469Z"
   },
   {
    "duration": 11,
    "start_time": "2023-02-27T09:17:17.483Z"
   },
   {
    "duration": 50,
    "start_time": "2023-02-27T09:17:17.495Z"
   },
   {
    "duration": 23,
    "start_time": "2023-02-27T09:17:17.547Z"
   },
   {
    "duration": 19,
    "start_time": "2023-02-27T09:17:17.571Z"
   },
   {
    "duration": 3,
    "start_time": "2023-02-27T09:17:17.591Z"
   },
   {
    "duration": 6,
    "start_time": "2023-02-27T09:17:17.596Z"
   },
   {
    "duration": 6,
    "start_time": "2023-02-27T09:17:17.605Z"
   },
   {
    "duration": 10,
    "start_time": "2023-02-27T09:17:17.613Z"
   },
   {
    "duration": 29,
    "start_time": "2023-02-27T09:17:17.625Z"
   },
   {
    "duration": 12,
    "start_time": "2023-02-27T09:17:17.655Z"
   },
   {
    "duration": 13,
    "start_time": "2023-02-27T09:17:17.669Z"
   },
   {
    "duration": 9,
    "start_time": "2023-02-27T09:17:17.684Z"
   },
   {
    "duration": 8,
    "start_time": "2023-02-27T09:17:17.694Z"
   },
   {
    "duration": 5,
    "start_time": "2023-02-27T09:17:17.704Z"
   },
   {
    "duration": 139,
    "start_time": "2023-02-27T09:17:17.711Z"
   },
   {
    "duration": 0,
    "start_time": "2023-02-27T09:17:17.856Z"
   },
   {
    "duration": 0,
    "start_time": "2023-02-27T09:17:17.857Z"
   },
   {
    "duration": 0,
    "start_time": "2023-02-27T09:17:17.858Z"
   },
   {
    "duration": 0,
    "start_time": "2023-02-27T09:17:17.859Z"
   },
   {
    "duration": 0,
    "start_time": "2023-02-27T09:17:17.860Z"
   },
   {
    "duration": 0,
    "start_time": "2023-02-27T09:17:17.861Z"
   },
   {
    "duration": 0,
    "start_time": "2023-02-27T09:17:17.862Z"
   },
   {
    "duration": 0,
    "start_time": "2023-02-27T09:17:17.863Z"
   },
   {
    "duration": 0,
    "start_time": "2023-02-27T09:17:17.864Z"
   },
   {
    "duration": 0,
    "start_time": "2023-02-27T09:17:17.866Z"
   },
   {
    "duration": 0,
    "start_time": "2023-02-27T09:17:17.867Z"
   },
   {
    "duration": 0,
    "start_time": "2023-02-27T09:17:17.869Z"
   },
   {
    "duration": 0,
    "start_time": "2023-02-27T09:17:17.869Z"
   },
   {
    "duration": 0,
    "start_time": "2023-02-27T09:17:17.871Z"
   },
   {
    "duration": 0,
    "start_time": "2023-02-27T09:17:17.872Z"
   },
   {
    "duration": 0,
    "start_time": "2023-02-27T09:17:17.873Z"
   },
   {
    "duration": 0,
    "start_time": "2023-02-27T09:17:17.873Z"
   },
   {
    "duration": 0,
    "start_time": "2023-02-27T09:17:17.874Z"
   },
   {
    "duration": 0,
    "start_time": "2023-02-27T09:17:17.876Z"
   },
   {
    "duration": 0,
    "start_time": "2023-02-27T09:17:17.877Z"
   },
   {
    "duration": 0,
    "start_time": "2023-02-27T09:17:17.878Z"
   },
   {
    "duration": 0,
    "start_time": "2023-02-27T09:17:17.879Z"
   },
   {
    "duration": 0,
    "start_time": "2023-02-27T09:17:17.880Z"
   },
   {
    "duration": 0,
    "start_time": "2023-02-27T09:17:17.882Z"
   },
   {
    "duration": 0,
    "start_time": "2023-02-27T09:17:17.883Z"
   },
   {
    "duration": 0,
    "start_time": "2023-02-27T09:17:17.884Z"
   },
   {
    "duration": 0,
    "start_time": "2023-02-27T09:17:17.885Z"
   },
   {
    "duration": 282,
    "start_time": "2023-02-27T09:17:39.017Z"
   },
   {
    "duration": 9,
    "start_time": "2023-02-27T09:17:41.736Z"
   },
   {
    "duration": 9,
    "start_time": "2023-02-27T09:17:42.196Z"
   },
   {
    "duration": 319,
    "start_time": "2023-02-27T09:17:42.958Z"
   },
   {
    "duration": 331,
    "start_time": "2023-02-27T09:17:49.096Z"
   },
   {
    "duration": 12,
    "start_time": "2023-02-27T09:17:59.229Z"
   },
   {
    "duration": 433,
    "start_time": "2023-02-27T09:18:00.362Z"
   },
   {
    "duration": 11,
    "start_time": "2023-02-27T09:18:03.961Z"
   },
   {
    "duration": 120,
    "start_time": "2023-02-27T09:18:04.864Z"
   },
   {
    "duration": 1146,
    "start_time": "2023-02-27T09:19:12.557Z"
   },
   {
    "duration": 42,
    "start_time": "2023-02-27T09:19:13.705Z"
   },
   {
    "duration": 14,
    "start_time": "2023-02-27T09:19:13.752Z"
   },
   {
    "duration": 24,
    "start_time": "2023-02-27T09:19:13.769Z"
   },
   {
    "duration": 51,
    "start_time": "2023-02-27T09:19:13.795Z"
   },
   {
    "duration": 26,
    "start_time": "2023-02-27T09:19:13.847Z"
   },
   {
    "duration": 18,
    "start_time": "2023-02-27T09:19:13.875Z"
   },
   {
    "duration": 15,
    "start_time": "2023-02-27T09:19:13.895Z"
   },
   {
    "duration": 12,
    "start_time": "2023-02-27T09:19:13.912Z"
   },
   {
    "duration": 10,
    "start_time": "2023-02-27T09:19:13.926Z"
   },
   {
    "duration": 11,
    "start_time": "2023-02-27T09:19:13.937Z"
   },
   {
    "duration": 18,
    "start_time": "2023-02-27T09:19:13.950Z"
   },
   {
    "duration": 10,
    "start_time": "2023-02-27T09:19:13.970Z"
   },
   {
    "duration": 14,
    "start_time": "2023-02-27T09:19:13.983Z"
   },
   {
    "duration": 9,
    "start_time": "2023-02-27T09:19:13.999Z"
   },
   {
    "duration": 6,
    "start_time": "2023-02-27T09:19:14.010Z"
   },
   {
    "duration": 8,
    "start_time": "2023-02-27T09:19:14.017Z"
   },
   {
    "duration": 28,
    "start_time": "2023-02-27T09:19:14.027Z"
   },
   {
    "duration": 11,
    "start_time": "2023-02-27T09:19:14.057Z"
   },
   {
    "duration": 11,
    "start_time": "2023-02-27T09:19:14.069Z"
   },
   {
    "duration": 306,
    "start_time": "2023-02-27T09:19:14.082Z"
   },
   {
    "duration": 9,
    "start_time": "2023-02-27T09:19:14.389Z"
   },
   {
    "duration": 11,
    "start_time": "2023-02-27T09:19:14.400Z"
   },
   {
    "duration": 296,
    "start_time": "2023-02-27T09:19:14.412Z"
   },
   {
    "duration": 217,
    "start_time": "2023-02-27T09:19:14.709Z"
   },
   {
    "duration": 11,
    "start_time": "2023-02-27T09:19:14.928Z"
   },
   {
    "duration": 334,
    "start_time": "2023-02-27T09:19:14.949Z"
   },
   {
    "duration": 12,
    "start_time": "2023-02-27T09:19:15.284Z"
   },
   {
    "duration": 111,
    "start_time": "2023-02-27T09:19:15.298Z"
   },
   {
    "duration": 0,
    "start_time": "2023-02-27T09:19:15.412Z"
   },
   {
    "duration": 0,
    "start_time": "2023-02-27T09:19:15.413Z"
   },
   {
    "duration": 0,
    "start_time": "2023-02-27T09:19:15.414Z"
   },
   {
    "duration": 0,
    "start_time": "2023-02-27T09:19:15.415Z"
   },
   {
    "duration": 0,
    "start_time": "2023-02-27T09:19:15.416Z"
   },
   {
    "duration": 0,
    "start_time": "2023-02-27T09:19:15.417Z"
   },
   {
    "duration": 0,
    "start_time": "2023-02-27T09:19:15.418Z"
   },
   {
    "duration": 0,
    "start_time": "2023-02-27T09:19:15.420Z"
   },
   {
    "duration": 0,
    "start_time": "2023-02-27T09:19:15.421Z"
   },
   {
    "duration": 0,
    "start_time": "2023-02-27T09:19:15.422Z"
   },
   {
    "duration": 0,
    "start_time": "2023-02-27T09:19:15.423Z"
   },
   {
    "duration": 0,
    "start_time": "2023-02-27T09:19:15.424Z"
   },
   {
    "duration": 1,
    "start_time": "2023-02-27T09:19:15.425Z"
   },
   {
    "duration": 0,
    "start_time": "2023-02-27T09:19:15.426Z"
   },
   {
    "duration": 0,
    "start_time": "2023-02-27T09:19:15.427Z"
   },
   {
    "duration": 0,
    "start_time": "2023-02-27T09:19:15.428Z"
   },
   {
    "duration": 222,
    "start_time": "2023-02-27T09:19:33.877Z"
   },
   {
    "duration": 1184,
    "start_time": "2023-02-27T09:19:48.738Z"
   },
   {
    "duration": 44,
    "start_time": "2023-02-27T09:19:49.924Z"
   },
   {
    "duration": 12,
    "start_time": "2023-02-27T09:19:49.970Z"
   },
   {
    "duration": 12,
    "start_time": "2023-02-27T09:19:49.984Z"
   },
   {
    "duration": 48,
    "start_time": "2023-02-27T09:19:49.998Z"
   },
   {
    "duration": 34,
    "start_time": "2023-02-27T09:19:50.048Z"
   },
   {
    "duration": 18,
    "start_time": "2023-02-27T09:19:50.084Z"
   },
   {
    "duration": 18,
    "start_time": "2023-02-27T09:19:50.103Z"
   },
   {
    "duration": 20,
    "start_time": "2023-02-27T09:19:50.123Z"
   },
   {
    "duration": 28,
    "start_time": "2023-02-27T09:19:50.145Z"
   },
   {
    "duration": 15,
    "start_time": "2023-02-27T09:19:50.174Z"
   },
   {
    "duration": 12,
    "start_time": "2023-02-27T09:19:50.190Z"
   },
   {
    "duration": 20,
    "start_time": "2023-02-27T09:19:50.204Z"
   },
   {
    "duration": 14,
    "start_time": "2023-02-27T09:19:50.227Z"
   },
   {
    "duration": 4,
    "start_time": "2023-02-27T09:19:50.242Z"
   },
   {
    "duration": 20,
    "start_time": "2023-02-27T09:19:50.248Z"
   },
   {
    "duration": 13,
    "start_time": "2023-02-27T09:19:50.270Z"
   },
   {
    "duration": 7,
    "start_time": "2023-02-27T09:19:50.285Z"
   },
   {
    "duration": 19,
    "start_time": "2023-02-27T09:19:50.294Z"
   },
   {
    "duration": 9,
    "start_time": "2023-02-27T09:19:50.315Z"
   },
   {
    "duration": 320,
    "start_time": "2023-02-27T09:19:50.326Z"
   },
   {
    "duration": 19,
    "start_time": "2023-02-27T09:19:50.648Z"
   },
   {
    "duration": 32,
    "start_time": "2023-02-27T09:19:50.669Z"
   },
   {
    "duration": 312,
    "start_time": "2023-02-27T09:19:50.702Z"
   },
   {
    "duration": 250,
    "start_time": "2023-02-27T09:19:51.017Z"
   },
   {
    "duration": 11,
    "start_time": "2023-02-27T09:19:51.269Z"
   },
   {
    "duration": 320,
    "start_time": "2023-02-27T09:19:51.282Z"
   },
   {
    "duration": 13,
    "start_time": "2023-02-27T09:19:51.604Z"
   },
   {
    "duration": 98,
    "start_time": "2023-02-27T09:19:51.619Z"
   },
   {
    "duration": 0,
    "start_time": "2023-02-27T09:19:51.719Z"
   },
   {
    "duration": 0,
    "start_time": "2023-02-27T09:19:51.720Z"
   },
   {
    "duration": 0,
    "start_time": "2023-02-27T09:19:51.722Z"
   },
   {
    "duration": 0,
    "start_time": "2023-02-27T09:19:51.723Z"
   },
   {
    "duration": 0,
    "start_time": "2023-02-27T09:19:51.725Z"
   },
   {
    "duration": 0,
    "start_time": "2023-02-27T09:19:51.727Z"
   },
   {
    "duration": 0,
    "start_time": "2023-02-27T09:19:51.728Z"
   },
   {
    "duration": 0,
    "start_time": "2023-02-27T09:19:51.730Z"
   },
   {
    "duration": 0,
    "start_time": "2023-02-27T09:19:51.732Z"
   },
   {
    "duration": 0,
    "start_time": "2023-02-27T09:19:51.734Z"
   },
   {
    "duration": 0,
    "start_time": "2023-02-27T09:19:51.736Z"
   },
   {
    "duration": 0,
    "start_time": "2023-02-27T09:19:51.738Z"
   },
   {
    "duration": 0,
    "start_time": "2023-02-27T09:19:51.740Z"
   },
   {
    "duration": 0,
    "start_time": "2023-02-27T09:19:51.741Z"
   },
   {
    "duration": 0,
    "start_time": "2023-02-27T09:19:51.743Z"
   },
   {
    "duration": 0,
    "start_time": "2023-02-27T09:19:51.744Z"
   },
   {
    "duration": 1150,
    "start_time": "2023-02-27T09:20:10.963Z"
   },
   {
    "duration": 46,
    "start_time": "2023-02-27T09:20:12.116Z"
   },
   {
    "duration": 11,
    "start_time": "2023-02-27T09:20:12.164Z"
   },
   {
    "duration": 13,
    "start_time": "2023-02-27T09:20:12.177Z"
   },
   {
    "duration": 47,
    "start_time": "2023-02-27T09:20:12.192Z"
   },
   {
    "duration": 29,
    "start_time": "2023-02-27T09:20:12.240Z"
   },
   {
    "duration": 19,
    "start_time": "2023-02-27T09:20:12.271Z"
   },
   {
    "duration": 5,
    "start_time": "2023-02-27T09:20:12.291Z"
   },
   {
    "duration": 5,
    "start_time": "2023-02-27T09:20:12.298Z"
   },
   {
    "duration": 6,
    "start_time": "2023-02-27T09:20:12.304Z"
   },
   {
    "duration": 10,
    "start_time": "2023-02-27T09:20:12.312Z"
   },
   {
    "duration": 8,
    "start_time": "2023-02-27T09:20:12.323Z"
   },
   {
    "duration": 29,
    "start_time": "2023-02-27T09:20:12.332Z"
   },
   {
    "duration": 13,
    "start_time": "2023-02-27T09:20:12.364Z"
   },
   {
    "duration": 4,
    "start_time": "2023-02-27T09:20:12.379Z"
   },
   {
    "duration": 7,
    "start_time": "2023-02-27T09:20:12.385Z"
   },
   {
    "duration": 7,
    "start_time": "2023-02-27T09:20:12.394Z"
   },
   {
    "duration": 8,
    "start_time": "2023-02-27T09:20:12.402Z"
   },
   {
    "duration": 10,
    "start_time": "2023-02-27T09:20:12.411Z"
   },
   {
    "duration": 37,
    "start_time": "2023-02-27T09:20:12.423Z"
   },
   {
    "duration": 315,
    "start_time": "2023-02-27T09:20:12.462Z"
   },
   {
    "duration": 10,
    "start_time": "2023-02-27T09:20:12.779Z"
   },
   {
    "duration": 10,
    "start_time": "2023-02-27T09:20:12.791Z"
   },
   {
    "duration": 327,
    "start_time": "2023-02-27T09:20:12.802Z"
   },
   {
    "duration": 263,
    "start_time": "2023-02-27T09:20:13.130Z"
   },
   {
    "duration": 14,
    "start_time": "2023-02-27T09:20:13.395Z"
   },
   {
    "duration": 387,
    "start_time": "2023-02-27T09:20:13.411Z"
   },
   {
    "duration": 14,
    "start_time": "2023-02-27T09:20:13.800Z"
   },
   {
    "duration": 88,
    "start_time": "2023-02-27T09:20:13.816Z"
   },
   {
    "duration": 0,
    "start_time": "2023-02-27T09:20:13.906Z"
   },
   {
    "duration": 0,
    "start_time": "2023-02-27T09:20:13.907Z"
   },
   {
    "duration": 0,
    "start_time": "2023-02-27T09:20:13.908Z"
   },
   {
    "duration": 0,
    "start_time": "2023-02-27T09:20:13.910Z"
   },
   {
    "duration": 0,
    "start_time": "2023-02-27T09:20:13.911Z"
   },
   {
    "duration": 0,
    "start_time": "2023-02-27T09:20:13.912Z"
   },
   {
    "duration": 0,
    "start_time": "2023-02-27T09:20:13.914Z"
   },
   {
    "duration": 0,
    "start_time": "2023-02-27T09:20:13.915Z"
   },
   {
    "duration": 0,
    "start_time": "2023-02-27T09:20:13.916Z"
   },
   {
    "duration": 0,
    "start_time": "2023-02-27T09:20:13.917Z"
   },
   {
    "duration": 0,
    "start_time": "2023-02-27T09:20:13.918Z"
   },
   {
    "duration": 0,
    "start_time": "2023-02-27T09:20:13.920Z"
   },
   {
    "duration": 0,
    "start_time": "2023-02-27T09:20:13.922Z"
   },
   {
    "duration": 0,
    "start_time": "2023-02-27T09:20:13.923Z"
   },
   {
    "duration": 0,
    "start_time": "2023-02-27T09:20:13.924Z"
   },
   {
    "duration": 0,
    "start_time": "2023-02-27T09:20:13.926Z"
   },
   {
    "duration": 146,
    "start_time": "2023-02-27T09:21:19.869Z"
   },
   {
    "duration": 75,
    "start_time": "2023-02-27T09:21:26.964Z"
   },
   {
    "duration": 275,
    "start_time": "2023-02-27T09:21:32.228Z"
   },
   {
    "duration": 94,
    "start_time": "2023-02-27T09:21:39.308Z"
   },
   {
    "duration": 85,
    "start_time": "2023-02-27T09:21:50.079Z"
   },
   {
    "duration": 382,
    "start_time": "2023-02-27T09:21:57.428Z"
   },
   {
    "duration": 1141,
    "start_time": "2023-02-27T09:22:21.772Z"
   },
   {
    "duration": 43,
    "start_time": "2023-02-27T09:22:22.915Z"
   },
   {
    "duration": 12,
    "start_time": "2023-02-27T09:22:22.960Z"
   },
   {
    "duration": 10,
    "start_time": "2023-02-27T09:22:22.973Z"
   },
   {
    "duration": 46,
    "start_time": "2023-02-27T09:22:22.984Z"
   },
   {
    "duration": 32,
    "start_time": "2023-02-27T09:22:23.031Z"
   },
   {
    "duration": 18,
    "start_time": "2023-02-27T09:22:23.065Z"
   },
   {
    "duration": 9,
    "start_time": "2023-02-27T09:22:23.085Z"
   },
   {
    "duration": 9,
    "start_time": "2023-02-27T09:22:23.096Z"
   },
   {
    "duration": 11,
    "start_time": "2023-02-27T09:22:23.107Z"
   },
   {
    "duration": 12,
    "start_time": "2023-02-27T09:22:23.119Z"
   },
   {
    "duration": 18,
    "start_time": "2023-02-27T09:22:23.133Z"
   },
   {
    "duration": 23,
    "start_time": "2023-02-27T09:22:23.152Z"
   },
   {
    "duration": 27,
    "start_time": "2023-02-27T09:22:23.178Z"
   },
   {
    "duration": 19,
    "start_time": "2023-02-27T09:22:23.206Z"
   },
   {
    "duration": 8,
    "start_time": "2023-02-27T09:22:23.227Z"
   },
   {
    "duration": 6,
    "start_time": "2023-02-27T09:22:23.237Z"
   },
   {
    "duration": 29,
    "start_time": "2023-02-27T09:22:23.244Z"
   },
   {
    "duration": 11,
    "start_time": "2023-02-27T09:22:23.275Z"
   },
   {
    "duration": 17,
    "start_time": "2023-02-27T09:22:23.288Z"
   },
   {
    "duration": 355,
    "start_time": "2023-02-27T09:22:23.307Z"
   },
   {
    "duration": 11,
    "start_time": "2023-02-27T09:22:23.664Z"
   },
   {
    "duration": 17,
    "start_time": "2023-02-27T09:22:23.677Z"
   },
   {
    "duration": 350,
    "start_time": "2023-02-27T09:22:23.696Z"
   },
   {
    "duration": 250,
    "start_time": "2023-02-27T09:22:24.048Z"
   },
   {
    "duration": 11,
    "start_time": "2023-02-27T09:22:24.300Z"
   },
   {
    "duration": 372,
    "start_time": "2023-02-27T09:22:24.313Z"
   },
   {
    "duration": 11,
    "start_time": "2023-02-27T09:22:24.687Z"
   },
   {
    "duration": 388,
    "start_time": "2023-02-27T09:22:24.700Z"
   },
   {
    "duration": 15,
    "start_time": "2023-02-27T09:22:25.090Z"
   },
   {
    "duration": 387,
    "start_time": "2023-02-27T09:22:25.107Z"
   },
   {
    "duration": 11,
    "start_time": "2023-02-27T09:22:25.496Z"
   },
   {
    "duration": 176,
    "start_time": "2023-02-27T09:22:25.509Z"
   },
   {
    "duration": 4,
    "start_time": "2023-02-27T09:22:25.687Z"
   },
   {
    "duration": 31,
    "start_time": "2023-02-27T09:22:25.692Z"
   },
   {
    "duration": 187,
    "start_time": "2023-02-27T09:22:25.725Z"
   },
   {
    "duration": 6,
    "start_time": "2023-02-27T09:22:25.914Z"
   },
   {
    "duration": 44,
    "start_time": "2023-02-27T09:22:25.921Z"
   },
   {
    "duration": 17,
    "start_time": "2023-02-27T09:22:25.966Z"
   },
   {
    "duration": 13,
    "start_time": "2023-02-27T09:22:25.985Z"
   },
   {
    "duration": 36,
    "start_time": "2023-02-27T09:22:26.001Z"
   },
   {
    "duration": 315,
    "start_time": "2023-02-27T09:22:26.038Z"
   },
   {
    "duration": 218,
    "start_time": "2023-02-27T09:22:26.355Z"
   },
   {
    "duration": 36,
    "start_time": "2023-02-27T09:22:26.575Z"
   },
   {
    "duration": 14,
    "start_time": "2023-02-27T09:22:26.613Z"
   },
   {
    "duration": 155,
    "start_time": "2023-02-27T09:23:25.468Z"
   },
   {
    "duration": 245,
    "start_time": "2023-02-27T09:23:33.274Z"
   },
   {
    "duration": 409,
    "start_time": "2023-02-27T09:23:47.628Z"
   },
   {
    "duration": 1246,
    "start_time": "2023-02-27T09:24:06.288Z"
   },
   {
    "duration": 60,
    "start_time": "2023-02-27T09:24:07.536Z"
   },
   {
    "duration": 11,
    "start_time": "2023-02-27T09:24:07.598Z"
   },
   {
    "duration": 11,
    "start_time": "2023-02-27T09:24:07.612Z"
   },
   {
    "duration": 59,
    "start_time": "2023-02-27T09:24:07.624Z"
   },
   {
    "duration": 19,
    "start_time": "2023-02-27T09:24:07.684Z"
   },
   {
    "duration": 17,
    "start_time": "2023-02-27T09:24:07.704Z"
   },
   {
    "duration": 6,
    "start_time": "2023-02-27T09:24:07.722Z"
   },
   {
    "duration": 9,
    "start_time": "2023-02-27T09:24:07.729Z"
   },
   {
    "duration": 9,
    "start_time": "2023-02-27T09:24:07.740Z"
   },
   {
    "duration": 36,
    "start_time": "2023-02-27T09:24:07.751Z"
   },
   {
    "duration": 10,
    "start_time": "2023-02-27T09:24:07.789Z"
   },
   {
    "duration": 10,
    "start_time": "2023-02-27T09:24:07.801Z"
   },
   {
    "duration": 18,
    "start_time": "2023-02-27T09:24:07.812Z"
   },
   {
    "duration": 4,
    "start_time": "2023-02-27T09:24:07.832Z"
   },
   {
    "duration": 8,
    "start_time": "2023-02-27T09:24:07.838Z"
   },
   {
    "duration": 33,
    "start_time": "2023-02-27T09:24:07.847Z"
   },
   {
    "duration": 12,
    "start_time": "2023-02-27T09:24:07.882Z"
   },
   {
    "duration": 18,
    "start_time": "2023-02-27T09:24:07.895Z"
   },
   {
    "duration": 13,
    "start_time": "2023-02-27T09:24:07.915Z"
   },
   {
    "duration": 336,
    "start_time": "2023-02-27T09:24:07.929Z"
   },
   {
    "duration": 13,
    "start_time": "2023-02-27T09:24:08.270Z"
   },
   {
    "duration": 32,
    "start_time": "2023-02-27T09:24:08.285Z"
   },
   {
    "duration": 312,
    "start_time": "2023-02-27T09:24:08.319Z"
   },
   {
    "duration": 245,
    "start_time": "2023-02-27T09:24:08.633Z"
   },
   {
    "duration": 13,
    "start_time": "2023-02-27T09:24:08.879Z"
   },
   {
    "duration": 306,
    "start_time": "2023-02-27T09:24:08.893Z"
   },
   {
    "duration": 12,
    "start_time": "2023-02-27T09:24:09.204Z"
   },
   {
    "duration": 405,
    "start_time": "2023-02-27T09:24:09.217Z"
   },
   {
    "duration": 14,
    "start_time": "2023-02-27T09:24:09.624Z"
   },
   {
    "duration": 361,
    "start_time": "2023-02-27T09:24:09.648Z"
   },
   {
    "duration": 13,
    "start_time": "2023-02-27T09:24:10.011Z"
   },
   {
    "duration": 165,
    "start_time": "2023-02-27T09:24:10.025Z"
   },
   {
    "duration": 4,
    "start_time": "2023-02-27T09:24:10.192Z"
   },
   {
    "duration": 16,
    "start_time": "2023-02-27T09:24:10.198Z"
   },
   {
    "duration": 376,
    "start_time": "2023-02-27T09:24:10.217Z"
   },
   {
    "duration": 53,
    "start_time": "2023-02-27T09:24:10.595Z"
   },
   {
    "duration": 37,
    "start_time": "2023-02-27T09:24:10.650Z"
   },
   {
    "duration": 7,
    "start_time": "2023-02-27T09:24:10.689Z"
   },
   {
    "duration": 7,
    "start_time": "2023-02-27T09:24:10.697Z"
   },
   {
    "duration": 47,
    "start_time": "2023-02-27T09:24:10.706Z"
   },
   {
    "duration": 732,
    "start_time": "2023-02-27T09:24:10.755Z"
   },
   {
    "duration": 465,
    "start_time": "2023-02-27T09:24:11.489Z"
   },
   {
    "duration": 37,
    "start_time": "2023-02-27T09:24:11.957Z"
   },
   {
    "duration": 66,
    "start_time": "2023-02-27T09:24:11.996Z"
   },
   {
    "duration": 1249,
    "start_time": "2023-02-27T09:25:05.876Z"
   },
   {
    "duration": 49,
    "start_time": "2023-02-27T09:25:07.127Z"
   },
   {
    "duration": 11,
    "start_time": "2023-02-27T09:25:07.178Z"
   },
   {
    "duration": 16,
    "start_time": "2023-02-27T09:25:07.190Z"
   },
   {
    "duration": 68,
    "start_time": "2023-02-27T09:25:07.209Z"
   },
   {
    "duration": 20,
    "start_time": "2023-02-27T09:25:07.279Z"
   },
   {
    "duration": 18,
    "start_time": "2023-02-27T09:25:07.300Z"
   },
   {
    "duration": 10,
    "start_time": "2023-02-27T09:25:07.320Z"
   },
   {
    "duration": 5,
    "start_time": "2023-02-27T09:25:07.332Z"
   },
   {
    "duration": 8,
    "start_time": "2023-02-27T09:25:07.339Z"
   },
   {
    "duration": 35,
    "start_time": "2023-02-27T09:25:07.350Z"
   },
   {
    "duration": 13,
    "start_time": "2023-02-27T09:25:07.387Z"
   },
   {
    "duration": 9,
    "start_time": "2023-02-27T09:25:07.402Z"
   },
   {
    "duration": 25,
    "start_time": "2023-02-27T09:25:07.416Z"
   },
   {
    "duration": 42,
    "start_time": "2023-02-27T09:25:07.442Z"
   },
   {
    "duration": 6,
    "start_time": "2023-02-27T09:25:07.485Z"
   },
   {
    "duration": 19,
    "start_time": "2023-02-27T09:25:07.493Z"
   },
   {
    "duration": 8,
    "start_time": "2023-02-27T09:25:07.513Z"
   },
   {
    "duration": 21,
    "start_time": "2023-02-27T09:25:07.522Z"
   },
   {
    "duration": 38,
    "start_time": "2023-02-27T09:25:07.544Z"
   },
   {
    "duration": 316,
    "start_time": "2023-02-27T09:25:07.584Z"
   },
   {
    "duration": 9,
    "start_time": "2023-02-27T09:25:07.901Z"
   },
   {
    "duration": 8,
    "start_time": "2023-02-27T09:25:07.912Z"
   },
   {
    "duration": 364,
    "start_time": "2023-02-27T09:25:07.922Z"
   },
   {
    "duration": 251,
    "start_time": "2023-02-27T09:25:08.288Z"
   },
   {
    "duration": 25,
    "start_time": "2023-02-27T09:25:08.540Z"
   },
   {
    "duration": 331,
    "start_time": "2023-02-27T09:25:08.567Z"
   },
   {
    "duration": 11,
    "start_time": "2023-02-27T09:25:08.900Z"
   },
   {
    "duration": 403,
    "start_time": "2023-02-27T09:25:08.913Z"
   },
   {
    "duration": 16,
    "start_time": "2023-02-27T09:25:09.318Z"
   },
   {
    "duration": 380,
    "start_time": "2023-02-27T09:25:09.336Z"
   },
   {
    "duration": 12,
    "start_time": "2023-02-27T09:25:09.718Z"
   },
   {
    "duration": 180,
    "start_time": "2023-02-27T09:25:09.731Z"
   },
   {
    "duration": 5,
    "start_time": "2023-02-27T09:25:09.913Z"
   },
   {
    "duration": 12,
    "start_time": "2023-02-27T09:25:09.919Z"
   },
   {
    "duration": 208,
    "start_time": "2023-02-27T09:25:09.932Z"
   },
   {
    "duration": 7,
    "start_time": "2023-02-27T09:25:10.142Z"
   },
   {
    "duration": 35,
    "start_time": "2023-02-27T09:25:10.155Z"
   },
   {
    "duration": 6,
    "start_time": "2023-02-27T09:25:10.192Z"
   },
   {
    "duration": 20,
    "start_time": "2023-02-27T09:25:10.199Z"
   },
   {
    "duration": 13,
    "start_time": "2023-02-27T09:25:10.224Z"
   },
   {
    "duration": 334,
    "start_time": "2023-02-27T09:25:10.238Z"
   },
   {
    "duration": 161,
    "start_time": "2023-02-27T09:25:10.574Z"
   },
   {
    "duration": 46,
    "start_time": "2023-02-27T09:25:10.737Z"
   },
   {
    "duration": 10,
    "start_time": "2023-02-27T09:25:10.785Z"
   },
   {
    "duration": 1275,
    "start_time": "2023-02-27T09:25:58.208Z"
   },
   {
    "duration": 39,
    "start_time": "2023-02-27T09:25:59.487Z"
   },
   {
    "duration": 16,
    "start_time": "2023-02-27T09:25:59.528Z"
   },
   {
    "duration": 33,
    "start_time": "2023-02-27T09:25:59.546Z"
   },
   {
    "duration": 57,
    "start_time": "2023-02-27T09:25:59.582Z"
   },
   {
    "duration": 45,
    "start_time": "2023-02-27T09:25:59.641Z"
   },
   {
    "duration": 29,
    "start_time": "2023-02-27T09:25:59.688Z"
   },
   {
    "duration": 8,
    "start_time": "2023-02-27T09:25:59.719Z"
   },
   {
    "duration": 10,
    "start_time": "2023-02-27T09:25:59.729Z"
   },
   {
    "duration": 11,
    "start_time": "2023-02-27T09:25:59.741Z"
   },
   {
    "duration": 41,
    "start_time": "2023-02-27T09:25:59.754Z"
   },
   {
    "duration": 10,
    "start_time": "2023-02-27T09:25:59.797Z"
   },
   {
    "duration": 16,
    "start_time": "2023-02-27T09:25:59.809Z"
   },
   {
    "duration": 28,
    "start_time": "2023-02-27T09:25:59.833Z"
   },
   {
    "duration": 36,
    "start_time": "2023-02-27T09:25:59.863Z"
   },
   {
    "duration": 6,
    "start_time": "2023-02-27T09:25:59.901Z"
   },
   {
    "duration": 7,
    "start_time": "2023-02-27T09:25:59.909Z"
   },
   {
    "duration": 8,
    "start_time": "2023-02-27T09:25:59.918Z"
   },
   {
    "duration": 14,
    "start_time": "2023-02-27T09:25:59.929Z"
   },
   {
    "duration": 49,
    "start_time": "2023-02-27T09:25:59.945Z"
   },
   {
    "duration": 336,
    "start_time": "2023-02-27T09:25:59.996Z"
   },
   {
    "duration": 19,
    "start_time": "2023-02-27T09:26:00.334Z"
   },
   {
    "duration": 58,
    "start_time": "2023-02-27T09:26:00.355Z"
   },
   {
    "duration": 426,
    "start_time": "2023-02-27T09:26:00.414Z"
   },
   {
    "duration": 285,
    "start_time": "2023-02-27T09:26:00.841Z"
   },
   {
    "duration": 18,
    "start_time": "2023-02-27T09:26:01.128Z"
   },
   {
    "duration": 415,
    "start_time": "2023-02-27T09:26:01.148Z"
   },
   {
    "duration": 22,
    "start_time": "2023-02-27T09:26:01.567Z"
   },
   {
    "duration": 326,
    "start_time": "2023-02-27T09:26:01.591Z"
   },
   {
    "duration": 16,
    "start_time": "2023-02-27T09:26:01.918Z"
   },
   {
    "duration": 390,
    "start_time": "2023-02-27T09:26:01.951Z"
   },
   {
    "duration": 29,
    "start_time": "2023-02-27T09:26:02.351Z"
   },
   {
    "duration": 1201,
    "start_time": "2023-02-27T09:26:02.384Z"
   },
   {
    "duration": 7,
    "start_time": "2023-02-27T09:26:03.588Z"
   },
   {
    "duration": 65,
    "start_time": "2023-02-27T09:26:03.597Z"
   },
   {
    "duration": 630,
    "start_time": "2023-02-27T09:26:03.666Z"
   },
   {
    "duration": 6,
    "start_time": "2023-02-27T09:26:04.298Z"
   },
   {
    "duration": 86,
    "start_time": "2023-02-27T09:26:04.306Z"
   },
   {
    "duration": 11,
    "start_time": "2023-02-27T09:26:04.394Z"
   },
   {
    "duration": 10,
    "start_time": "2023-02-27T09:26:04.407Z"
   },
   {
    "duration": 20,
    "start_time": "2023-02-27T09:26:04.448Z"
   },
   {
    "duration": 642,
    "start_time": "2023-02-27T09:26:04.470Z"
   },
   {
    "duration": 230,
    "start_time": "2023-02-27T09:26:05.114Z"
   },
   {
    "duration": 49,
    "start_time": "2023-02-27T09:26:05.346Z"
   },
   {
    "duration": 19,
    "start_time": "2023-02-27T09:26:05.397Z"
   },
   {
    "duration": 1203,
    "start_time": "2023-02-27T09:29:44.166Z"
   },
   {
    "duration": 47,
    "start_time": "2023-02-27T09:29:45.372Z"
   },
   {
    "duration": 15,
    "start_time": "2023-02-27T09:29:45.420Z"
   },
   {
    "duration": 46,
    "start_time": "2023-02-27T09:29:45.438Z"
   },
   {
    "duration": 94,
    "start_time": "2023-02-27T09:29:45.486Z"
   },
   {
    "duration": 22,
    "start_time": "2023-02-27T09:29:45.582Z"
   },
   {
    "duration": 26,
    "start_time": "2023-02-27T09:29:45.606Z"
   },
   {
    "duration": 67,
    "start_time": "2023-02-27T09:29:45.634Z"
   },
   {
    "duration": 28,
    "start_time": "2023-02-27T09:29:45.702Z"
   },
   {
    "duration": 31,
    "start_time": "2023-02-27T09:29:45.733Z"
   },
   {
    "duration": 27,
    "start_time": "2023-02-27T09:29:45.766Z"
   },
   {
    "duration": 20,
    "start_time": "2023-02-27T09:29:45.795Z"
   },
   {
    "duration": 27,
    "start_time": "2023-02-27T09:29:45.817Z"
   },
   {
    "duration": 43,
    "start_time": "2023-02-27T09:29:45.845Z"
   },
   {
    "duration": 31,
    "start_time": "2023-02-27T09:29:45.890Z"
   },
   {
    "duration": 20,
    "start_time": "2023-02-27T09:29:45.923Z"
   },
   {
    "duration": 31,
    "start_time": "2023-02-27T09:29:45.945Z"
   },
   {
    "duration": 21,
    "start_time": "2023-02-27T09:29:45.978Z"
   },
   {
    "duration": 39,
    "start_time": "2023-02-27T09:29:46.001Z"
   },
   {
    "duration": 41,
    "start_time": "2023-02-27T09:29:46.042Z"
   },
   {
    "duration": 360,
    "start_time": "2023-02-27T09:29:46.085Z"
   },
   {
    "duration": 14,
    "start_time": "2023-02-27T09:29:46.451Z"
   },
   {
    "duration": 33,
    "start_time": "2023-02-27T09:29:46.473Z"
   },
   {
    "duration": 383,
    "start_time": "2023-02-27T09:29:46.508Z"
   },
   {
    "duration": 252,
    "start_time": "2023-02-27T09:29:46.893Z"
   },
   {
    "duration": 22,
    "start_time": "2023-02-27T09:29:47.147Z"
   },
   {
    "duration": 331,
    "start_time": "2023-02-27T09:29:47.171Z"
   },
   {
    "duration": 12,
    "start_time": "2023-02-27T09:29:47.505Z"
   },
   {
    "duration": 289,
    "start_time": "2023-02-27T09:29:47.518Z"
   },
   {
    "duration": 17,
    "start_time": "2023-02-27T09:29:47.809Z"
   },
   {
    "duration": 386,
    "start_time": "2023-02-27T09:29:47.828Z"
   },
   {
    "duration": 12,
    "start_time": "2023-02-27T09:29:48.217Z"
   },
   {
    "duration": 210,
    "start_time": "2023-02-27T09:29:48.231Z"
   },
   {
    "duration": 5,
    "start_time": "2023-02-27T09:29:48.443Z"
   },
   {
    "duration": 31,
    "start_time": "2023-02-27T09:29:48.449Z"
   },
   {
    "duration": 184,
    "start_time": "2023-02-27T09:29:48.482Z"
   },
   {
    "duration": 5,
    "start_time": "2023-02-27T09:29:48.669Z"
   },
   {
    "duration": 10,
    "start_time": "2023-02-27T09:29:48.677Z"
   },
   {
    "duration": 7,
    "start_time": "2023-02-27T09:29:48.689Z"
   },
   {
    "duration": 6,
    "start_time": "2023-02-27T09:29:48.698Z"
   },
   {
    "duration": 13,
    "start_time": "2023-02-27T09:29:48.706Z"
   },
   {
    "duration": 267,
    "start_time": "2023-02-27T09:29:48.720Z"
   },
   {
    "duration": 173,
    "start_time": "2023-02-27T09:29:48.988Z"
   },
   {
    "duration": 26,
    "start_time": "2023-02-27T09:29:49.164Z"
   },
   {
    "duration": 11,
    "start_time": "2023-02-27T09:29:49.192Z"
   },
   {
    "duration": 81,
    "start_time": "2023-02-27T09:30:35.808Z"
   },
   {
    "duration": 495,
    "start_time": "2023-02-27T09:30:46.277Z"
   },
   {
    "duration": 238,
    "start_time": "2023-02-27T09:31:02.788Z"
   },
   {
    "duration": 4,
    "start_time": "2023-02-27T09:31:39.573Z"
   },
   {
    "duration": 16,
    "start_time": "2023-02-27T09:31:42.862Z"
   },
   {
    "duration": 11,
    "start_time": "2023-02-27T09:51:03.173Z"
   },
   {
    "duration": 336,
    "start_time": "2023-02-27T09:52:16.207Z"
   },
   {
    "duration": 11,
    "start_time": "2023-02-27T09:55:20.534Z"
   },
   {
    "duration": 5,
    "start_time": "2023-02-27T09:55:43.029Z"
   },
   {
    "duration": 5,
    "start_time": "2023-02-27T09:56:59.227Z"
   },
   {
    "duration": 247,
    "start_time": "2023-02-27T09:58:24.184Z"
   },
   {
    "duration": 153,
    "start_time": "2023-02-27T09:58:27.862Z"
   },
   {
    "duration": 31,
    "start_time": "2023-02-27T09:58:30.027Z"
   },
   {
    "duration": 177,
    "start_time": "2023-02-27T09:59:21.627Z"
   },
   {
    "duration": 166,
    "start_time": "2023-02-27T09:59:49.866Z"
   },
   {
    "duration": 30,
    "start_time": "2023-02-27T09:59:51.726Z"
   },
   {
    "duration": 1214,
    "start_time": "2023-02-27T09:59:57.506Z"
   },
   {
    "duration": 55,
    "start_time": "2023-02-27T09:59:58.722Z"
   },
   {
    "duration": 12,
    "start_time": "2023-02-27T09:59:58.779Z"
   },
   {
    "duration": 11,
    "start_time": "2023-02-27T09:59:58.793Z"
   },
   {
    "duration": 51,
    "start_time": "2023-02-27T09:59:58.806Z"
   },
   {
    "duration": 31,
    "start_time": "2023-02-27T09:59:58.859Z"
   },
   {
    "duration": 18,
    "start_time": "2023-02-27T09:59:58.892Z"
   },
   {
    "duration": 15,
    "start_time": "2023-02-27T09:59:58.912Z"
   },
   {
    "duration": 47,
    "start_time": "2023-02-27T09:59:58.929Z"
   },
   {
    "duration": 7,
    "start_time": "2023-02-27T09:59:58.977Z"
   },
   {
    "duration": 9,
    "start_time": "2023-02-27T09:59:58.985Z"
   },
   {
    "duration": 8,
    "start_time": "2023-02-27T09:59:58.996Z"
   },
   {
    "duration": 12,
    "start_time": "2023-02-27T09:59:59.005Z"
   },
   {
    "duration": 15,
    "start_time": "2023-02-27T09:59:59.020Z"
   },
   {
    "duration": 5,
    "start_time": "2023-02-27T09:59:59.037Z"
   },
   {
    "duration": 13,
    "start_time": "2023-02-27T09:59:59.044Z"
   },
   {
    "duration": 16,
    "start_time": "2023-02-27T09:59:59.063Z"
   },
   {
    "duration": 6,
    "start_time": "2023-02-27T09:59:59.081Z"
   },
   {
    "duration": 15,
    "start_time": "2023-02-27T09:59:59.089Z"
   },
   {
    "duration": 14,
    "start_time": "2023-02-27T09:59:59.106Z"
   },
   {
    "duration": 396,
    "start_time": "2023-02-27T09:59:59.122Z"
   },
   {
    "duration": 10,
    "start_time": "2023-02-27T09:59:59.520Z"
   },
   {
    "duration": 37,
    "start_time": "2023-02-27T09:59:59.531Z"
   },
   {
    "duration": 340,
    "start_time": "2023-02-27T09:59:59.575Z"
   },
   {
    "duration": 262,
    "start_time": "2023-02-27T09:59:59.917Z"
   },
   {
    "duration": 12,
    "start_time": "2023-02-27T10:00:00.181Z"
   },
   {
    "duration": 372,
    "start_time": "2023-02-27T10:00:00.195Z"
   },
   {
    "duration": 18,
    "start_time": "2023-02-27T10:00:00.570Z"
   },
   {
    "duration": 345,
    "start_time": "2023-02-27T10:00:00.590Z"
   },
   {
    "duration": 19,
    "start_time": "2023-02-27T10:00:00.937Z"
   },
   {
    "duration": 374,
    "start_time": "2023-02-27T10:00:00.959Z"
   },
   {
    "duration": 24,
    "start_time": "2023-02-27T10:00:01.334Z"
   },
   {
    "duration": 208,
    "start_time": "2023-02-27T10:00:01.359Z"
   },
   {
    "duration": 5,
    "start_time": "2023-02-27T10:00:01.570Z"
   },
   {
    "duration": 107,
    "start_time": "2023-02-27T10:00:01.576Z"
   },
   {
    "duration": 218,
    "start_time": "2023-02-27T10:00:01.684Z"
   },
   {
    "duration": 5,
    "start_time": "2023-02-27T10:00:01.904Z"
   },
   {
    "duration": 34,
    "start_time": "2023-02-27T10:00:01.911Z"
   },
   {
    "duration": 66,
    "start_time": "2023-02-27T10:00:01.947Z"
   },
   {
    "duration": 307,
    "start_time": "2023-02-27T10:00:02.015Z"
   },
   {
    "duration": 160,
    "start_time": "2023-02-27T10:00:02.327Z"
   },
   {
    "duration": 31,
    "start_time": "2023-02-27T10:00:02.489Z"
   },
   {
    "duration": 37,
    "start_time": "2023-02-27T10:00:02.522Z"
   },
   {
    "duration": 7,
    "start_time": "2023-02-27T11:24:36.426Z"
   },
   {
    "duration": 128,
    "start_time": "2023-02-27T11:24:52.471Z"
   },
   {
    "duration": 5,
    "start_time": "2023-02-27T11:25:07.106Z"
   },
   {
    "duration": 1520,
    "start_time": "2023-02-27T11:30:17.671Z"
   },
   {
    "duration": 274,
    "start_time": "2023-02-27T11:31:03.575Z"
   },
   {
    "duration": 38,
    "start_time": "2023-02-27T11:31:04.625Z"
   },
   {
    "duration": 16,
    "start_time": "2023-02-27T11:31:07.180Z"
   },
   {
    "duration": 1275,
    "start_time": "2023-02-27T11:31:09.468Z"
   },
   {
    "duration": 11,
    "start_time": "2023-02-27T11:35:23.036Z"
   },
   {
    "duration": 1130,
    "start_time": "2023-02-27T11:36:42.005Z"
   },
   {
    "duration": 38,
    "start_time": "2023-02-27T11:36:43.138Z"
   },
   {
    "duration": 14,
    "start_time": "2023-02-27T11:36:43.178Z"
   },
   {
    "duration": 12,
    "start_time": "2023-02-27T11:36:43.194Z"
   },
   {
    "duration": 57,
    "start_time": "2023-02-27T11:36:43.209Z"
   },
   {
    "duration": 20,
    "start_time": "2023-02-27T11:36:43.267Z"
   },
   {
    "duration": 18,
    "start_time": "2023-02-27T11:36:43.289Z"
   },
   {
    "duration": 22,
    "start_time": "2023-02-27T11:36:43.309Z"
   },
   {
    "duration": 5,
    "start_time": "2023-02-27T11:36:43.333Z"
   },
   {
    "duration": 8,
    "start_time": "2023-02-27T11:36:43.340Z"
   },
   {
    "duration": 11,
    "start_time": "2023-02-27T11:36:43.350Z"
   },
   {
    "duration": 10,
    "start_time": "2023-02-27T11:36:43.362Z"
   },
   {
    "duration": 26,
    "start_time": "2023-02-27T11:36:43.373Z"
   },
   {
    "duration": 17,
    "start_time": "2023-02-27T11:36:43.402Z"
   },
   {
    "duration": 32,
    "start_time": "2023-02-27T11:36:43.421Z"
   },
   {
    "duration": 7,
    "start_time": "2023-02-27T11:36:43.455Z"
   },
   {
    "duration": 23,
    "start_time": "2023-02-27T11:36:43.464Z"
   },
   {
    "duration": 12,
    "start_time": "2023-02-27T11:36:43.490Z"
   },
   {
    "duration": 15,
    "start_time": "2023-02-27T11:36:43.504Z"
   },
   {
    "duration": 10,
    "start_time": "2023-02-27T11:36:43.520Z"
   },
   {
    "duration": 309,
    "start_time": "2023-02-27T11:36:43.531Z"
   },
   {
    "duration": 15,
    "start_time": "2023-02-27T11:36:43.842Z"
   },
   {
    "duration": 33,
    "start_time": "2023-02-27T11:36:43.859Z"
   },
   {
    "duration": 338,
    "start_time": "2023-02-27T11:36:43.894Z"
   },
   {
    "duration": 228,
    "start_time": "2023-02-27T11:36:44.234Z"
   },
   {
    "duration": 11,
    "start_time": "2023-02-27T11:36:44.464Z"
   },
   {
    "duration": 320,
    "start_time": "2023-02-27T11:36:44.477Z"
   },
   {
    "duration": 13,
    "start_time": "2023-02-27T11:36:44.799Z"
   },
   {
    "duration": 294,
    "start_time": "2023-02-27T11:36:44.813Z"
   },
   {
    "duration": 16,
    "start_time": "2023-02-27T11:36:45.109Z"
   },
   {
    "duration": 402,
    "start_time": "2023-02-27T11:36:45.127Z"
   },
   {
    "duration": 12,
    "start_time": "2023-02-27T11:36:45.531Z"
   },
   {
    "duration": 183,
    "start_time": "2023-02-27T11:36:45.549Z"
   },
   {
    "duration": 17,
    "start_time": "2023-02-27T11:36:45.734Z"
   },
   {
    "duration": 20,
    "start_time": "2023-02-27T11:36:45.753Z"
   },
   {
    "duration": 205,
    "start_time": "2023-02-27T11:36:45.775Z"
   },
   {
    "duration": 5,
    "start_time": "2023-02-27T11:36:45.982Z"
   },
   {
    "duration": 8,
    "start_time": "2023-02-27T11:36:45.989Z"
   },
   {
    "duration": 9,
    "start_time": "2023-02-27T11:36:45.998Z"
   },
   {
    "duration": 282,
    "start_time": "2023-02-27T11:36:46.009Z"
   },
   {
    "duration": 142,
    "start_time": "2023-02-27T11:36:46.295Z"
   },
   {
    "duration": 44,
    "start_time": "2023-02-27T11:36:46.440Z"
   },
   {
    "duration": 13,
    "start_time": "2023-02-27T11:36:46.486Z"
   },
   {
    "duration": 16,
    "start_time": "2023-02-27T11:36:46.501Z"
   },
   {
    "duration": 1652,
    "start_time": "2023-02-27T11:36:46.519Z"
   },
   {
    "duration": 109,
    "start_time": "2023-02-27T11:39:19.125Z"
   },
   {
    "duration": 1164,
    "start_time": "2023-02-27T11:39:23.523Z"
   },
   {
    "duration": 1387,
    "start_time": "2023-02-27T11:39:30.205Z"
   },
   {
    "duration": 1298,
    "start_time": "2023-02-27T11:42:30.171Z"
   },
   {
    "duration": 1494,
    "start_time": "2023-02-27T11:44:26.325Z"
   },
   {
    "duration": 1440,
    "start_time": "2023-02-27T11:57:44.323Z"
   },
   {
    "duration": 1273,
    "start_time": "2023-02-27T12:10:49.248Z"
   },
   {
    "duration": 1320,
    "start_time": "2023-02-27T12:11:04.556Z"
   },
   {
    "duration": 1299,
    "start_time": "2023-02-27T12:11:29.765Z"
   },
   {
    "duration": 1553,
    "start_time": "2023-02-27T12:17:46.124Z"
   },
   {
    "duration": 1316,
    "start_time": "2023-02-27T12:18:34.746Z"
   },
   {
    "duration": 21,
    "start_time": "2023-02-27T12:18:46.348Z"
   },
   {
    "duration": 1395,
    "start_time": "2023-02-27T12:19:12.248Z"
   },
   {
    "duration": 40,
    "start_time": "2023-02-27T12:19:13.645Z"
   },
   {
    "duration": 12,
    "start_time": "2023-02-27T12:19:13.686Z"
   },
   {
    "duration": 11,
    "start_time": "2023-02-27T12:19:13.700Z"
   },
   {
    "duration": 66,
    "start_time": "2023-02-27T12:19:13.713Z"
   },
   {
    "duration": 21,
    "start_time": "2023-02-27T12:19:13.781Z"
   },
   {
    "duration": 21,
    "start_time": "2023-02-27T12:19:13.804Z"
   },
   {
    "duration": 21,
    "start_time": "2023-02-27T12:19:13.827Z"
   },
   {
    "duration": 23,
    "start_time": "2023-02-27T12:19:13.851Z"
   },
   {
    "duration": 8,
    "start_time": "2023-02-27T12:19:13.876Z"
   },
   {
    "duration": 9,
    "start_time": "2023-02-27T12:19:13.886Z"
   },
   {
    "duration": 7,
    "start_time": "2023-02-27T12:19:13.897Z"
   },
   {
    "duration": 9,
    "start_time": "2023-02-27T12:19:13.906Z"
   },
   {
    "duration": 14,
    "start_time": "2023-02-27T12:19:13.918Z"
   },
   {
    "duration": 4,
    "start_time": "2023-02-27T12:19:13.934Z"
   },
   {
    "duration": 5,
    "start_time": "2023-02-27T12:19:13.949Z"
   },
   {
    "duration": 21,
    "start_time": "2023-02-27T12:19:13.955Z"
   },
   {
    "duration": 10,
    "start_time": "2023-02-27T12:19:13.977Z"
   },
   {
    "duration": 12,
    "start_time": "2023-02-27T12:19:13.989Z"
   },
   {
    "duration": 10,
    "start_time": "2023-02-27T12:19:14.003Z"
   },
   {
    "duration": 329,
    "start_time": "2023-02-27T12:19:14.014Z"
   },
   {
    "duration": 12,
    "start_time": "2023-02-27T12:19:14.350Z"
   },
   {
    "duration": 22,
    "start_time": "2023-02-27T12:19:14.364Z"
   },
   {
    "duration": 333,
    "start_time": "2023-02-27T12:19:14.388Z"
   },
   {
    "duration": 248,
    "start_time": "2023-02-27T12:19:14.723Z"
   },
   {
    "duration": 12,
    "start_time": "2023-02-27T12:19:14.972Z"
   },
   {
    "duration": 324,
    "start_time": "2023-02-27T12:19:14.986Z"
   },
   {
    "duration": 24,
    "start_time": "2023-02-27T12:19:15.312Z"
   },
   {
    "duration": 284,
    "start_time": "2023-02-27T12:19:15.337Z"
   },
   {
    "duration": 25,
    "start_time": "2023-02-27T12:19:15.624Z"
   },
   {
    "duration": 347,
    "start_time": "2023-02-27T12:19:15.651Z"
   },
   {
    "duration": 12,
    "start_time": "2023-02-27T12:19:16.000Z"
   },
   {
    "duration": 185,
    "start_time": "2023-02-27T12:19:16.014Z"
   },
   {
    "duration": 4,
    "start_time": "2023-02-27T12:19:16.201Z"
   },
   {
    "duration": 15,
    "start_time": "2023-02-27T12:19:16.207Z"
   },
   {
    "duration": 225,
    "start_time": "2023-02-27T12:19:16.224Z"
   },
   {
    "duration": 9,
    "start_time": "2023-02-27T12:19:16.452Z"
   },
   {
    "duration": 19,
    "start_time": "2023-02-27T12:19:16.463Z"
   },
   {
    "duration": 23,
    "start_time": "2023-02-27T12:19:16.485Z"
   },
   {
    "duration": 305,
    "start_time": "2023-02-27T12:19:16.510Z"
   },
   {
    "duration": 184,
    "start_time": "2023-02-27T12:19:16.819Z"
   },
   {
    "duration": 28,
    "start_time": "2023-02-27T12:19:17.005Z"
   },
   {
    "duration": 21,
    "start_time": "2023-02-27T12:19:17.035Z"
   },
   {
    "duration": 12,
    "start_time": "2023-02-27T12:19:17.058Z"
   },
   {
    "duration": 23,
    "start_time": "2023-02-27T12:19:17.072Z"
   },
   {
    "duration": 2187,
    "start_time": "2023-02-27T12:19:17.097Z"
   },
   {
    "duration": 0,
    "start_time": "2023-02-27T12:19:19.286Z"
   },
   {
    "duration": 1816,
    "start_time": "2023-02-27T12:22:51.223Z"
   },
   {
    "duration": 2194,
    "start_time": "2023-02-27T12:22:58.545Z"
   },
   {
    "duration": 7,
    "start_time": "2023-02-27T12:23:23.515Z"
   },
   {
    "duration": 8,
    "start_time": "2023-02-27T12:23:24.884Z"
   },
   {
    "duration": 1327,
    "start_time": "2023-02-27T12:23:32.268Z"
   },
   {
    "duration": 38,
    "start_time": "2023-02-27T12:23:33.597Z"
   },
   {
    "duration": 12,
    "start_time": "2023-02-27T12:23:33.637Z"
   },
   {
    "duration": 26,
    "start_time": "2023-02-27T12:23:33.651Z"
   },
   {
    "duration": 59,
    "start_time": "2023-02-27T12:23:33.680Z"
   },
   {
    "duration": 42,
    "start_time": "2023-02-27T12:23:33.741Z"
   },
   {
    "duration": 29,
    "start_time": "2023-02-27T12:23:33.785Z"
   },
   {
    "duration": 23,
    "start_time": "2023-02-27T12:23:33.816Z"
   },
   {
    "duration": 47,
    "start_time": "2023-02-27T12:23:33.841Z"
   },
   {
    "duration": 14,
    "start_time": "2023-02-27T12:23:33.891Z"
   },
   {
    "duration": 17,
    "start_time": "2023-02-27T12:23:33.907Z"
   },
   {
    "duration": 8,
    "start_time": "2023-02-27T12:23:33.926Z"
   },
   {
    "duration": 20,
    "start_time": "2023-02-27T12:23:33.936Z"
   },
   {
    "duration": 46,
    "start_time": "2023-02-27T12:23:33.960Z"
   },
   {
    "duration": 5,
    "start_time": "2023-02-27T12:23:34.008Z"
   },
   {
    "duration": 8,
    "start_time": "2023-02-27T12:23:34.016Z"
   },
   {
    "duration": 8,
    "start_time": "2023-02-27T12:23:34.025Z"
   },
   {
    "duration": 7,
    "start_time": "2023-02-27T12:23:34.034Z"
   },
   {
    "duration": 41,
    "start_time": "2023-02-27T12:23:34.043Z"
   },
   {
    "duration": 12,
    "start_time": "2023-02-27T12:23:34.085Z"
   },
   {
    "duration": 331,
    "start_time": "2023-02-27T12:23:34.098Z"
   },
   {
    "duration": 9,
    "start_time": "2023-02-27T12:23:34.431Z"
   },
   {
    "duration": 15,
    "start_time": "2023-02-27T12:23:34.442Z"
   },
   {
    "duration": 372,
    "start_time": "2023-02-27T12:23:34.459Z"
   },
   {
    "duration": 269,
    "start_time": "2023-02-27T12:23:34.833Z"
   },
   {
    "duration": 12,
    "start_time": "2023-02-27T12:23:35.104Z"
   },
   {
    "duration": 388,
    "start_time": "2023-02-27T12:23:35.118Z"
   },
   {
    "duration": 12,
    "start_time": "2023-02-27T12:23:35.508Z"
   },
   {
    "duration": 292,
    "start_time": "2023-02-27T12:23:35.521Z"
   },
   {
    "duration": 17,
    "start_time": "2023-02-27T12:23:35.814Z"
   },
   {
    "duration": 382,
    "start_time": "2023-02-27T12:23:35.833Z"
   },
   {
    "duration": 16,
    "start_time": "2023-02-27T12:23:36.217Z"
   },
   {
    "duration": 229,
    "start_time": "2023-02-27T12:23:36.248Z"
   },
   {
    "duration": 8,
    "start_time": "2023-02-27T12:23:36.480Z"
   },
   {
    "duration": 38,
    "start_time": "2023-02-27T12:23:36.490Z"
   },
   {
    "duration": 260,
    "start_time": "2023-02-27T12:23:36.530Z"
   },
   {
    "duration": 5,
    "start_time": "2023-02-27T12:23:36.792Z"
   },
   {
    "duration": 15,
    "start_time": "2023-02-27T12:23:36.798Z"
   },
   {
    "duration": 30,
    "start_time": "2023-02-27T12:23:36.815Z"
   },
   {
    "duration": 318,
    "start_time": "2023-02-27T12:23:36.847Z"
   },
   {
    "duration": 168,
    "start_time": "2023-02-27T12:23:37.170Z"
   },
   {
    "duration": 45,
    "start_time": "2023-02-27T12:23:37.340Z"
   },
   {
    "duration": 56,
    "start_time": "2023-02-27T12:23:37.388Z"
   },
   {
    "duration": 52,
    "start_time": "2023-02-27T12:23:37.447Z"
   },
   {
    "duration": 18,
    "start_time": "2023-02-27T12:23:37.501Z"
   },
   {
    "duration": 1629,
    "start_time": "2023-02-27T12:23:37.521Z"
   },
   {
    "duration": 1705,
    "start_time": "2023-02-27T12:37:36.329Z"
   },
   {
    "duration": 1271,
    "start_time": "2023-02-27T12:44:04.132Z"
   },
   {
    "duration": 1104,
    "start_time": "2023-02-27T13:45:55.108Z"
   },
   {
    "duration": 41,
    "start_time": "2023-02-27T13:45:56.215Z"
   },
   {
    "duration": 17,
    "start_time": "2023-02-27T13:45:56.258Z"
   },
   {
    "duration": 27,
    "start_time": "2023-02-27T13:45:56.277Z"
   },
   {
    "duration": 75,
    "start_time": "2023-02-27T13:45:56.307Z"
   },
   {
    "duration": 26,
    "start_time": "2023-02-27T13:45:56.384Z"
   },
   {
    "duration": 29,
    "start_time": "2023-02-27T13:45:56.412Z"
   },
   {
    "duration": 33,
    "start_time": "2023-02-27T13:45:56.443Z"
   },
   {
    "duration": 30,
    "start_time": "2023-02-27T13:45:56.478Z"
   },
   {
    "duration": 29,
    "start_time": "2023-02-27T13:45:56.510Z"
   },
   {
    "duration": 30,
    "start_time": "2023-02-27T13:45:56.542Z"
   },
   {
    "duration": 28,
    "start_time": "2023-02-27T13:45:56.574Z"
   },
   {
    "duration": 28,
    "start_time": "2023-02-27T13:45:56.604Z"
   },
   {
    "duration": 26,
    "start_time": "2023-02-27T13:45:56.636Z"
   },
   {
    "duration": 24,
    "start_time": "2023-02-27T13:45:56.664Z"
   },
   {
    "duration": 18,
    "start_time": "2023-02-27T13:45:56.690Z"
   },
   {
    "duration": 13,
    "start_time": "2023-02-27T13:45:56.710Z"
   },
   {
    "duration": 15,
    "start_time": "2023-02-27T13:45:56.725Z"
   },
   {
    "duration": 20,
    "start_time": "2023-02-27T13:45:56.742Z"
   },
   {
    "duration": 10,
    "start_time": "2023-02-27T13:45:56.764Z"
   },
   {
    "duration": 284,
    "start_time": "2023-02-27T13:45:56.776Z"
   },
   {
    "duration": 9,
    "start_time": "2023-02-27T13:45:57.062Z"
   },
   {
    "duration": 14,
    "start_time": "2023-02-27T13:45:57.073Z"
   },
   {
    "duration": 331,
    "start_time": "2023-02-27T13:45:57.088Z"
   },
   {
    "duration": 245,
    "start_time": "2023-02-27T13:45:57.421Z"
   },
   {
    "duration": 11,
    "start_time": "2023-02-27T13:45:57.668Z"
   },
   {
    "duration": 306,
    "start_time": "2023-02-27T13:45:57.680Z"
   },
   {
    "duration": 12,
    "start_time": "2023-02-27T13:45:57.988Z"
   },
   {
    "duration": 262,
    "start_time": "2023-02-27T13:45:58.002Z"
   },
   {
    "duration": 21,
    "start_time": "2023-02-27T13:45:58.266Z"
   },
   {
    "duration": 299,
    "start_time": "2023-02-27T13:45:58.289Z"
   },
   {
    "duration": 15,
    "start_time": "2023-02-27T13:45:58.590Z"
   },
   {
    "duration": 168,
    "start_time": "2023-02-27T13:45:58.607Z"
   },
   {
    "duration": 5,
    "start_time": "2023-02-27T13:45:58.777Z"
   },
   {
    "duration": 15,
    "start_time": "2023-02-27T13:45:58.783Z"
   },
   {
    "duration": 180,
    "start_time": "2023-02-27T13:45:58.800Z"
   },
   {
    "duration": 4,
    "start_time": "2023-02-27T13:45:58.982Z"
   },
   {
    "duration": 7,
    "start_time": "2023-02-27T13:45:58.988Z"
   },
   {
    "duration": 8,
    "start_time": "2023-02-27T13:45:58.996Z"
   },
   {
    "duration": 246,
    "start_time": "2023-02-27T13:45:59.006Z"
   },
   {
    "duration": 0,
    "start_time": "2023-02-27T13:45:59.253Z"
   },
   {
    "duration": 0,
    "start_time": "2023-02-27T13:45:59.254Z"
   },
   {
    "duration": 0,
    "start_time": "2023-02-27T13:45:59.255Z"
   },
   {
    "duration": 0,
    "start_time": "2023-02-27T13:45:59.257Z"
   },
   {
    "duration": 0,
    "start_time": "2023-02-27T13:45:59.258Z"
   },
   {
    "duration": 1200,
    "start_time": "2023-02-27T13:47:15.461Z"
   },
   {
    "duration": 41,
    "start_time": "2023-02-27T13:47:16.665Z"
   },
   {
    "duration": 13,
    "start_time": "2023-02-27T13:47:16.708Z"
   },
   {
    "duration": 12,
    "start_time": "2023-02-27T13:47:16.722Z"
   },
   {
    "duration": 57,
    "start_time": "2023-02-27T13:47:16.737Z"
   },
   {
    "duration": 22,
    "start_time": "2023-02-27T13:47:16.796Z"
   },
   {
    "duration": 22,
    "start_time": "2023-02-27T13:47:16.820Z"
   },
   {
    "duration": 19,
    "start_time": "2023-02-27T13:47:16.845Z"
   },
   {
    "duration": 23,
    "start_time": "2023-02-27T13:47:16.866Z"
   },
   {
    "duration": 9,
    "start_time": "2023-02-27T13:47:16.891Z"
   },
   {
    "duration": 15,
    "start_time": "2023-02-27T13:47:16.902Z"
   },
   {
    "duration": 9,
    "start_time": "2023-02-27T13:47:16.919Z"
   },
   {
    "duration": 9,
    "start_time": "2023-02-27T13:47:16.929Z"
   },
   {
    "duration": 17,
    "start_time": "2023-02-27T13:47:16.940Z"
   },
   {
    "duration": 12,
    "start_time": "2023-02-27T13:47:16.959Z"
   },
   {
    "duration": 6,
    "start_time": "2023-02-27T13:47:16.972Z"
   },
   {
    "duration": 7,
    "start_time": "2023-02-27T13:47:16.979Z"
   },
   {
    "duration": 5,
    "start_time": "2023-02-27T13:47:16.987Z"
   },
   {
    "duration": 14,
    "start_time": "2023-02-27T13:47:16.994Z"
   },
   {
    "duration": 10,
    "start_time": "2023-02-27T13:47:17.010Z"
   },
   {
    "duration": 338,
    "start_time": "2023-02-27T13:47:17.022Z"
   },
   {
    "duration": 11,
    "start_time": "2023-02-27T13:47:17.364Z"
   },
   {
    "duration": 18,
    "start_time": "2023-02-27T13:47:17.377Z"
   },
   {
    "duration": 328,
    "start_time": "2023-02-27T13:47:17.397Z"
   },
   {
    "duration": 254,
    "start_time": "2023-02-27T13:47:17.727Z"
   },
   {
    "duration": 12,
    "start_time": "2023-02-27T13:47:17.983Z"
   },
   {
    "duration": 312,
    "start_time": "2023-02-27T13:47:17.996Z"
   },
   {
    "duration": 12,
    "start_time": "2023-02-27T13:47:18.309Z"
   },
   {
    "duration": 278,
    "start_time": "2023-02-27T13:47:18.323Z"
   },
   {
    "duration": 15,
    "start_time": "2023-02-27T13:47:18.603Z"
   },
   {
    "duration": 373,
    "start_time": "2023-02-27T13:47:18.620Z"
   },
   {
    "duration": 13,
    "start_time": "2023-02-27T13:47:18.995Z"
   },
   {
    "duration": 182,
    "start_time": "2023-02-27T13:47:19.010Z"
   },
   {
    "duration": 4,
    "start_time": "2023-02-27T13:47:19.194Z"
   },
   {
    "duration": 17,
    "start_time": "2023-02-27T13:47:19.199Z"
   },
   {
    "duration": 191,
    "start_time": "2023-02-27T13:47:19.218Z"
   },
   {
    "duration": 4,
    "start_time": "2023-02-27T13:47:19.411Z"
   },
   {
    "duration": 10,
    "start_time": "2023-02-27T13:47:19.417Z"
   },
   {
    "duration": 12,
    "start_time": "2023-02-27T13:47:19.429Z"
   },
   {
    "duration": 246,
    "start_time": "2023-02-27T13:47:19.448Z"
   },
   {
    "duration": 172,
    "start_time": "2023-02-27T13:47:19.698Z"
   },
   {
    "duration": 25,
    "start_time": "2023-02-27T13:47:19.872Z"
   },
   {
    "duration": 11,
    "start_time": "2023-02-27T13:47:19.898Z"
   },
   {
    "duration": 7,
    "start_time": "2023-02-27T13:47:19.910Z"
   },
   {
    "duration": 36,
    "start_time": "2023-02-27T13:47:19.919Z"
   },
   {
    "duration": 1481,
    "start_time": "2023-02-27T13:47:19.957Z"
   },
   {
    "duration": 1200,
    "start_time": "2023-02-27T14:36:15.933Z"
   },
   {
    "duration": 1218,
    "start_time": "2023-02-27T14:37:47.690Z"
   },
   {
    "duration": 1190,
    "start_time": "2023-02-27T14:38:05.026Z"
   },
   {
    "duration": 37,
    "start_time": "2023-02-27T14:38:06.218Z"
   },
   {
    "duration": 14,
    "start_time": "2023-02-27T14:38:06.257Z"
   },
   {
    "duration": 22,
    "start_time": "2023-02-27T14:38:06.272Z"
   },
   {
    "duration": 50,
    "start_time": "2023-02-27T14:38:06.297Z"
   },
   {
    "duration": 28,
    "start_time": "2023-02-27T14:38:06.349Z"
   },
   {
    "duration": 18,
    "start_time": "2023-02-27T14:38:06.379Z"
   },
   {
    "duration": 31,
    "start_time": "2023-02-27T14:38:06.399Z"
   },
   {
    "duration": 28,
    "start_time": "2023-02-27T14:38:06.431Z"
   },
   {
    "duration": 18,
    "start_time": "2023-02-27T14:38:06.461Z"
   },
   {
    "duration": 24,
    "start_time": "2023-02-27T14:38:06.481Z"
   },
   {
    "duration": 29,
    "start_time": "2023-02-27T14:38:06.507Z"
   },
   {
    "duration": 20,
    "start_time": "2023-02-27T14:38:06.538Z"
   },
   {
    "duration": 25,
    "start_time": "2023-02-27T14:38:06.562Z"
   },
   {
    "duration": 33,
    "start_time": "2023-02-27T14:38:06.589Z"
   },
   {
    "duration": 20,
    "start_time": "2023-02-27T14:38:06.624Z"
   },
   {
    "duration": 30,
    "start_time": "2023-02-27T14:38:06.646Z"
   },
   {
    "duration": 20,
    "start_time": "2023-02-27T14:38:06.678Z"
   },
   {
    "duration": 22,
    "start_time": "2023-02-27T14:38:06.700Z"
   },
   {
    "duration": 26,
    "start_time": "2023-02-27T14:38:06.724Z"
   },
   {
    "duration": 384,
    "start_time": "2023-02-27T14:38:06.753Z"
   },
   {
    "duration": 10,
    "start_time": "2023-02-27T14:38:07.139Z"
   },
   {
    "duration": 17,
    "start_time": "2023-02-27T14:38:07.150Z"
   },
   {
    "duration": 332,
    "start_time": "2023-02-27T14:38:07.169Z"
   },
   {
    "duration": 235,
    "start_time": "2023-02-27T14:38:07.502Z"
   },
   {
    "duration": 17,
    "start_time": "2023-02-27T14:38:07.739Z"
   },
   {
    "duration": 326,
    "start_time": "2023-02-27T14:38:07.758Z"
   },
   {
    "duration": 12,
    "start_time": "2023-02-27T14:38:08.086Z"
   },
   {
    "duration": 269,
    "start_time": "2023-02-27T14:38:08.099Z"
   },
   {
    "duration": 14,
    "start_time": "2023-02-27T14:38:08.369Z"
   },
   {
    "duration": 338,
    "start_time": "2023-02-27T14:38:08.384Z"
   },
   {
    "duration": 12,
    "start_time": "2023-02-27T14:38:08.723Z"
   },
   {
    "duration": 176,
    "start_time": "2023-02-27T14:38:08.737Z"
   },
   {
    "duration": 5,
    "start_time": "2023-02-27T14:38:08.915Z"
   },
   {
    "duration": 14,
    "start_time": "2023-02-27T14:38:08.921Z"
   },
   {
    "duration": 182,
    "start_time": "2023-02-27T14:38:08.949Z"
   },
   {
    "duration": 5,
    "start_time": "2023-02-27T14:38:09.132Z"
   },
   {
    "duration": 16,
    "start_time": "2023-02-27T14:38:09.138Z"
   },
   {
    "duration": 9,
    "start_time": "2023-02-27T14:38:09.156Z"
   },
   {
    "duration": 254,
    "start_time": "2023-02-27T14:38:09.167Z"
   },
   {
    "duration": 215,
    "start_time": "2023-02-27T14:38:09.426Z"
   },
   {
    "duration": 31,
    "start_time": "2023-02-27T14:38:09.643Z"
   },
   {
    "duration": 14,
    "start_time": "2023-02-27T14:38:09.676Z"
   },
   {
    "duration": 23,
    "start_time": "2023-02-27T14:38:09.692Z"
   },
   {
    "duration": 46,
    "start_time": "2023-02-27T14:38:09.717Z"
   },
   {
    "duration": 1363,
    "start_time": "2023-02-27T14:38:09.765Z"
   },
   {
    "duration": 0,
    "start_time": "2023-02-27T14:38:11.130Z"
   },
   {
    "duration": 1485,
    "start_time": "2023-02-27T14:41:32.954Z"
   },
   {
    "duration": 1464,
    "start_time": "2023-02-27T14:43:30.806Z"
   },
   {
    "duration": 156,
    "start_time": "2023-02-27T14:45:38.106Z"
   },
   {
    "duration": 131,
    "start_time": "2023-02-27T14:46:06.086Z"
   },
   {
    "duration": 11,
    "start_time": "2023-02-27T14:46:18.397Z"
   },
   {
    "duration": 39,
    "start_time": "2023-02-27T14:46:20.603Z"
   },
   {
    "duration": 11,
    "start_time": "2023-02-27T14:46:27.622Z"
   },
   {
    "duration": 7,
    "start_time": "2023-02-27T14:46:30.307Z"
   },
   {
    "duration": 7,
    "start_time": "2023-02-27T14:46:31.858Z"
   },
   {
    "duration": 11,
    "start_time": "2023-02-27T14:46:58.006Z"
   },
   {
    "duration": 13,
    "start_time": "2023-02-27T14:48:20.427Z"
   },
   {
    "duration": 12,
    "start_time": "2023-02-27T14:48:38.708Z"
   },
   {
    "duration": 25,
    "start_time": "2023-02-27T14:48:52.753Z"
   },
   {
    "duration": 17,
    "start_time": "2023-02-27T14:59:17.390Z"
   },
   {
    "duration": 17,
    "start_time": "2023-02-27T14:59:30.388Z"
   },
   {
    "duration": 13,
    "start_time": "2023-02-27T14:59:43.125Z"
   },
   {
    "duration": 22,
    "start_time": "2023-02-27T15:08:20.470Z"
   },
   {
    "duration": 27,
    "start_time": "2023-02-27T15:08:30.769Z"
   },
   {
    "duration": 8,
    "start_time": "2023-02-27T15:09:12.562Z"
   },
   {
    "duration": 28,
    "start_time": "2023-02-27T15:10:07.363Z"
   },
   {
    "duration": 23,
    "start_time": "2023-02-27T15:18:18.929Z"
   },
   {
    "duration": 15,
    "start_time": "2023-02-27T15:22:37.489Z"
   },
   {
    "duration": 5,
    "start_time": "2023-02-27T15:48:01.452Z"
   },
   {
    "duration": 6,
    "start_time": "2023-02-27T15:48:39.621Z"
   },
   {
    "duration": 1231,
    "start_time": "2023-02-27T15:51:24.198Z"
   },
   {
    "duration": 47,
    "start_time": "2023-02-27T15:51:25.431Z"
   },
   {
    "duration": 17,
    "start_time": "2023-02-27T15:51:25.481Z"
   },
   {
    "duration": 17,
    "start_time": "2023-02-27T15:51:25.501Z"
   },
   {
    "duration": 45,
    "start_time": "2023-02-27T15:51:25.520Z"
   },
   {
    "duration": 28,
    "start_time": "2023-02-27T15:51:25.567Z"
   },
   {
    "duration": 18,
    "start_time": "2023-02-27T15:51:25.597Z"
   },
   {
    "duration": 14,
    "start_time": "2023-02-27T15:51:25.617Z"
   },
   {
    "duration": 9,
    "start_time": "2023-02-27T15:51:25.633Z"
   },
   {
    "duration": 24,
    "start_time": "2023-02-27T15:51:25.648Z"
   },
   {
    "duration": 10,
    "start_time": "2023-02-27T15:51:25.673Z"
   },
   {
    "duration": 22,
    "start_time": "2023-02-27T15:51:25.685Z"
   },
   {
    "duration": 15,
    "start_time": "2023-02-27T15:51:25.709Z"
   },
   {
    "duration": 20,
    "start_time": "2023-02-27T15:51:25.726Z"
   },
   {
    "duration": 22,
    "start_time": "2023-02-27T15:51:25.748Z"
   },
   {
    "duration": 9,
    "start_time": "2023-02-27T15:51:25.772Z"
   },
   {
    "duration": 11,
    "start_time": "2023-02-27T15:51:25.783Z"
   },
   {
    "duration": 8,
    "start_time": "2023-02-27T15:51:25.796Z"
   },
   {
    "duration": 18,
    "start_time": "2023-02-27T15:51:25.806Z"
   },
   {
    "duration": 12,
    "start_time": "2023-02-27T15:51:25.826Z"
   },
   {
    "duration": 380,
    "start_time": "2023-02-27T15:51:25.840Z"
   },
   {
    "duration": 14,
    "start_time": "2023-02-27T15:51:26.221Z"
   },
   {
    "duration": 36,
    "start_time": "2023-02-27T15:51:26.248Z"
   },
   {
    "duration": 405,
    "start_time": "2023-02-27T15:51:26.286Z"
   },
   {
    "duration": 252,
    "start_time": "2023-02-27T15:51:26.693Z"
   },
   {
    "duration": 14,
    "start_time": "2023-02-27T15:51:26.951Z"
   },
   {
    "duration": 351,
    "start_time": "2023-02-27T15:51:26.967Z"
   },
   {
    "duration": 11,
    "start_time": "2023-02-27T15:51:27.321Z"
   },
   {
    "duration": 280,
    "start_time": "2023-02-27T15:51:27.334Z"
   },
   {
    "duration": 16,
    "start_time": "2023-02-27T15:51:27.616Z"
   },
   {
    "duration": 370,
    "start_time": "2023-02-27T15:51:27.634Z"
   },
   {
    "duration": 13,
    "start_time": "2023-02-27T15:51:28.005Z"
   },
   {
    "duration": 190,
    "start_time": "2023-02-27T15:51:28.020Z"
   },
   {
    "duration": 5,
    "start_time": "2023-02-27T15:51:28.212Z"
   },
   {
    "duration": 13,
    "start_time": "2023-02-27T15:51:28.218Z"
   },
   {
    "duration": 216,
    "start_time": "2023-02-27T15:51:28.248Z"
   },
   {
    "duration": 5,
    "start_time": "2023-02-27T15:51:28.466Z"
   },
   {
    "duration": 300,
    "start_time": "2023-02-27T15:51:28.473Z"
   },
   {
    "duration": 161,
    "start_time": "2023-02-27T15:51:28.776Z"
   },
   {
    "duration": 16,
    "start_time": "2023-02-27T15:51:28.938Z"
   },
   {
    "duration": 17,
    "start_time": "2023-02-27T15:51:28.957Z"
   },
   {
    "duration": 6,
    "start_time": "2023-02-27T15:51:28.977Z"
   },
   {
    "duration": 28,
    "start_time": "2023-02-27T15:51:28.985Z"
   },
   {
    "duration": 38,
    "start_time": "2023-02-27T15:51:29.014Z"
   },
   {
    "duration": 22,
    "start_time": "2023-02-27T15:51:29.053Z"
   },
   {
    "duration": 11,
    "start_time": "2023-02-27T15:51:29.077Z"
   },
   {
    "duration": 24,
    "start_time": "2023-02-27T15:51:29.091Z"
   },
   {
    "duration": 46,
    "start_time": "2023-02-27T15:51:29.117Z"
   },
   {
    "duration": 9,
    "start_time": "2023-02-27T15:54:34.689Z"
   },
   {
    "duration": 7,
    "start_time": "2023-02-27T15:54:39.353Z"
   },
   {
    "duration": 7,
    "start_time": "2023-02-27T15:54:40.327Z"
   },
   {
    "duration": 6,
    "start_time": "2023-02-27T15:56:05.351Z"
   },
   {
    "duration": 6,
    "start_time": "2023-02-27T15:57:26.267Z"
   },
   {
    "duration": 6,
    "start_time": "2023-02-27T15:57:28.098Z"
   },
   {
    "duration": 1108,
    "start_time": "2023-02-27T16:13:58.287Z"
   },
   {
    "duration": 41,
    "start_time": "2023-02-27T16:13:59.398Z"
   },
   {
    "duration": 22,
    "start_time": "2023-02-27T16:13:59.440Z"
   },
   {
    "duration": 10,
    "start_time": "2023-02-27T16:13:59.463Z"
   },
   {
    "duration": 53,
    "start_time": "2023-02-27T16:13:59.475Z"
   },
   {
    "duration": 19,
    "start_time": "2023-02-27T16:13:59.530Z"
   },
   {
    "duration": 22,
    "start_time": "2023-02-27T16:13:59.550Z"
   },
   {
    "duration": 18,
    "start_time": "2023-02-27T16:13:59.573Z"
   },
   {
    "duration": 8,
    "start_time": "2023-02-27T16:13:59.592Z"
   },
   {
    "duration": 13,
    "start_time": "2023-02-27T16:13:59.602Z"
   },
   {
    "duration": 26,
    "start_time": "2023-02-27T16:13:59.617Z"
   },
   {
    "duration": 16,
    "start_time": "2023-02-27T16:13:59.644Z"
   },
   {
    "duration": 32,
    "start_time": "2023-02-27T16:13:59.662Z"
   },
   {
    "duration": 25,
    "start_time": "2023-02-27T16:13:59.696Z"
   },
   {
    "duration": 16,
    "start_time": "2023-02-27T16:13:59.722Z"
   },
   {
    "duration": 19,
    "start_time": "2023-02-27T16:13:59.740Z"
   },
   {
    "duration": 18,
    "start_time": "2023-02-27T16:13:59.761Z"
   },
   {
    "duration": 15,
    "start_time": "2023-02-27T16:13:59.781Z"
   },
   {
    "duration": 44,
    "start_time": "2023-02-27T16:13:59.797Z"
   },
   {
    "duration": 32,
    "start_time": "2023-02-27T16:13:59.842Z"
   },
   {
    "duration": 288,
    "start_time": "2023-02-27T16:13:59.876Z"
   },
   {
    "duration": 9,
    "start_time": "2023-02-27T16:14:00.166Z"
   },
   {
    "duration": 59,
    "start_time": "2023-02-27T16:14:00.176Z"
   },
   {
    "duration": 358,
    "start_time": "2023-02-27T16:14:00.236Z"
   },
   {
    "duration": 236,
    "start_time": "2023-02-27T16:14:00.596Z"
   },
   {
    "duration": 22,
    "start_time": "2023-02-27T16:14:00.834Z"
   },
   {
    "duration": 439,
    "start_time": "2023-02-27T16:14:00.857Z"
   },
   {
    "duration": 12,
    "start_time": "2023-02-27T16:14:01.349Z"
   },
   {
    "duration": 592,
    "start_time": "2023-02-27T16:14:01.362Z"
   },
   {
    "duration": 14,
    "start_time": "2023-02-27T16:14:01.956Z"
   },
   {
    "duration": 587,
    "start_time": "2023-02-27T16:14:01.972Z"
   },
   {
    "duration": 16,
    "start_time": "2023-02-27T16:14:02.562Z"
   },
   {
    "duration": 314,
    "start_time": "2023-02-27T16:14:02.580Z"
   },
   {
    "duration": 55,
    "start_time": "2023-02-27T16:14:02.896Z"
   },
   {
    "duration": 89,
    "start_time": "2023-02-27T16:14:02.953Z"
   },
   {
    "duration": 169,
    "start_time": "2023-02-27T16:14:03.044Z"
   },
   {
    "duration": 4,
    "start_time": "2023-02-27T16:14:03.215Z"
   },
   {
    "duration": 263,
    "start_time": "2023-02-27T16:14:03.222Z"
   },
   {
    "duration": 161,
    "start_time": "2023-02-27T16:14:03.487Z"
   },
   {
    "duration": 8,
    "start_time": "2023-02-27T16:14:03.650Z"
   },
   {
    "duration": 18,
    "start_time": "2023-02-27T16:14:03.661Z"
   },
   {
    "duration": 8,
    "start_time": "2023-02-27T16:14:03.680Z"
   },
   {
    "duration": 32,
    "start_time": "2023-02-27T16:14:03.690Z"
   },
   {
    "duration": 25,
    "start_time": "2023-02-27T16:14:03.724Z"
   },
   {
    "duration": 12,
    "start_time": "2023-02-27T16:14:03.750Z"
   },
   {
    "duration": 15,
    "start_time": "2023-02-27T16:14:03.764Z"
   },
   {
    "duration": 34,
    "start_time": "2023-02-27T16:14:03.781Z"
   },
   {
    "duration": 33,
    "start_time": "2023-02-27T16:14:03.818Z"
   },
   {
    "duration": 1136,
    "start_time": "2023-02-27T16:14:34.893Z"
   },
   {
    "duration": 39,
    "start_time": "2023-02-27T16:14:36.032Z"
   },
   {
    "duration": 12,
    "start_time": "2023-02-27T16:14:36.072Z"
   },
   {
    "duration": 13,
    "start_time": "2023-02-27T16:14:36.085Z"
   },
   {
    "duration": 53,
    "start_time": "2023-02-27T16:14:36.100Z"
   },
   {
    "duration": 21,
    "start_time": "2023-02-27T16:14:36.154Z"
   },
   {
    "duration": 18,
    "start_time": "2023-02-27T16:14:36.178Z"
   },
   {
    "duration": 22,
    "start_time": "2023-02-27T16:14:36.198Z"
   },
   {
    "duration": 10,
    "start_time": "2023-02-27T16:14:36.222Z"
   },
   {
    "duration": 11,
    "start_time": "2023-02-27T16:14:36.235Z"
   },
   {
    "duration": 15,
    "start_time": "2023-02-27T16:14:36.248Z"
   },
   {
    "duration": 11,
    "start_time": "2023-02-27T16:14:36.264Z"
   },
   {
    "duration": 18,
    "start_time": "2023-02-27T16:14:36.277Z"
   },
   {
    "duration": 22,
    "start_time": "2023-02-27T16:14:36.298Z"
   },
   {
    "duration": 5,
    "start_time": "2023-02-27T16:14:36.321Z"
   },
   {
    "duration": 7,
    "start_time": "2023-02-27T16:14:36.328Z"
   },
   {
    "duration": 12,
    "start_time": "2023-02-27T16:14:36.337Z"
   },
   {
    "duration": 4,
    "start_time": "2023-02-27T16:14:36.351Z"
   },
   {
    "duration": 20,
    "start_time": "2023-02-27T16:14:36.357Z"
   },
   {
    "duration": 14,
    "start_time": "2023-02-27T16:14:36.378Z"
   },
   {
    "duration": 373,
    "start_time": "2023-02-27T16:14:36.394Z"
   },
   {
    "duration": 8,
    "start_time": "2023-02-27T16:14:36.769Z"
   },
   {
    "duration": 12,
    "start_time": "2023-02-27T16:14:36.779Z"
   },
   {
    "duration": 312,
    "start_time": "2023-02-27T16:14:36.793Z"
   },
   {
    "duration": 240,
    "start_time": "2023-02-27T16:14:37.106Z"
   },
   {
    "duration": 12,
    "start_time": "2023-02-27T16:14:37.348Z"
   },
   {
    "duration": 329,
    "start_time": "2023-02-27T16:14:37.362Z"
   },
   {
    "duration": 11,
    "start_time": "2023-02-27T16:14:37.692Z"
   },
   {
    "duration": 476,
    "start_time": "2023-02-27T16:14:37.704Z"
   },
   {
    "duration": 70,
    "start_time": "2023-02-27T16:14:38.181Z"
   },
   {
    "duration": 497,
    "start_time": "2023-02-27T16:14:38.252Z"
   },
   {
    "duration": 11,
    "start_time": "2023-02-27T16:14:38.751Z"
   },
   {
    "duration": 310,
    "start_time": "2023-02-27T16:14:38.764Z"
   },
   {
    "duration": 4,
    "start_time": "2023-02-27T16:14:39.076Z"
   },
   {
    "duration": 13,
    "start_time": "2023-02-27T16:14:39.082Z"
   },
   {
    "duration": 327,
    "start_time": "2023-02-27T16:14:39.149Z"
   },
   {
    "duration": 5,
    "start_time": "2023-02-27T16:14:39.477Z"
   },
   {
    "duration": 370,
    "start_time": "2023-02-27T16:14:39.483Z"
   },
   {
    "duration": 145,
    "start_time": "2023-02-27T16:14:39.855Z"
   },
   {
    "duration": 8,
    "start_time": "2023-02-27T16:14:40.002Z"
   },
   {
    "duration": 14,
    "start_time": "2023-02-27T16:14:40.015Z"
   },
   {
    "duration": 19,
    "start_time": "2023-02-27T16:14:40.031Z"
   },
   {
    "duration": 28,
    "start_time": "2023-02-27T16:14:40.052Z"
   },
   {
    "duration": 11,
    "start_time": "2023-02-27T16:14:40.081Z"
   },
   {
    "duration": 13,
    "start_time": "2023-02-27T16:14:40.093Z"
   },
   {
    "duration": 25,
    "start_time": "2023-02-27T16:14:40.108Z"
   },
   {
    "duration": 38,
    "start_time": "2023-02-27T16:14:40.135Z"
   },
   {
    "duration": 14,
    "start_time": "2023-02-27T16:14:40.175Z"
   },
   {
    "duration": 74,
    "start_time": "2023-02-27T16:16:41.712Z"
   },
   {
    "duration": 81,
    "start_time": "2023-02-27T16:16:45.692Z"
   },
   {
    "duration": 1168,
    "start_time": "2023-02-27T16:16:56.549Z"
   },
   {
    "duration": 39,
    "start_time": "2023-02-27T16:16:57.719Z"
   },
   {
    "duration": 16,
    "start_time": "2023-02-27T16:16:57.759Z"
   },
   {
    "duration": 15,
    "start_time": "2023-02-27T16:16:57.777Z"
   },
   {
    "duration": 52,
    "start_time": "2023-02-27T16:16:57.795Z"
   },
   {
    "duration": 23,
    "start_time": "2023-02-27T16:16:57.849Z"
   },
   {
    "duration": 18,
    "start_time": "2023-02-27T16:16:57.874Z"
   },
   {
    "duration": 24,
    "start_time": "2023-02-27T16:16:57.894Z"
   },
   {
    "duration": 10,
    "start_time": "2023-02-27T16:16:57.919Z"
   },
   {
    "duration": 17,
    "start_time": "2023-02-27T16:16:57.931Z"
   },
   {
    "duration": 13,
    "start_time": "2023-02-27T16:16:57.950Z"
   },
   {
    "duration": 14,
    "start_time": "2023-02-27T16:16:57.965Z"
   },
   {
    "duration": 9,
    "start_time": "2023-02-27T16:16:57.981Z"
   },
   {
    "duration": 18,
    "start_time": "2023-02-27T16:16:57.993Z"
   },
   {
    "duration": 4,
    "start_time": "2023-02-27T16:16:58.014Z"
   },
   {
    "duration": 31,
    "start_time": "2023-02-27T16:16:58.019Z"
   },
   {
    "duration": 5,
    "start_time": "2023-02-27T16:16:58.051Z"
   },
   {
    "duration": 12,
    "start_time": "2023-02-27T16:16:58.057Z"
   },
   {
    "duration": 25,
    "start_time": "2023-02-27T16:16:58.070Z"
   },
   {
    "duration": 11,
    "start_time": "2023-02-27T16:16:58.097Z"
   },
   {
    "duration": 300,
    "start_time": "2023-02-27T16:16:58.109Z"
   },
   {
    "duration": 9,
    "start_time": "2023-02-27T16:16:58.410Z"
   },
   {
    "duration": 28,
    "start_time": "2023-02-27T16:16:58.421Z"
   },
   {
    "duration": 324,
    "start_time": "2023-02-27T16:16:58.451Z"
   },
   {
    "duration": 224,
    "start_time": "2023-02-27T16:16:58.777Z"
   },
   {
    "duration": 11,
    "start_time": "2023-02-27T16:16:59.003Z"
   },
   {
    "duration": 369,
    "start_time": "2023-02-27T16:16:59.015Z"
   },
   {
    "duration": 13,
    "start_time": "2023-02-27T16:16:59.385Z"
   },
   {
    "duration": 84,
    "start_time": "2023-02-27T16:16:59.400Z"
   },
   {
    "duration": 0,
    "start_time": "2023-02-27T16:16:59.487Z"
   },
   {
    "duration": 0,
    "start_time": "2023-02-27T16:16:59.488Z"
   },
   {
    "duration": 0,
    "start_time": "2023-02-27T16:16:59.490Z"
   },
   {
    "duration": 0,
    "start_time": "2023-02-27T16:16:59.491Z"
   },
   {
    "duration": 0,
    "start_time": "2023-02-27T16:16:59.492Z"
   },
   {
    "duration": 0,
    "start_time": "2023-02-27T16:16:59.494Z"
   },
   {
    "duration": 0,
    "start_time": "2023-02-27T16:16:59.495Z"
   },
   {
    "duration": 0,
    "start_time": "2023-02-27T16:16:59.496Z"
   },
   {
    "duration": 0,
    "start_time": "2023-02-27T16:16:59.497Z"
   },
   {
    "duration": 0,
    "start_time": "2023-02-27T16:16:59.498Z"
   },
   {
    "duration": 0,
    "start_time": "2023-02-27T16:16:59.500Z"
   },
   {
    "duration": 0,
    "start_time": "2023-02-27T16:16:59.501Z"
   },
   {
    "duration": 0,
    "start_time": "2023-02-27T16:16:59.502Z"
   },
   {
    "duration": 0,
    "start_time": "2023-02-27T16:16:59.503Z"
   },
   {
    "duration": 0,
    "start_time": "2023-02-27T16:16:59.505Z"
   },
   {
    "duration": 0,
    "start_time": "2023-02-27T16:16:59.506Z"
   },
   {
    "duration": 0,
    "start_time": "2023-02-27T16:16:59.507Z"
   },
   {
    "duration": 0,
    "start_time": "2023-02-27T16:16:59.508Z"
   },
   {
    "duration": 0,
    "start_time": "2023-02-27T16:16:59.509Z"
   },
   {
    "duration": 352,
    "start_time": "2023-02-27T16:17:13.828Z"
   },
   {
    "duration": 1173,
    "start_time": "2023-02-27T16:19:06.010Z"
   },
   {
    "duration": 36,
    "start_time": "2023-02-27T16:19:07.185Z"
   },
   {
    "duration": 11,
    "start_time": "2023-02-27T16:19:07.223Z"
   },
   {
    "duration": 11,
    "start_time": "2023-02-27T16:19:07.236Z"
   },
   {
    "duration": 47,
    "start_time": "2023-02-27T16:19:07.249Z"
   },
   {
    "duration": 19,
    "start_time": "2023-02-27T16:19:07.298Z"
   },
   {
    "duration": 18,
    "start_time": "2023-02-27T16:19:07.319Z"
   },
   {
    "duration": 15,
    "start_time": "2023-02-27T16:19:07.338Z"
   },
   {
    "duration": 5,
    "start_time": "2023-02-27T16:19:07.355Z"
   },
   {
    "duration": 6,
    "start_time": "2023-02-27T16:19:07.362Z"
   },
   {
    "duration": 11,
    "start_time": "2023-02-27T16:19:07.369Z"
   },
   {
    "duration": 7,
    "start_time": "2023-02-27T16:19:07.382Z"
   },
   {
    "duration": 10,
    "start_time": "2023-02-27T16:19:07.390Z"
   },
   {
    "duration": 13,
    "start_time": "2023-02-27T16:19:07.403Z"
   },
   {
    "duration": 5,
    "start_time": "2023-02-27T16:19:07.418Z"
   },
   {
    "duration": 8,
    "start_time": "2023-02-27T16:19:07.449Z"
   },
   {
    "duration": 6,
    "start_time": "2023-02-27T16:19:07.459Z"
   },
   {
    "duration": 6,
    "start_time": "2023-02-27T16:19:07.467Z"
   },
   {
    "duration": 11,
    "start_time": "2023-02-27T16:19:07.474Z"
   },
   {
    "duration": 12,
    "start_time": "2023-02-27T16:19:07.486Z"
   },
   {
    "duration": 313,
    "start_time": "2023-02-27T16:19:07.500Z"
   },
   {
    "duration": 10,
    "start_time": "2023-02-27T16:19:07.814Z"
   },
   {
    "duration": 25,
    "start_time": "2023-02-27T16:19:07.825Z"
   },
   {
    "duration": 315,
    "start_time": "2023-02-27T16:19:07.851Z"
   },
   {
    "duration": 226,
    "start_time": "2023-02-27T16:19:08.168Z"
   },
   {
    "duration": 11,
    "start_time": "2023-02-27T16:19:08.396Z"
   },
   {
    "duration": 354,
    "start_time": "2023-02-27T16:19:08.408Z"
   },
   {
    "duration": 10,
    "start_time": "2023-02-27T16:19:08.764Z"
   },
   {
    "duration": 241,
    "start_time": "2023-02-27T16:19:08.775Z"
   },
   {
    "duration": 15,
    "start_time": "2023-02-27T16:19:09.017Z"
   },
   {
    "duration": 364,
    "start_time": "2023-02-27T16:19:09.033Z"
   },
   {
    "duration": 13,
    "start_time": "2023-02-27T16:19:09.399Z"
   },
   {
    "duration": 160,
    "start_time": "2023-02-27T16:19:09.414Z"
   },
   {
    "duration": 5,
    "start_time": "2023-02-27T16:19:09.576Z"
   },
   {
    "duration": 11,
    "start_time": "2023-02-27T16:19:09.583Z"
   },
   {
    "duration": 193,
    "start_time": "2023-02-27T16:19:09.596Z"
   },
   {
    "duration": 4,
    "start_time": "2023-02-27T16:19:09.791Z"
   },
   {
    "duration": 241,
    "start_time": "2023-02-27T16:19:09.797Z"
   },
   {
    "duration": 179,
    "start_time": "2023-02-27T16:19:10.040Z"
   },
   {
    "duration": 7,
    "start_time": "2023-02-27T16:19:10.221Z"
   },
   {
    "duration": 20,
    "start_time": "2023-02-27T16:19:10.231Z"
   },
   {
    "duration": 7,
    "start_time": "2023-02-27T16:19:10.252Z"
   },
   {
    "duration": 31,
    "start_time": "2023-02-27T16:19:10.261Z"
   },
   {
    "duration": 11,
    "start_time": "2023-02-27T16:19:10.294Z"
   },
   {
    "duration": 12,
    "start_time": "2023-02-27T16:19:10.307Z"
   },
   {
    "duration": 9,
    "start_time": "2023-02-27T16:19:10.348Z"
   },
   {
    "duration": 25,
    "start_time": "2023-02-27T16:19:10.359Z"
   },
   {
    "duration": 15,
    "start_time": "2023-02-27T16:19:10.386Z"
   },
   {
    "duration": 1114,
    "start_time": "2023-02-27T16:26:12.267Z"
   },
   {
    "duration": 44,
    "start_time": "2023-02-27T16:26:13.384Z"
   },
   {
    "duration": 14,
    "start_time": "2023-02-27T16:26:13.430Z"
   },
   {
    "duration": 24,
    "start_time": "2023-02-27T16:26:13.446Z"
   },
   {
    "duration": 45,
    "start_time": "2023-02-27T16:26:13.473Z"
   },
   {
    "duration": 20,
    "start_time": "2023-02-27T16:26:13.520Z"
   },
   {
    "duration": 16,
    "start_time": "2023-02-27T16:26:13.542Z"
   },
   {
    "duration": 16,
    "start_time": "2023-02-27T16:26:13.560Z"
   },
   {
    "duration": 9,
    "start_time": "2023-02-27T16:26:13.578Z"
   },
   {
    "duration": 7,
    "start_time": "2023-02-27T16:26:13.589Z"
   },
   {
    "duration": 8,
    "start_time": "2023-02-27T16:26:13.598Z"
   },
   {
    "duration": 7,
    "start_time": "2023-02-27T16:26:13.607Z"
   },
   {
    "duration": 9,
    "start_time": "2023-02-27T16:26:13.616Z"
   },
   {
    "duration": 12,
    "start_time": "2023-02-27T16:26:13.649Z"
   },
   {
    "duration": 5,
    "start_time": "2023-02-27T16:26:13.663Z"
   },
   {
    "duration": 6,
    "start_time": "2023-02-27T16:26:13.669Z"
   },
   {
    "duration": 7,
    "start_time": "2023-02-27T16:26:13.677Z"
   },
   {
    "duration": 5,
    "start_time": "2023-02-27T16:26:13.686Z"
   },
   {
    "duration": 13,
    "start_time": "2023-02-27T16:26:13.693Z"
   },
   {
    "duration": 8,
    "start_time": "2023-02-27T16:26:13.708Z"
   },
   {
    "duration": 324,
    "start_time": "2023-02-27T16:26:13.749Z"
   },
   {
    "duration": 10,
    "start_time": "2023-02-27T16:26:14.074Z"
   },
   {
    "duration": 15,
    "start_time": "2023-02-27T16:26:14.085Z"
   },
   {
    "duration": 320,
    "start_time": "2023-02-27T16:26:14.102Z"
   },
   {
    "duration": 263,
    "start_time": "2023-02-27T16:26:14.424Z"
   },
   {
    "duration": 67,
    "start_time": "2023-02-27T16:26:14.688Z"
   },
   {
    "duration": 347,
    "start_time": "2023-02-27T16:26:14.757Z"
   },
   {
    "duration": 11,
    "start_time": "2023-02-27T16:26:15.105Z"
   },
   {
    "duration": 402,
    "start_time": "2023-02-27T16:26:15.118Z"
   },
   {
    "duration": 26,
    "start_time": "2023-02-27T16:26:15.522Z"
   },
   {
    "duration": 340,
    "start_time": "2023-02-27T16:26:15.550Z"
   },
   {
    "duration": 13,
    "start_time": "2023-02-27T16:26:15.893Z"
   },
   {
    "duration": 168,
    "start_time": "2023-02-27T16:26:15.908Z"
   },
   {
    "duration": 4,
    "start_time": "2023-02-27T16:26:16.078Z"
   },
   {
    "duration": 12,
    "start_time": "2023-02-27T16:26:16.083Z"
   },
   {
    "duration": 208,
    "start_time": "2023-02-27T16:26:16.097Z"
   },
   {
    "duration": 9,
    "start_time": "2023-02-27T16:26:16.307Z"
   },
   {
    "duration": 286,
    "start_time": "2023-02-27T16:26:16.318Z"
   },
   {
    "duration": 175,
    "start_time": "2023-02-27T16:26:16.606Z"
   },
   {
    "duration": 8,
    "start_time": "2023-02-27T16:26:16.782Z"
   },
   {
    "duration": 7,
    "start_time": "2023-02-27T16:26:16.793Z"
   },
   {
    "duration": 15,
    "start_time": "2023-02-27T16:26:16.801Z"
   },
   {
    "duration": 42,
    "start_time": "2023-02-27T16:26:16.818Z"
   },
   {
    "duration": 12,
    "start_time": "2023-02-27T16:26:16.862Z"
   },
   {
    "duration": 11,
    "start_time": "2023-02-27T16:26:16.876Z"
   },
   {
    "duration": 11,
    "start_time": "2023-02-27T16:26:16.889Z"
   },
   {
    "duration": 54,
    "start_time": "2023-02-27T16:26:16.902Z"
   },
   {
    "duration": 18,
    "start_time": "2023-02-27T16:26:16.958Z"
   },
   {
    "duration": 1222,
    "start_time": "2023-02-27T18:35:12.054Z"
   },
   {
    "duration": 35,
    "start_time": "2023-02-27T18:35:13.279Z"
   },
   {
    "duration": 13,
    "start_time": "2023-02-27T18:35:13.316Z"
   },
   {
    "duration": 11,
    "start_time": "2023-02-27T18:35:13.332Z"
   },
   {
    "duration": 44,
    "start_time": "2023-02-27T18:35:13.345Z"
   },
   {
    "duration": 37,
    "start_time": "2023-02-27T18:35:13.391Z"
   },
   {
    "duration": 24,
    "start_time": "2023-02-27T18:35:13.430Z"
   },
   {
    "duration": 18,
    "start_time": "2023-02-27T18:35:13.456Z"
   },
   {
    "duration": 5,
    "start_time": "2023-02-27T18:35:13.477Z"
   },
   {
    "duration": 7,
    "start_time": "2023-02-27T18:35:13.485Z"
   },
   {
    "duration": 14,
    "start_time": "2023-02-27T18:35:13.494Z"
   },
   {
    "duration": 13,
    "start_time": "2023-02-27T18:35:13.510Z"
   },
   {
    "duration": 12,
    "start_time": "2023-02-27T18:35:13.525Z"
   },
   {
    "duration": 15,
    "start_time": "2023-02-27T18:35:13.539Z"
   },
   {
    "duration": 8,
    "start_time": "2023-02-27T18:35:13.556Z"
   },
   {
    "duration": 26,
    "start_time": "2023-02-27T18:35:13.565Z"
   },
   {
    "duration": 10,
    "start_time": "2023-02-27T18:35:13.593Z"
   },
   {
    "duration": 9,
    "start_time": "2023-02-27T18:35:13.605Z"
   },
   {
    "duration": 12,
    "start_time": "2023-02-27T18:35:13.616Z"
   },
   {
    "duration": 12,
    "start_time": "2023-02-27T18:35:13.630Z"
   },
   {
    "duration": 379,
    "start_time": "2023-02-27T18:35:13.644Z"
   },
   {
    "duration": 11,
    "start_time": "2023-02-27T18:35:14.025Z"
   },
   {
    "duration": 26,
    "start_time": "2023-02-27T18:35:14.038Z"
   },
   {
    "duration": 318,
    "start_time": "2023-02-27T18:35:14.065Z"
   },
   {
    "duration": 226,
    "start_time": "2023-02-27T18:35:14.385Z"
   },
   {
    "duration": 11,
    "start_time": "2023-02-27T18:35:14.613Z"
   },
   {
    "duration": 314,
    "start_time": "2023-02-27T18:35:14.625Z"
   },
   {
    "duration": 11,
    "start_time": "2023-02-27T18:35:14.944Z"
   },
   {
    "duration": 272,
    "start_time": "2023-02-27T18:35:14.956Z"
   },
   {
    "duration": 17,
    "start_time": "2023-02-27T18:35:15.230Z"
   },
   {
    "duration": 367,
    "start_time": "2023-02-27T18:35:15.248Z"
   },
   {
    "duration": 13,
    "start_time": "2023-02-27T18:35:15.616Z"
   },
   {
    "duration": 174,
    "start_time": "2023-02-27T18:35:15.631Z"
   },
   {
    "duration": 4,
    "start_time": "2023-02-27T18:35:15.806Z"
   },
   {
    "duration": 13,
    "start_time": "2023-02-27T18:35:15.812Z"
   },
   {
    "duration": 181,
    "start_time": "2023-02-27T18:35:15.827Z"
   },
   {
    "duration": 5,
    "start_time": "2023-02-27T18:35:16.009Z"
   },
   {
    "duration": 239,
    "start_time": "2023-02-27T18:35:16.016Z"
   },
   {
    "duration": 152,
    "start_time": "2023-02-27T18:35:16.257Z"
   },
   {
    "duration": 7,
    "start_time": "2023-02-27T18:35:16.411Z"
   },
   {
    "duration": 14,
    "start_time": "2023-02-27T18:35:16.420Z"
   },
   {
    "duration": 7,
    "start_time": "2023-02-27T18:35:16.436Z"
   },
   {
    "duration": 21,
    "start_time": "2023-02-27T18:35:16.445Z"
   },
   {
    "duration": 10,
    "start_time": "2023-02-27T18:35:16.485Z"
   },
   {
    "duration": 9,
    "start_time": "2023-02-27T18:35:16.497Z"
   },
   {
    "duration": 7,
    "start_time": "2023-02-27T18:35:16.507Z"
   },
   {
    "duration": 20,
    "start_time": "2023-02-27T18:35:16.516Z"
   },
   {
    "duration": 14,
    "start_time": "2023-02-27T18:35:16.537Z"
   },
   {
    "duration": 56,
    "start_time": "2023-02-28T06:25:41.440Z"
   },
   {
    "duration": 1263,
    "start_time": "2023-02-28T06:26:01.115Z"
   },
   {
    "duration": 86,
    "start_time": "2023-02-28T06:26:02.380Z"
   },
   {
    "duration": 11,
    "start_time": "2023-02-28T06:26:02.467Z"
   },
   {
    "duration": 29,
    "start_time": "2023-02-28T06:26:02.479Z"
   },
   {
    "duration": 92,
    "start_time": "2023-02-28T06:26:02.510Z"
   },
   {
    "duration": 73,
    "start_time": "2023-02-28T06:26:02.604Z"
   },
   {
    "duration": 28,
    "start_time": "2023-02-28T06:26:02.678Z"
   },
   {
    "duration": 13,
    "start_time": "2023-02-28T06:26:02.709Z"
   },
   {
    "duration": 5,
    "start_time": "2023-02-28T06:26:02.724Z"
   },
   {
    "duration": 6,
    "start_time": "2023-02-28T06:26:02.731Z"
   },
   {
    "duration": 9,
    "start_time": "2023-02-28T06:26:02.739Z"
   },
   {
    "duration": 19,
    "start_time": "2023-02-28T06:26:02.749Z"
   },
   {
    "duration": 28,
    "start_time": "2023-02-28T06:26:02.770Z"
   },
   {
    "duration": 14,
    "start_time": "2023-02-28T06:26:02.801Z"
   },
   {
    "duration": 9,
    "start_time": "2023-02-28T06:26:02.816Z"
   },
   {
    "duration": 8,
    "start_time": "2023-02-28T06:26:02.827Z"
   },
   {
    "duration": 10,
    "start_time": "2023-02-28T06:26:02.837Z"
   },
   {
    "duration": 9,
    "start_time": "2023-02-28T06:26:02.848Z"
   },
   {
    "duration": 15,
    "start_time": "2023-02-28T06:26:02.858Z"
   },
   {
    "duration": 10,
    "start_time": "2023-02-28T06:26:02.888Z"
   },
   {
    "duration": 373,
    "start_time": "2023-02-28T06:26:02.905Z"
   },
   {
    "duration": 21,
    "start_time": "2023-02-28T06:26:03.280Z"
   },
   {
    "duration": 27,
    "start_time": "2023-02-28T06:26:03.304Z"
   },
   {
    "duration": 332,
    "start_time": "2023-02-28T06:26:03.333Z"
   },
   {
    "duration": 213,
    "start_time": "2023-02-28T06:26:03.667Z"
   },
   {
    "duration": 17,
    "start_time": "2023-02-28T06:26:03.890Z"
   },
   {
    "duration": 331,
    "start_time": "2023-02-28T06:26:03.908Z"
   },
   {
    "duration": 11,
    "start_time": "2023-02-28T06:26:04.240Z"
   },
   {
    "duration": 267,
    "start_time": "2023-02-28T06:26:04.252Z"
   },
   {
    "duration": 13,
    "start_time": "2023-02-28T06:26:04.520Z"
   },
   {
    "duration": 322,
    "start_time": "2023-02-28T06:26:04.534Z"
   },
   {
    "duration": 11,
    "start_time": "2023-02-28T06:26:04.858Z"
   },
   {
    "duration": 174,
    "start_time": "2023-02-28T06:26:04.871Z"
   },
   {
    "duration": 4,
    "start_time": "2023-02-28T06:26:05.047Z"
   },
   {
    "duration": 45,
    "start_time": "2023-02-28T06:26:05.053Z"
   },
   {
    "duration": 203,
    "start_time": "2023-02-28T06:26:05.100Z"
   },
   {
    "duration": 3,
    "start_time": "2023-02-28T06:26:05.305Z"
   },
   {
    "duration": 257,
    "start_time": "2023-02-28T06:26:05.310Z"
   },
   {
    "duration": 203,
    "start_time": "2023-02-28T06:26:05.569Z"
   },
   {
    "duration": 28,
    "start_time": "2023-02-28T06:26:05.774Z"
   },
   {
    "duration": 27,
    "start_time": "2023-02-28T06:26:05.805Z"
   },
   {
    "duration": 18,
    "start_time": "2023-02-28T06:26:05.834Z"
   },
   {
    "duration": 26,
    "start_time": "2023-02-28T06:26:05.853Z"
   },
   {
    "duration": 43,
    "start_time": "2023-02-28T06:26:05.881Z"
   },
   {
    "duration": 23,
    "start_time": "2023-02-28T06:26:05.926Z"
   },
   {
    "duration": 9,
    "start_time": "2023-02-28T06:26:05.951Z"
   },
   {
    "duration": 29,
    "start_time": "2023-02-28T06:26:05.962Z"
   },
   {
    "duration": 21,
    "start_time": "2023-02-28T06:26:05.996Z"
   },
   {
    "duration": 11,
    "start_time": "2023-02-28T06:26:40.297Z"
   },
   {
    "duration": 65,
    "start_time": "2023-02-28T06:30:13.209Z"
   },
   {
    "duration": 9,
    "start_time": "2023-02-28T06:30:20.934Z"
   },
   {
    "duration": 11,
    "start_time": "2023-02-28T06:30:40.798Z"
   },
   {
    "duration": 307,
    "start_time": "2023-02-28T06:53:27.481Z"
   },
   {
    "duration": 161,
    "start_time": "2023-02-28T06:57:04.841Z"
   },
   {
    "duration": 57,
    "start_time": "2023-02-28T06:57:14.761Z"
   },
   {
    "duration": 162,
    "start_time": "2023-02-28T06:57:40.060Z"
   },
   {
    "duration": 169,
    "start_time": "2023-02-28T06:58:00.081Z"
   },
   {
    "duration": 197,
    "start_time": "2023-02-28T06:58:11.603Z"
   },
   {
    "duration": 171,
    "start_time": "2023-02-28T06:58:20.580Z"
   },
   {
    "duration": 166,
    "start_time": "2023-02-28T06:58:32.181Z"
   },
   {
    "duration": 7,
    "start_time": "2023-02-28T07:08:23.981Z"
   },
   {
    "duration": 985,
    "start_time": "2023-02-28T07:09:08.281Z"
   },
   {
    "duration": 14,
    "start_time": "2023-02-28T07:09:26.223Z"
   },
   {
    "duration": 5,
    "start_time": "2023-02-28T07:09:42.162Z"
   },
   {
    "duration": 7,
    "start_time": "2023-02-28T07:09:45.506Z"
   },
   {
    "duration": 15,
    "start_time": "2023-02-28T07:09:58.187Z"
   },
   {
    "duration": 30,
    "start_time": "2023-02-28T07:11:40.140Z"
   },
   {
    "duration": 61,
    "start_time": "2023-02-28T07:11:54.680Z"
   },
   {
    "duration": 5,
    "start_time": "2023-02-28T07:12:15.304Z"
   },
   {
    "duration": 9,
    "start_time": "2023-02-28T07:12:30.621Z"
   },
   {
    "duration": 16,
    "start_time": "2023-02-28T07:16:55.466Z"
   },
   {
    "duration": 6,
    "start_time": "2023-02-28T07:17:03.260Z"
   },
   {
    "duration": 146,
    "start_time": "2023-02-28T07:17:05.931Z"
   },
   {
    "duration": 11,
    "start_time": "2023-02-28T07:17:08.280Z"
   },
   {
    "duration": 5,
    "start_time": "2023-02-28T07:17:09.674Z"
   },
   {
    "duration": 7,
    "start_time": "2023-02-28T07:17:10.602Z"
   },
   {
    "duration": 8,
    "start_time": "2023-02-28T07:17:12.911Z"
   },
   {
    "duration": 5,
    "start_time": "2023-02-28T07:17:13.511Z"
   },
   {
    "duration": 36,
    "start_time": "2023-02-28T07:17:16.606Z"
   },
   {
    "duration": 9,
    "start_time": "2023-02-28T07:18:50.992Z"
   },
   {
    "duration": 22,
    "start_time": "2023-02-28T07:18:54.359Z"
   },
   {
    "duration": 14,
    "start_time": "2023-02-28T07:19:04.720Z"
   },
   {
    "duration": 1123,
    "start_time": "2023-02-28T07:19:34.617Z"
   },
   {
    "duration": 36,
    "start_time": "2023-02-28T07:19:35.742Z"
   },
   {
    "duration": 11,
    "start_time": "2023-02-28T07:19:35.780Z"
   },
   {
    "duration": 48,
    "start_time": "2023-02-28T07:19:35.793Z"
   },
   {
    "duration": 34,
    "start_time": "2023-02-28T07:19:35.842Z"
   },
   {
    "duration": 48,
    "start_time": "2023-02-28T07:19:35.878Z"
   },
   {
    "duration": 18,
    "start_time": "2023-02-28T07:19:35.928Z"
   },
   {
    "duration": 18,
    "start_time": "2023-02-28T07:19:35.948Z"
   },
   {
    "duration": 20,
    "start_time": "2023-02-28T07:19:35.968Z"
   },
   {
    "duration": 6,
    "start_time": "2023-02-28T07:19:35.991Z"
   },
   {
    "duration": 14,
    "start_time": "2023-02-28T07:19:35.999Z"
   },
   {
    "duration": 17,
    "start_time": "2023-02-28T07:19:36.014Z"
   },
   {
    "duration": 20,
    "start_time": "2023-02-28T07:19:36.033Z"
   },
   {
    "duration": 18,
    "start_time": "2023-02-28T07:19:36.055Z"
   },
   {
    "duration": 19,
    "start_time": "2023-02-28T07:19:36.075Z"
   },
   {
    "duration": 7,
    "start_time": "2023-02-28T07:19:36.095Z"
   },
   {
    "duration": 6,
    "start_time": "2023-02-28T07:19:36.103Z"
   },
   {
    "duration": 6,
    "start_time": "2023-02-28T07:19:36.111Z"
   },
   {
    "duration": 6,
    "start_time": "2023-02-28T07:19:36.118Z"
   },
   {
    "duration": 13,
    "start_time": "2023-02-28T07:19:36.125Z"
   },
   {
    "duration": 15,
    "start_time": "2023-02-28T07:19:36.139Z"
   },
   {
    "duration": 301,
    "start_time": "2023-02-28T07:19:36.155Z"
   },
   {
    "duration": 9,
    "start_time": "2023-02-28T07:19:36.457Z"
   },
   {
    "duration": 19,
    "start_time": "2023-02-28T07:19:36.467Z"
   },
   {
    "duration": 297,
    "start_time": "2023-02-28T07:19:36.488Z"
   },
   {
    "duration": 213,
    "start_time": "2023-02-28T07:19:36.787Z"
   },
   {
    "duration": 11,
    "start_time": "2023-02-28T07:19:37.002Z"
   },
   {
    "duration": 305,
    "start_time": "2023-02-28T07:19:37.017Z"
   },
   {
    "duration": 11,
    "start_time": "2023-02-28T07:19:37.324Z"
   },
   {
    "duration": 244,
    "start_time": "2023-02-28T07:19:37.336Z"
   },
   {
    "duration": 14,
    "start_time": "2023-02-28T07:19:37.582Z"
   },
   {
    "duration": 312,
    "start_time": "2023-02-28T07:19:37.597Z"
   },
   {
    "duration": 11,
    "start_time": "2023-02-28T07:19:37.911Z"
   },
   {
    "duration": 163,
    "start_time": "2023-02-28T07:19:37.924Z"
   },
   {
    "duration": 5,
    "start_time": "2023-02-28T07:19:38.089Z"
   },
   {
    "duration": 48,
    "start_time": "2023-02-28T07:19:38.096Z"
   },
   {
    "duration": 179,
    "start_time": "2023-02-28T07:19:38.146Z"
   },
   {
    "duration": 181,
    "start_time": "2023-02-28T07:19:38.327Z"
   },
   {
    "duration": 5,
    "start_time": "2023-02-28T07:19:38.509Z"
   },
   {
    "duration": 16,
    "start_time": "2023-02-28T07:19:38.515Z"
   },
   {
    "duration": 142,
    "start_time": "2023-02-28T07:19:38.532Z"
   },
   {
    "duration": 10,
    "start_time": "2023-02-28T07:19:38.675Z"
   },
   {
    "duration": 106,
    "start_time": "2023-02-28T07:19:38.687Z"
   },
   {
    "duration": 0,
    "start_time": "2023-02-28T07:19:38.794Z"
   },
   {
    "duration": 0,
    "start_time": "2023-02-28T07:19:38.796Z"
   },
   {
    "duration": 0,
    "start_time": "2023-02-28T07:19:38.868Z"
   },
   {
    "duration": 0,
    "start_time": "2023-02-28T07:19:38.869Z"
   },
   {
    "duration": 0,
    "start_time": "2023-02-28T07:19:38.870Z"
   },
   {
    "duration": 0,
    "start_time": "2023-02-28T07:19:38.871Z"
   },
   {
    "duration": 0,
    "start_time": "2023-02-28T07:19:38.886Z"
   },
   {
    "duration": 0,
    "start_time": "2023-02-28T07:19:38.887Z"
   },
   {
    "duration": 0,
    "start_time": "2023-02-28T07:19:38.888Z"
   },
   {
    "duration": 1040,
    "start_time": "2023-02-28T07:20:16.901Z"
   },
   {
    "duration": 33,
    "start_time": "2023-02-28T07:20:17.943Z"
   },
   {
    "duration": 13,
    "start_time": "2023-02-28T07:20:17.977Z"
   },
   {
    "duration": 11,
    "start_time": "2023-02-28T07:20:17.992Z"
   },
   {
    "duration": 18,
    "start_time": "2023-02-28T07:20:18.005Z"
   },
   {
    "duration": 40,
    "start_time": "2023-02-28T07:20:18.024Z"
   },
   {
    "duration": 17,
    "start_time": "2023-02-28T07:20:18.066Z"
   },
   {
    "duration": 17,
    "start_time": "2023-02-28T07:20:18.084Z"
   },
   {
    "duration": 44,
    "start_time": "2023-02-28T07:20:18.103Z"
   },
   {
    "duration": 10,
    "start_time": "2023-02-28T07:20:18.148Z"
   },
   {
    "duration": 11,
    "start_time": "2023-02-28T07:20:18.160Z"
   },
   {
    "duration": 12,
    "start_time": "2023-02-28T07:20:18.173Z"
   },
   {
    "duration": 17,
    "start_time": "2023-02-28T07:20:18.186Z"
   },
   {
    "duration": 14,
    "start_time": "2023-02-28T07:20:18.206Z"
   },
   {
    "duration": 13,
    "start_time": "2023-02-28T07:20:18.221Z"
   },
   {
    "duration": 14,
    "start_time": "2023-02-28T07:20:18.236Z"
   },
   {
    "duration": 7,
    "start_time": "2023-02-28T07:20:18.251Z"
   },
   {
    "duration": 9,
    "start_time": "2023-02-28T07:20:18.260Z"
   },
   {
    "duration": 22,
    "start_time": "2023-02-28T07:20:18.270Z"
   },
   {
    "duration": 13,
    "start_time": "2023-02-28T07:20:18.293Z"
   },
   {
    "duration": 13,
    "start_time": "2023-02-28T07:20:18.308Z"
   },
   {
    "duration": 288,
    "start_time": "2023-02-28T07:20:18.322Z"
   },
   {
    "duration": 10,
    "start_time": "2023-02-28T07:20:18.612Z"
   },
   {
    "duration": 10,
    "start_time": "2023-02-28T07:20:18.624Z"
   },
   {
    "duration": 315,
    "start_time": "2023-02-28T07:20:18.636Z"
   },
   {
    "duration": 233,
    "start_time": "2023-02-28T07:20:18.953Z"
   },
   {
    "duration": 20,
    "start_time": "2023-02-28T07:20:19.187Z"
   },
   {
    "duration": 310,
    "start_time": "2023-02-28T07:20:19.209Z"
   },
   {
    "duration": 13,
    "start_time": "2023-02-28T07:20:19.520Z"
   },
   {
    "duration": 268,
    "start_time": "2023-02-28T07:20:19.534Z"
   },
   {
    "duration": 14,
    "start_time": "2023-02-28T07:20:19.804Z"
   },
   {
    "duration": 320,
    "start_time": "2023-02-28T07:20:19.820Z"
   },
   {
    "duration": 12,
    "start_time": "2023-02-28T07:20:20.142Z"
   },
   {
    "duration": 171,
    "start_time": "2023-02-28T07:20:20.155Z"
   },
   {
    "duration": 5,
    "start_time": "2023-02-28T07:20:20.328Z"
   },
   {
    "duration": 17,
    "start_time": "2023-02-28T07:20:20.335Z"
   },
   {
    "duration": 181,
    "start_time": "2023-02-28T07:20:20.354Z"
   },
   {
    "duration": 181,
    "start_time": "2023-02-28T07:20:20.537Z"
   },
   {
    "duration": 3,
    "start_time": "2023-02-28T07:20:20.720Z"
   },
   {
    "duration": 16,
    "start_time": "2023-02-28T07:20:20.725Z"
   },
   {
    "duration": 152,
    "start_time": "2023-02-28T07:20:20.745Z"
   },
   {
    "duration": 7,
    "start_time": "2023-02-28T07:20:20.898Z"
   },
   {
    "duration": 17,
    "start_time": "2023-02-28T07:20:20.907Z"
   },
   {
    "duration": 25,
    "start_time": "2023-02-28T07:20:20.925Z"
   },
   {
    "duration": 21,
    "start_time": "2023-02-28T07:20:20.952Z"
   },
   {
    "duration": 26,
    "start_time": "2023-02-28T07:20:20.975Z"
   },
   {
    "duration": 102,
    "start_time": "2023-02-28T07:20:21.003Z"
   },
   {
    "duration": 29,
    "start_time": "2023-02-28T07:20:21.106Z"
   },
   {
    "duration": 37,
    "start_time": "2023-02-28T07:20:21.137Z"
   },
   {
    "duration": 57,
    "start_time": "2023-02-28T07:20:21.176Z"
   },
   {
    "duration": 58,
    "start_time": "2023-02-28T07:20:21.235Z"
   },
   {
    "duration": 1101,
    "start_time": "2023-02-28T07:23:17.819Z"
   },
   {
    "duration": 35,
    "start_time": "2023-02-28T07:23:18.922Z"
   },
   {
    "duration": 12,
    "start_time": "2023-02-28T07:23:18.959Z"
   },
   {
    "duration": 12,
    "start_time": "2023-02-28T07:23:18.972Z"
   },
   {
    "duration": 11,
    "start_time": "2023-02-28T07:23:18.986Z"
   },
   {
    "duration": 41,
    "start_time": "2023-02-28T07:23:18.999Z"
   },
   {
    "duration": 19,
    "start_time": "2023-02-28T07:23:19.041Z"
   },
   {
    "duration": 17,
    "start_time": "2023-02-28T07:23:19.062Z"
   },
   {
    "duration": 17,
    "start_time": "2023-02-28T07:23:19.080Z"
   },
   {
    "duration": 5,
    "start_time": "2023-02-28T07:23:19.100Z"
   },
   {
    "duration": 9,
    "start_time": "2023-02-28T07:23:19.106Z"
   },
   {
    "duration": 9,
    "start_time": "2023-02-28T07:23:19.117Z"
   },
   {
    "duration": 8,
    "start_time": "2023-02-28T07:23:19.128Z"
   },
   {
    "duration": 11,
    "start_time": "2023-02-28T07:23:19.138Z"
   },
   {
    "duration": 14,
    "start_time": "2023-02-28T07:23:19.150Z"
   },
   {
    "duration": 22,
    "start_time": "2023-02-28T07:23:19.165Z"
   },
   {
    "duration": 8,
    "start_time": "2023-02-28T07:23:19.189Z"
   },
   {
    "duration": 10,
    "start_time": "2023-02-28T07:23:19.199Z"
   },
   {
    "duration": 31,
    "start_time": "2023-02-28T07:23:19.210Z"
   },
   {
    "duration": 17,
    "start_time": "2023-02-28T07:23:19.243Z"
   },
   {
    "duration": 12,
    "start_time": "2023-02-28T07:23:19.261Z"
   },
   {
    "duration": 323,
    "start_time": "2023-02-28T07:23:19.275Z"
   },
   {
    "duration": 10,
    "start_time": "2023-02-28T07:23:19.600Z"
   },
   {
    "duration": 17,
    "start_time": "2023-02-28T07:23:19.612Z"
   },
   {
    "duration": 313,
    "start_time": "2023-02-28T07:23:19.631Z"
   },
   {
    "duration": 217,
    "start_time": "2023-02-28T07:23:19.946Z"
   },
   {
    "duration": 21,
    "start_time": "2023-02-28T07:23:20.165Z"
   },
   {
    "duration": 314,
    "start_time": "2023-02-28T07:23:20.189Z"
   },
   {
    "duration": 12,
    "start_time": "2023-02-28T07:23:20.504Z"
   },
   {
    "duration": 259,
    "start_time": "2023-02-28T07:23:20.517Z"
   },
   {
    "duration": 19,
    "start_time": "2023-02-28T07:23:20.777Z"
   },
   {
    "duration": 315,
    "start_time": "2023-02-28T07:23:20.798Z"
   },
   {
    "duration": 11,
    "start_time": "2023-02-28T07:23:21.114Z"
   },
   {
    "duration": 172,
    "start_time": "2023-02-28T07:23:21.127Z"
   },
   {
    "duration": 5,
    "start_time": "2023-02-28T07:23:21.301Z"
   },
   {
    "duration": 17,
    "start_time": "2023-02-28T07:23:21.307Z"
   },
   {
    "duration": 182,
    "start_time": "2023-02-28T07:23:21.326Z"
   },
   {
    "duration": 184,
    "start_time": "2023-02-28T07:23:21.509Z"
   },
   {
    "duration": 4,
    "start_time": "2023-02-28T07:23:21.694Z"
   },
   {
    "duration": 13,
    "start_time": "2023-02-28T07:23:21.700Z"
   },
   {
    "duration": 143,
    "start_time": "2023-02-28T07:23:21.714Z"
   },
   {
    "duration": 6,
    "start_time": "2023-02-28T07:23:21.859Z"
   },
   {
    "duration": 19,
    "start_time": "2023-02-28T07:23:21.867Z"
   },
   {
    "duration": 6,
    "start_time": "2023-02-28T07:23:21.887Z"
   },
   {
    "duration": 106,
    "start_time": "2023-02-28T07:23:21.894Z"
   },
   {
    "duration": 10,
    "start_time": "2023-02-28T07:23:22.002Z"
   },
   {
    "duration": 33,
    "start_time": "2023-02-28T07:23:22.014Z"
   },
   {
    "duration": 8,
    "start_time": "2023-02-28T07:23:22.049Z"
   },
   {
    "duration": 42,
    "start_time": "2023-02-28T07:23:22.058Z"
   },
   {
    "duration": 31,
    "start_time": "2023-02-28T07:23:22.102Z"
   },
   {
    "duration": 23,
    "start_time": "2023-02-28T07:25:31.657Z"
   },
   {
    "duration": 20,
    "start_time": "2023-02-28T07:26:14.718Z"
   },
   {
    "duration": 21,
    "start_time": "2023-02-28T07:26:31.077Z"
   },
   {
    "duration": 10,
    "start_time": "2023-02-28T07:29:11.957Z"
   },
   {
    "duration": 10,
    "start_time": "2023-02-28T07:31:11.859Z"
   },
   {
    "duration": 31,
    "start_time": "2023-02-28T07:33:02.597Z"
   },
   {
    "duration": 22,
    "start_time": "2023-02-28T07:33:57.263Z"
   },
   {
    "duration": 15,
    "start_time": "2023-02-28T07:36:30.241Z"
   },
   {
    "duration": 339,
    "start_time": "2023-02-28T07:38:53.166Z"
   },
   {
    "duration": 14,
    "start_time": "2023-02-28T07:42:51.184Z"
   },
   {
    "duration": 293,
    "start_time": "2023-02-28T07:42:55.377Z"
   },
   {
    "duration": 13,
    "start_time": "2023-02-28T07:43:03.778Z"
   },
   {
    "duration": 855,
    "start_time": "2023-02-28T07:43:30.237Z"
   },
   {
    "duration": 823,
    "start_time": "2023-02-28T07:43:44.937Z"
   },
   {
    "duration": 1073,
    "start_time": "2023-02-28T07:43:52.178Z"
   },
   {
    "duration": 36,
    "start_time": "2023-02-28T07:43:53.253Z"
   },
   {
    "duration": 13,
    "start_time": "2023-02-28T07:43:53.291Z"
   },
   {
    "duration": 12,
    "start_time": "2023-02-28T07:43:53.305Z"
   },
   {
    "duration": 20,
    "start_time": "2023-02-28T07:43:53.319Z"
   },
   {
    "duration": 48,
    "start_time": "2023-02-28T07:43:53.340Z"
   },
   {
    "duration": 19,
    "start_time": "2023-02-28T07:43:53.390Z"
   },
   {
    "duration": 19,
    "start_time": "2023-02-28T07:43:53.410Z"
   },
   {
    "duration": 23,
    "start_time": "2023-02-28T07:43:53.431Z"
   },
   {
    "duration": 9,
    "start_time": "2023-02-28T07:43:53.457Z"
   },
   {
    "duration": 7,
    "start_time": "2023-02-28T07:43:53.467Z"
   },
   {
    "duration": 10,
    "start_time": "2023-02-28T07:43:53.475Z"
   },
   {
    "duration": 29,
    "start_time": "2023-02-28T07:43:53.487Z"
   },
   {
    "duration": 14,
    "start_time": "2023-02-28T07:43:53.518Z"
   },
   {
    "duration": 13,
    "start_time": "2023-02-28T07:43:53.533Z"
   },
   {
    "duration": 4,
    "start_time": "2023-02-28T07:43:53.548Z"
   },
   {
    "duration": 6,
    "start_time": "2023-02-28T07:43:53.553Z"
   },
   {
    "duration": 10,
    "start_time": "2023-02-28T07:43:53.561Z"
   },
   {
    "duration": 6,
    "start_time": "2023-02-28T07:43:53.572Z"
   },
   {
    "duration": 10,
    "start_time": "2023-02-28T07:43:53.580Z"
   },
   {
    "duration": 10,
    "start_time": "2023-02-28T07:43:53.592Z"
   },
   {
    "duration": 299,
    "start_time": "2023-02-28T07:43:53.604Z"
   },
   {
    "duration": 9,
    "start_time": "2023-02-28T07:43:53.905Z"
   },
   {
    "duration": 19,
    "start_time": "2023-02-28T07:43:53.916Z"
   },
   {
    "duration": 294,
    "start_time": "2023-02-28T07:43:53.937Z"
   },
   {
    "duration": 228,
    "start_time": "2023-02-28T07:43:54.233Z"
   },
   {
    "duration": 12,
    "start_time": "2023-02-28T07:43:54.462Z"
   },
   {
    "duration": 330,
    "start_time": "2023-02-28T07:43:54.486Z"
   },
   {
    "duration": 11,
    "start_time": "2023-02-28T07:43:54.818Z"
   },
   {
    "duration": 256,
    "start_time": "2023-02-28T07:43:54.830Z"
   },
   {
    "duration": 14,
    "start_time": "2023-02-28T07:43:55.088Z"
   },
   {
    "duration": 118,
    "start_time": "2023-02-28T07:43:55.104Z"
   },
   {
    "duration": 0,
    "start_time": "2023-02-28T07:43:55.224Z"
   },
   {
    "duration": 0,
    "start_time": "2023-02-28T07:43:55.225Z"
   },
   {
    "duration": 0,
    "start_time": "2023-02-28T07:43:55.226Z"
   },
   {
    "duration": 0,
    "start_time": "2023-02-28T07:43:55.228Z"
   },
   {
    "duration": 0,
    "start_time": "2023-02-28T07:43:55.229Z"
   },
   {
    "duration": 0,
    "start_time": "2023-02-28T07:43:55.230Z"
   },
   {
    "duration": 0,
    "start_time": "2023-02-28T07:43:55.232Z"
   },
   {
    "duration": 0,
    "start_time": "2023-02-28T07:43:55.233Z"
   },
   {
    "duration": 0,
    "start_time": "2023-02-28T07:43:55.234Z"
   },
   {
    "duration": 0,
    "start_time": "2023-02-28T07:43:55.235Z"
   },
   {
    "duration": 0,
    "start_time": "2023-02-28T07:43:55.237Z"
   },
   {
    "duration": 0,
    "start_time": "2023-02-28T07:43:55.237Z"
   },
   {
    "duration": 0,
    "start_time": "2023-02-28T07:43:55.239Z"
   },
   {
    "duration": 0,
    "start_time": "2023-02-28T07:43:55.240Z"
   },
   {
    "duration": 0,
    "start_time": "2023-02-28T07:43:55.241Z"
   },
   {
    "duration": 0,
    "start_time": "2023-02-28T07:43:55.242Z"
   },
   {
    "duration": 0,
    "start_time": "2023-02-28T07:43:55.244Z"
   },
   {
    "duration": 0,
    "start_time": "2023-02-28T07:43:55.245Z"
   },
   {
    "duration": 321,
    "start_time": "2023-02-28T07:44:30.898Z"
   },
   {
    "duration": 1129,
    "start_time": "2023-02-28T07:44:40.949Z"
   },
   {
    "duration": 39,
    "start_time": "2023-02-28T07:44:42.080Z"
   },
   {
    "duration": 12,
    "start_time": "2023-02-28T07:44:42.121Z"
   },
   {
    "duration": 11,
    "start_time": "2023-02-28T07:44:42.135Z"
   },
   {
    "duration": 19,
    "start_time": "2023-02-28T07:44:42.149Z"
   },
   {
    "duration": 42,
    "start_time": "2023-02-28T07:44:42.169Z"
   },
   {
    "duration": 18,
    "start_time": "2023-02-28T07:44:42.213Z"
   },
   {
    "duration": 35,
    "start_time": "2023-02-28T07:44:42.233Z"
   },
   {
    "duration": 25,
    "start_time": "2023-02-28T07:44:42.270Z"
   },
   {
    "duration": 13,
    "start_time": "2023-02-28T07:44:42.297Z"
   },
   {
    "duration": 10,
    "start_time": "2023-02-28T07:44:42.312Z"
   },
   {
    "duration": 19,
    "start_time": "2023-02-28T07:44:42.324Z"
   },
   {
    "duration": 13,
    "start_time": "2023-02-28T07:44:42.344Z"
   },
   {
    "duration": 12,
    "start_time": "2023-02-28T07:44:42.361Z"
   },
   {
    "duration": 20,
    "start_time": "2023-02-28T07:44:42.374Z"
   },
   {
    "duration": 6,
    "start_time": "2023-02-28T07:44:42.395Z"
   },
   {
    "duration": 10,
    "start_time": "2023-02-28T07:44:42.403Z"
   },
   {
    "duration": 7,
    "start_time": "2023-02-28T07:44:42.415Z"
   },
   {
    "duration": 14,
    "start_time": "2023-02-28T07:44:42.424Z"
   },
   {
    "duration": 15,
    "start_time": "2023-02-28T07:44:42.439Z"
   },
   {
    "duration": 18,
    "start_time": "2023-02-28T07:44:42.456Z"
   },
   {
    "duration": 294,
    "start_time": "2023-02-28T07:44:42.476Z"
   },
   {
    "duration": 20,
    "start_time": "2023-02-28T07:44:42.772Z"
   },
   {
    "duration": 12,
    "start_time": "2023-02-28T07:44:42.794Z"
   },
   {
    "duration": 334,
    "start_time": "2023-02-28T07:44:42.808Z"
   },
   {
    "duration": 222,
    "start_time": "2023-02-28T07:44:43.144Z"
   },
   {
    "duration": 17,
    "start_time": "2023-02-28T07:44:43.368Z"
   },
   {
    "duration": 322,
    "start_time": "2023-02-28T07:44:43.387Z"
   },
   {
    "duration": 11,
    "start_time": "2023-02-28T07:44:43.711Z"
   },
   {
    "duration": 267,
    "start_time": "2023-02-28T07:44:43.724Z"
   },
   {
    "duration": 14,
    "start_time": "2023-02-28T07:44:43.993Z"
   },
   {
    "duration": 310,
    "start_time": "2023-02-28T07:44:44.009Z"
   },
   {
    "duration": 11,
    "start_time": "2023-02-28T07:44:44.321Z"
   },
   {
    "duration": 180,
    "start_time": "2023-02-28T07:44:44.334Z"
   },
   {
    "duration": 5,
    "start_time": "2023-02-28T07:44:44.516Z"
   },
   {
    "duration": 19,
    "start_time": "2023-02-28T07:44:44.523Z"
   },
   {
    "duration": 188,
    "start_time": "2023-02-28T07:44:44.544Z"
   },
   {
    "duration": 176,
    "start_time": "2023-02-28T07:44:44.734Z"
   },
   {
    "duration": 4,
    "start_time": "2023-02-28T07:44:44.912Z"
   },
   {
    "duration": 13,
    "start_time": "2023-02-28T07:44:44.918Z"
   },
   {
    "duration": 150,
    "start_time": "2023-02-28T07:44:44.935Z"
   },
   {
    "duration": 6,
    "start_time": "2023-02-28T07:44:45.087Z"
   },
   {
    "duration": 26,
    "start_time": "2023-02-28T07:44:45.095Z"
   },
   {
    "duration": 9,
    "start_time": "2023-02-28T07:44:45.123Z"
   },
   {
    "duration": 48,
    "start_time": "2023-02-28T07:44:45.134Z"
   },
   {
    "duration": 101,
    "start_time": "2023-02-28T07:44:45.184Z"
   },
   {
    "duration": 9,
    "start_time": "2023-02-28T07:44:45.287Z"
   },
   {
    "duration": 14,
    "start_time": "2023-02-28T07:44:45.298Z"
   },
   {
    "duration": 38,
    "start_time": "2023-02-28T07:44:45.314Z"
   },
   {
    "duration": 13,
    "start_time": "2023-02-28T07:44:45.354Z"
   },
   {
    "duration": 1489,
    "start_time": "2023-02-28T07:50:42.786Z"
   },
   {
    "duration": 35,
    "start_time": "2023-02-28T07:50:44.277Z"
   },
   {
    "duration": 15,
    "start_time": "2023-02-28T07:50:44.314Z"
   },
   {
    "duration": 12,
    "start_time": "2023-02-28T07:50:44.330Z"
   },
   {
    "duration": 29,
    "start_time": "2023-02-28T07:50:44.345Z"
   },
   {
    "duration": 57,
    "start_time": "2023-02-28T07:50:44.377Z"
   },
   {
    "duration": 20,
    "start_time": "2023-02-28T07:50:44.436Z"
   },
   {
    "duration": 19,
    "start_time": "2023-02-28T07:50:44.458Z"
   },
   {
    "duration": 14,
    "start_time": "2023-02-28T07:50:44.479Z"
   },
   {
    "duration": 11,
    "start_time": "2023-02-28T07:50:44.495Z"
   },
   {
    "duration": 7,
    "start_time": "2023-02-28T07:50:44.508Z"
   },
   {
    "duration": 24,
    "start_time": "2023-02-28T07:50:44.516Z"
   },
   {
    "duration": 35,
    "start_time": "2023-02-28T07:50:44.542Z"
   },
   {
    "duration": 33,
    "start_time": "2023-02-28T07:50:44.580Z"
   },
   {
    "duration": 24,
    "start_time": "2023-02-28T07:50:44.614Z"
   },
   {
    "duration": 23,
    "start_time": "2023-02-28T07:50:44.640Z"
   },
   {
    "duration": 14,
    "start_time": "2023-02-28T07:50:44.665Z"
   },
   {
    "duration": 17,
    "start_time": "2023-02-28T07:50:44.681Z"
   },
   {
    "duration": 9,
    "start_time": "2023-02-28T07:50:44.700Z"
   },
   {
    "duration": 19,
    "start_time": "2023-02-28T07:50:44.710Z"
   },
   {
    "duration": 19,
    "start_time": "2023-02-28T07:50:44.730Z"
   },
   {
    "duration": 293,
    "start_time": "2023-02-28T07:50:44.750Z"
   },
   {
    "duration": 9,
    "start_time": "2023-02-28T07:50:45.045Z"
   },
   {
    "duration": 18,
    "start_time": "2023-02-28T07:50:45.056Z"
   },
   {
    "duration": 321,
    "start_time": "2023-02-28T07:50:45.076Z"
   },
   {
    "duration": 270,
    "start_time": "2023-02-28T07:50:45.399Z"
   },
   {
    "duration": 19,
    "start_time": "2023-02-28T07:50:45.671Z"
   },
   {
    "duration": 315,
    "start_time": "2023-02-28T07:50:45.692Z"
   },
   {
    "duration": 11,
    "start_time": "2023-02-28T07:50:46.009Z"
   },
   {
    "duration": 252,
    "start_time": "2023-02-28T07:50:46.022Z"
   },
   {
    "duration": 15,
    "start_time": "2023-02-28T07:50:46.275Z"
   },
   {
    "duration": 316,
    "start_time": "2023-02-28T07:50:46.292Z"
   },
   {
    "duration": 11,
    "start_time": "2023-02-28T07:50:46.609Z"
   },
   {
    "duration": 164,
    "start_time": "2023-02-28T07:50:46.622Z"
   },
   {
    "duration": 4,
    "start_time": "2023-02-28T07:50:46.787Z"
   },
   {
    "duration": 19,
    "start_time": "2023-02-28T07:50:46.793Z"
   },
   {
    "duration": 204,
    "start_time": "2023-02-28T07:50:46.814Z"
   },
   {
    "duration": 194,
    "start_time": "2023-02-28T07:50:47.020Z"
   },
   {
    "duration": 5,
    "start_time": "2023-02-28T07:50:47.216Z"
   },
   {
    "duration": 11,
    "start_time": "2023-02-28T07:50:47.223Z"
   },
   {
    "duration": 151,
    "start_time": "2023-02-28T07:50:47.238Z"
   },
   {
    "duration": 6,
    "start_time": "2023-02-28T07:50:47.391Z"
   },
   {
    "duration": 87,
    "start_time": "2023-02-28T07:50:47.399Z"
   },
   {
    "duration": 11,
    "start_time": "2023-02-28T07:50:47.488Z"
   },
   {
    "duration": 38,
    "start_time": "2023-02-28T07:50:47.501Z"
   },
   {
    "duration": 86,
    "start_time": "2023-02-28T07:50:47.541Z"
   },
   {
    "duration": 12,
    "start_time": "2023-02-28T07:50:47.628Z"
   },
   {
    "duration": 8,
    "start_time": "2023-02-28T07:50:47.641Z"
   },
   {
    "duration": 37,
    "start_time": "2023-02-28T07:50:47.651Z"
   },
   {
    "duration": 52,
    "start_time": "2023-02-28T07:50:47.690Z"
   },
   {
    "duration": 1097,
    "start_time": "2023-11-21T13:22:31.392Z"
   },
   {
    "duration": 81,
    "start_time": "2023-11-21T13:22:32.491Z"
   },
   {
    "duration": 13,
    "start_time": "2023-11-21T13:22:32.574Z"
   },
   {
    "duration": 21,
    "start_time": "2023-11-21T13:22:32.588Z"
   },
   {
    "duration": 64,
    "start_time": "2023-11-21T13:22:32.612Z"
   },
   {
    "duration": 97,
    "start_time": "2023-11-21T13:22:32.678Z"
   },
   {
    "duration": 60,
    "start_time": "2023-11-21T13:22:32.777Z"
   },
   {
    "duration": 17,
    "start_time": "2023-11-21T13:22:32.838Z"
   },
   {
    "duration": 23,
    "start_time": "2023-11-21T13:22:32.857Z"
   },
   {
    "duration": 17,
    "start_time": "2023-11-21T13:22:32.882Z"
   },
   {
    "duration": 13,
    "start_time": "2023-11-21T13:22:32.901Z"
   },
   {
    "duration": 24,
    "start_time": "2023-11-21T13:22:32.916Z"
   },
   {
    "duration": 20,
    "start_time": "2023-11-21T13:22:32.942Z"
   },
   {
    "duration": 16,
    "start_time": "2023-11-21T13:22:32.965Z"
   },
   {
    "duration": 28,
    "start_time": "2023-11-21T13:22:32.983Z"
   },
   {
    "duration": 8,
    "start_time": "2023-11-21T13:22:33.013Z"
   },
   {
    "duration": 28,
    "start_time": "2023-11-21T13:22:33.023Z"
   },
   {
    "duration": 44,
    "start_time": "2023-11-21T13:22:33.052Z"
   },
   {
    "duration": 30,
    "start_time": "2023-11-21T13:22:33.097Z"
   },
   {
    "duration": 19,
    "start_time": "2023-11-21T13:22:33.129Z"
   },
   {
    "duration": 47,
    "start_time": "2023-11-21T13:22:33.150Z"
   },
   {
    "duration": 295,
    "start_time": "2023-11-21T13:22:33.199Z"
   },
   {
    "duration": 9,
    "start_time": "2023-11-21T13:22:33.496Z"
   },
   {
    "duration": 14,
    "start_time": "2023-11-21T13:22:33.506Z"
   },
   {
    "duration": 280,
    "start_time": "2023-11-21T13:22:33.531Z"
   },
   {
    "duration": 197,
    "start_time": "2023-11-21T13:22:33.812Z"
   },
   {
    "duration": 11,
    "start_time": "2023-11-21T13:22:34.010Z"
   },
   {
    "duration": 308,
    "start_time": "2023-11-21T13:22:34.031Z"
   },
   {
    "duration": 10,
    "start_time": "2023-11-21T13:22:34.341Z"
   },
   {
    "duration": 225,
    "start_time": "2023-11-21T13:22:34.352Z"
   },
   {
    "duration": 12,
    "start_time": "2023-11-21T13:22:34.579Z"
   },
   {
    "duration": 332,
    "start_time": "2023-11-21T13:22:34.592Z"
   },
   {
    "duration": 13,
    "start_time": "2023-11-21T13:22:34.925Z"
   },
   {
    "duration": 157,
    "start_time": "2023-11-21T13:22:34.939Z"
   },
   {
    "duration": 4,
    "start_time": "2023-11-21T13:22:35.098Z"
   },
   {
    "duration": 32,
    "start_time": "2023-11-21T13:22:35.103Z"
   },
   {
    "duration": 180,
    "start_time": "2023-11-21T13:22:35.136Z"
   },
   {
    "duration": 167,
    "start_time": "2023-11-21T13:22:35.318Z"
   },
   {
    "duration": 4,
    "start_time": "2023-11-21T13:22:35.487Z"
   },
   {
    "duration": 42,
    "start_time": "2023-11-21T13:22:35.493Z"
   },
   {
    "duration": 151,
    "start_time": "2023-11-21T13:22:35.540Z"
   },
   {
    "duration": 6,
    "start_time": "2023-11-21T13:22:35.693Z"
   },
   {
    "duration": 26,
    "start_time": "2023-11-21T13:22:35.701Z"
   },
   {
    "duration": 20,
    "start_time": "2023-11-21T13:22:35.729Z"
   },
   {
    "duration": 26,
    "start_time": "2023-11-21T13:22:35.751Z"
   },
   {
    "duration": 87,
    "start_time": "2023-11-21T13:22:35.778Z"
   },
   {
    "duration": 15,
    "start_time": "2023-11-21T13:22:35.867Z"
   },
   {
    "duration": 7,
    "start_time": "2023-11-21T13:22:35.883Z"
   },
   {
    "duration": 40,
    "start_time": "2023-11-21T13:22:35.892Z"
   },
   {
    "duration": 14,
    "start_time": "2023-11-21T13:22:35.933Z"
   }
  ],
  "kernelspec": {
   "display_name": "Python 3 (ipykernel)",
   "language": "python",
   "name": "python3"
  },
  "language_info": {
   "codemirror_mode": {
    "name": "ipython",
    "version": 3
   },
   "file_extension": ".py",
   "mimetype": "text/x-python",
   "name": "python",
   "nbconvert_exporter": "python",
   "pygments_lexer": "ipython3",
   "version": "3.9.13"
  },
  "toc": {
   "base_numbering": 1,
   "nav_menu": {},
   "number_sections": true,
   "sideBar": true,
   "skip_h1_title": true,
   "title_cell": "Table of Contents",
   "title_sidebar": "Contents",
   "toc_cell": false,
   "toc_position": {
    "height": "calc(100% - 180px)",
    "left": "10px",
    "top": "150px",
    "width": "348.594px"
   },
   "toc_section_display": true,
   "toc_window_display": true
  }
 },
 "nbformat": 4,
 "nbformat_minor": 2
}
